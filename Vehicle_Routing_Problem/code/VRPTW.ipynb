{
 "cells": [
  {
   "cell_type": "code",
   "execution_count": 0,
   "metadata": {
    "colab": {},
    "colab_type": "code",
    "id": "5riqhvjrX8GW"
   },
   "outputs": [],
   "source": [
    "import os\n",
    "os.chdir(\"Documents\\\\Fall 2019\\\\ISYE 4133\\\\Project\")"
   ]
  },
  {
   "cell_type": "code",
   "execution_count": 0,
   "metadata": {
    "colab": {},
    "colab_type": "code",
    "id": "PZurZZUyYG0q"
   },
   "outputs": [],
   "source": [
    "import pandas as pd\n",
    "import numpy as np\n",
    "from gurobipy import *\n",
    "import matplotlib.pyplot as plt\n",
    "\n",
    "file = \"1T1.DAT\"\n",
    "path = \"data_vrp_time_windows/\"\n",
    "cap = 100\n",
    "def read_vrptw(location, branchLimit = None):\n",
    "  with open(location,\"r\") as fin:\n",
    "    data = [item.split() for item in fin.readlines()]\n",
    "  df = pd.DataFrame(data, columns = [\"Node\",\"X\",\"Y\",\"Open 1\",\"Close 1\",\"Open 2\",\"Close 2\", \"Demand\", \"Service Time\",\"Delivery/Pickup\"], dtype = np.int64)\n",
    "  if branchLimit == None:\n",
    "    return df\n",
    "  else:\n",
    "    return df[df[\"Node\"] <= branchLimit]\n",
    "\n",
    "def showFacilities(df):\n",
    "  plt.scatter(df[df[\"Node\"]>0][\"X\"],df[df[\"Node\"]>0][\"Y\"],c=\"b\")\n",
    "  for i in df[df[\"Node\"]>0][\"Node\"]:\n",
    "    plt.annotate('$q_%d=%d$'%(i,df[df[\"Node\"]==i][\"Demand\"]),(df[df[\"Node\"]== i][\"X\"]+2,df[df[\"Node\"] == i][\"Y\"]))\n",
    "  plt.plot(df[df[\"Node\"]==0][\"X\"],df[df[\"Node\"]==0][\"Y\"],c=\"r\",marker=\"s\")\n",
    "  plt.show()\n",
    "\n",
    "def showRoutes(df,route_dic=None,active_arcs = None,file=None):\n",
    "  plt.scatter(df[df[\"Node\"]>0][\"X\"],df[df[\"Node\"]>0][\"Y\"],c=\"b\")\n",
    "  # for i in df[df[\"Node\"]>0][\"Node\"]:\n",
    "  #   plt.annotate('$q_%d=%d$'%(i,df[df[\"Node\"]==i][\"Demand\"]),(df[df[\"Node\"]== i][\"X\"]+2,df[df[\"Node\"] == i][\"Y\"]))\n",
    "  colors = [\"g\",\"b\",\"r\",\"y\",\"c\",\"k\",\"m\"]\n",
    "  if route_dic != None:\n",
    "    col=0\n",
    "    for route in route_dic:\n",
    "      active_arcs = route\n",
    "      for i,j in active_arcs:\n",
    "        plt.plot([int(df[df[\"Node\"]==i][\"X\"]),int(df[df[\"Node\"]==j][\"X\"])],[int(df[df[\"Node\"]==i][\"Y\"]),int(df[df[\"Node\"]==j][\"Y\"])],c=colors[col%7],alpha=0.3)\n",
    "      col+=1\n",
    "  else:\n",
    "    for i,j in active_arcs:\n",
    "        plt.plot([int(df[df[\"Node\"]==i][\"X\"]),int(df[df[\"Node\"]==j][\"X\"])],[int(df[df[\"Node\"]==i][\"Y\"]),int(df[df[\"Node\"]==j][\"Y\"])],c=\"g\",alpha=0.3)\n",
    "  plt.plot(df[df[\"Node\"]==0][\"X\"],df[df[\"Node\"]==0][\"Y\"],c=\"r\",marker=\"s\")\n",
    "  \n",
    "    \n",
    "  plt.plot(df[df[\"Node\"]==0][\"X\"],df[df[\"Node\"]==0][\"Y\"],c=\"r\",marker=\"s\")\n",
    "  plt.savefig(file)\n",
    "  plt.show()\n",
    "  \n",
    "\n",
    "def euclidian_dist(df):\n",
    "    return np.round(np.sqrt((pd.to_numeric(df[\"X\"])-pd.to_numeric(df[\"X.1\"]))*(pd.to_numeric(df[\"X\"])-pd.to_numeric(df[\"X.1\"])) + (pd.to_numeric(df[\"Y\"])-pd.to_numeric(df[\"Y.1\"]))*(pd.to_numeric(df[\"Y\"])-pd.to_numeric(df[\"Y.1\"]))))\n",
    "df = read_vrptw(path+file,branchLimit=11)\n",
    "branches = [node for node in df.Node if node > 0]"
   ]
  },
  {
   "cell_type": "code",
   "execution_count": 0,
   "metadata": {
    "colab": {},
    "colab_type": "code",
    "id": "eNWP_KiRZHzr"
   },
   "outputs": [],
   "source": [
    "\n",
    "nodes_1 = df[[\"Node\",\"X\",\"Y\"]].copy(deep=True)\n",
    "nodes_1.columns = [\"Node.1\",\"X.1\",\"Y.1\"]\n",
    "distance_df = pd.DataFrame([(i,j) for i in df.Node for j in df.Node if i != j], columns = [\"Node\",\"Node.1\"])\n",
    "distance_df = distance_df.merge(nodes_1,on=\"Node.1\")\n",
    "distance_df = distance_df.merge(df[[\"Node\",\"X\",\"Y\"]],on=\"Node\")\n",
    "distance_df.sort_values(axis =0, by=[\"Node\",\"Node.1\"],inplace=True)\n",
    "distance_df[\"Distance\"] = euclidian_dist(distance_df)\n",
    "\n",
    "arcs, distance = multidict({(item[0],item[1]) : [item[2]] for item in zip(distance_df[\"Node\"],distance_df[\"Node.1\"],distance_df[\"Distance\"])})\n",
    "node_list, openTimes, closeTimes, demand = multidict({item[0]:[item[1],item[2],item[3]] for item in zip(df[\"Node\"],df[\"Open 1\"],df[\"Close 1\"],df[\"Demand\"])})\n",
    "M = tupledict({(i,j):max(closeTimes[i] + distance[i,j] - openTimes[j],0) for (i,j) in arcs})"
   ]
  },
  {
   "cell_type": "code",
   "execution_count": 13,
   "metadata": {
    "colab": {
     "base_uri": "https://localhost:8080/",
     "height": 269
    },
    "colab_type": "code",
    "id": "LUKj9W3xgZlM",
    "outputId": "b9c46a66-7c32-44d6-b3da-0614001a3d08"
   },
   "outputs": [
    {
     "data": {
      "image/png": "[encoded data removed]",
      "text/plain": [
       "<Figure size 432x288 with 1 Axes>"
      ]
     },
     "metadata": {
      "tags": []
     },
     "output_type": "display_data"
    }
   ],
   "source": [
    "showFacilities(df)"
   ]
  },
  {
   "cell_type": "code",
   "execution_count": 14,
   "metadata": {
    "colab": {
     "base_uri": "https://localhost:8080/",
     "height": 1000
    },
    "colab_type": "code",
    "id": "3p5l-V3RhIwn",
    "outputId": "7008284a-485a-4ce4-a82c-c00e37abd44e"
   },
   "outputs": [
    {
     "name": "stdout",
     "output_type": "stream",
     "text": [
      "Optimize a model with 276 rows, 156 columns and 1232 nonzeros\n",
      "Variable types: 24 continuous, 132 integer (132 binary)\n",
      "Coefficient statistics:\n",
      "  Matrix range     [1e+00, 1e+03]\n",
      "  Objective range  [1e+01, 9e+01]\n",
      "  Bounds range     [1e+00, 1e+03]\n",
      "  RHS range        [1e+00, 1e+03]\n",
      "Found heuristic solution: objective 548.0000000\n",
      "Presolve removed 11 rows and 2 columns\n",
      "Presolve time: 0.01s\n",
      "Presolved: 265 rows, 154 columns, 1945 nonzeros\n",
      "Variable types: 22 continuous, 132 integer (132 binary)\n",
      "\n",
      "Root relaxation: objective 1.152000e+02, 60 iterations, 0.00 seconds\n",
      "\n",
      "    Nodes    |    Current Node    |     Objective Bounds      |     Work\n",
      " Expl Unexpl |  Obj  Depth IntInf | Incumbent    BestBd   Gap | It/Node Time\n",
      "\n",
      "     0     0  115.20000    0   18  548.00000  115.20000  79.0%     -    0s\n",
      "H    0     0                     434.0000000  115.20000  73.5%     -    0s\n",
      "H    0     0                     314.0000000  115.20000  63.3%     -    0s\n",
      "     0     0  132.20000    0   25  314.00000  132.20000  57.9%     -    0s\n",
      "H    0     0                     309.0000000  132.20000  57.2%     -    0s\n",
      "     0     0  133.00000    0   22  309.00000  133.00000  57.0%     -    0s\n",
      "     0     0  135.80000    0   21  309.00000  135.80000  56.1%     -    0s\n",
      "     0     0  143.00000    0   20  309.00000  143.00000  53.7%     -    0s\n",
      "     0     0  143.00000    0   20  309.00000  143.00000  53.7%     -    0s\n",
      "     0     0  143.00000    0   20  309.00000  143.00000  53.7%     -    0s\n",
      "H    0     0                     303.0000000  143.00000  52.8%     -    0s\n",
      "     0     0  143.00000    0   14  303.00000  143.00000  52.8%     -    0s\n",
      "     0     2  143.00000    0   12  303.00000  143.00000  52.8%     -    0s\n",
      "*10638  4948              31     301.0000000  186.00000  38.2%   8.9    1s\n",
      " 29613 10498  264.95901   26   31  301.00000  201.12281  33.2%   9.2    5s\n",
      " 44495 12427  291.08023   45   10  301.00000  201.12281  33.2%  10.2   10s\n",
      " 77757 15619  245.92284   53   20  301.00000  210.77646  30.0%  11.2   15s\n",
      " 111934 19457     cutoff   50       301.00000  223.43845  25.8%  11.7   20s\n",
      " 144256 19158     cutoff   46       301.00000  233.65474  22.4%  11.9   25s\n",
      " 175812 15042 infeasible   58       301.00000  245.76923  18.3%  12.0   30s\n",
      " 205304  8353     cutoff   55       301.00000  260.74074  13.4%  12.1   35s\n",
      "\n",
      "Cutting planes:\n",
      "  Learned: 5\n",
      "  Gomory: 14\n",
      "  Implied bound: 45\n",
      "  Clique: 4\n",
      "  MIR: 76\n",
      "  StrongCG: 2\n",
      "  Flow cover: 379\n",
      "  Inf proof: 21\n",
      "  Zero half: 17\n",
      "\n",
      "Explored 229638 nodes (2756377 simplex iterations) in 38.94 seconds\n",
      "Thread count was 8 (of 8 available processors)\n",
      "\n",
      "Solution count 6: 301 303 309 ... 548\n",
      "\n",
      "Optimal solution found (tolerance 1.00e-04)\n",
      "Best objective 3.010000000000e+02, best bound 3.010000000000e+02, gap 0.0000%\n"
     ]
    }
   ],
   "source": [
    "m = Model(\"VRPTW\")\n",
    "\n",
    "flow = m.addVars(arcs,vtype = GRB.BINARY,name=\"flow\")\n",
    "q = m.addVars(node_list,vtype = GRB.CONTINUOUS, ub = 100, name=\"q\")\n",
    "h = m.addVars(node_list,vtype = GRB.CONTINUOUS,lb=openTimes, ub=closeTimes, name=\"h\")\n",
    "\n",
    "m.addConstrs(flow.sum(i,\"*\") == 1 for i in df.Node if i > 0)\n",
    "m.addConstrs(flow.sum(\"*\",j) == 1 for j in df.Node if j > 0)\n",
    "m.addConstrs(flow.sum(i,\"*\") == flow.sum(\"*\",i) for i in df.Node)\n",
    "m.addConstrs(h[i] + distance[i,j]/3 - h[j] <= (1-flow[i,j])*M[i,j] for (i,j) in arcs if j > 0)\n",
    "m.addConstrs(q[i] + demand[j] - q[j] <= (1-flow[i,j])*cap for (i,j) in arcs if j>0)\n",
    "\n",
    "\n",
    "obj = flow.prod(distance)\n",
    "m.setObjective(obj,GRB.MINIMIZE)\n",
    "m.optimize()\n",
    "\n",
    "active_arcs = [(item) for item,val in flow.items() if val.X != 0]"
   ]
  },
  {
   "cell_type": "code",
   "execution_count": 15,
   "metadata": {
    "colab": {
     "base_uri": "https://localhost:8080/",
     "height": 269
    },
    "colab_type": "code",
    "id": "98Rwhf5Klv2w",
    "outputId": "76e1f89c-b0a4-4ffb-b35b-edb9cd2aa0f9"
   },
   "outputs": [
    {
     "data": {
      "image/png": "[encoded data removed]",
      "text/plain": [
       "<Figure size 432x288 with 1 Axes>"
      ]
     },
     "metadata": {
      "tags": []
     },
     "output_type": "display_data"
    }
   ],
   "source": [
    "showRoutes(df,active_arcs=active_arcs,file = \"VRPTW11NodeFlowForm\")"
   ]
  },
  {
   "cell_type": "markdown",
   "metadata": {
    "colab_type": "text",
    "id": "20-9urHGPa0Q"
   },
   "source": [
    "# Column Generation VRPTW"
   ]
  },
  {
   "cell_type": "markdown",
   "metadata": {
    "colab_type": "text",
    "id": "Kv6y6YMxPu8i"
   },
   "source": [
    "Generating Feasible Subset"
   ]
  },
  {
   "cell_type": "code",
   "execution_count": 0,
   "metadata": {
    "colab": {},
    "colab_type": "code",
    "id": "HySwWjr_PuVs"
   },
   "outputs": [],
   "source": [
    "subset_dict = tupledict({arc:[] for arc in arcs})\n",
    "route_cost = tupledict({})\n",
    "for node in [node for node in df.Node if node > 0]:\n",
    "    to_include = arcs.select(0,node) + arcs.select(node,0)\n",
    "    route_cost[node-1] = (np.sum(distance[arc] for arc in to_include))\n",
    "    for arc in arcs:\n",
    "        subset_dict[arc].append(1) if arc in to_include else subset_dict[arc].append(0)"
   ]
  },
  {
   "cell_type": "code",
   "execution_count": 5,
   "metadata": {
    "colab": {
     "base_uri": "https://localhost:8080/",
     "height": 357
    },
    "colab_type": "code",
    "id": "0Iv8hbimMx1_",
    "outputId": "6b0d08e5-f6d2-45da-cb32-64b57440fed7"
   },
   "outputs": [
    {
     "name": "stdout",
     "output_type": "stream",
     "text": [
      "Academic license - for non-commercial use only\n",
      "[((0, 11), 1.0), ((1, 2), 1.0), ((2, 4), 1.0), ((4, 5), 1.0), ((5, 7), 1.0), ((6, 8), 1.0), ((7, 6), 1.0), ((8, 9), 1.0), ((9, 0), 1.0), ((11, 1), 1.0)] 11 -716.0 1170.0\n",
      "[((0, 10), 1.0), ((1, 0), 1.0), ((3, 1), 1.0), ((4, 3), 1.0), ((7, 4), 1.0), ((8, 7), 1.0), ((9, 8), 1.0), ((10, 9), 1.0)] 20 -236.0 454.0\n",
      "[((0, 2), 1.0), ((2, 3), 1.0), ((3, 4), 1.0), ((4, 5), 1.0), ((5, 7), 1.0), ((7, 9), 1.0), ((9, 10), 1.0), ((10, 0), 1.0)] 29 -245.0 377.99999999999994\n",
      "[((0, 11), 1.0), ((1, 2), 1.0), ((2, 3), 1.0), ((3, 6), 1.0), ((6, 7), 1.0), ((7, 9), 1.0), ((9, 10), 1.0), ((10, 0), 1.0), ((11, 1), 1.0)] 40 -158.28 356.47999999999996\n",
      "[((0, 10), 1.0), ((1, 11), 1.0), ((3, 1), 1.0), ((4, 3), 1.0), ((5, 4), 1.0), ((6, 5), 1.0), ((8, 6), 1.0), ((9, 8), 1.0), ((10, 9), 1.0), ((11, 0), 1.0)] 47 -132.43243243243242 332.13513513513516\n",
      "[((0, 10), 1.0), ((2, 11), 1.0), ((3, 2), 1.0), ((4, 3), 1.0), ((5, 4), 1.0), ((7, 5), 1.0), ((8, 7), 1.0), ((10, 8), 1.0), ((11, 0), 1.0)] 59 -101.0 300.16666666666674\n",
      "[((0, 10), 1.0), ((1, 11), 1.0), ((3, 1), 1.0), ((4, 3), 1.0), ((5, 4), 1.0), ((6, 5), 1.0), ((7, 6), 1.0), ((8, 7), 1.0), ((9, 8), 1.0), ((10, 9), 1.0), ((11, 0), 1.0)] 68 -60.30769230769229 288.30769230769226\n",
      "[((0, 10), 1.0), ((1, 11), 1.0), ((2, 1), 1.0), ((3, 2), 1.0), ((4, 3), 1.0), ((7, 4), 1.0), ((8, 7), 1.0), ((9, 8), 1.0), ((10, 9), 1.0), ((11, 0), 1.0)] 78 -80.59999999999997 265.40000000000003\n",
      "[((0, 9), 1.0), ((2, 11), 1.0), ((3, 2), 1.0), ((4, 3), 1.0), ((5, 4), 1.0), ((6, 5), 1.0), ((7, 6), 1.0), ((8, 7), 1.0), ((9, 8), 1.0), ((11, 0), 1.0)] 87 -84.9090909090909 261.6363636363636\n",
      "[((0, 10), 1.0), ((1, 11), 1.0), ((2, 1), 1.0), ((4, 2), 1.0), ((5, 4), 1.0), ((6, 5), 1.0), ((7, 6), 1.0), ((8, 7), 1.0), ((9, 8), 1.0), ((10, 9), 1.0), ((11, 0), 1.0)] 98 -51.75000000000001 258.25\n",
      "[((0, 11), 1.0), ((1, 2), 1.0), ((2, 3), 1.0), ((3, 4), 1.0), ((4, 5), 1.0), ((5, 6), 1.0), ((6, 7), 1.0), ((7, 0), 1.0), ((11, 1), 1.0)] 108 -50.0 250.85714285714283\n",
      "[((0, 9), 1.0), ((1, 11), 1.0), ((2, 1), 1.0), ((3, 2), 1.0), ((5, 3), 1.0), ((6, 5), 1.0), ((7, 6), 1.0), ((8, 7), 1.0), ((9, 8), 1.0), ((11, 0), 1.0)] 121 -56.14285714285715 250.85714285714283\n",
      "[((0, 11), 1.0), ((1, 2), 1.0), ((2, 3), 1.0), ((3, 4), 1.0), ((4, 6), 1.0), ((6, 7), 1.0), ((7, 8), 1.0), ((8, 9), 1.0), ((9, 10), 1.0), ((10, 0), 1.0), ((11, 1), 1.0)] 129 -22.857142857142833 250.8571428571429\n",
      "[((0, 10), 1.0), ((1, 11), 1.0), ((2, 1), 1.0), ((3, 2), 1.0), ((5, 3), 1.0), ((6, 5), 1.0), ((7, 6), 1.0), ((8, 7), 1.0), ((9, 8), 1.0), ((10, 9), 1.0), ((11, 0), 1.0)] 141 -28.800000000000015 248.6\n",
      "[((0, 11), 1.0), ((2, 3), 1.0), ((3, 4), 1.0), ((4, 5), 1.0), ((5, 6), 1.0), ((6, 7), 1.0), ((7, 8), 1.0), ((8, 9), 1.0), ((9, 10), 1.0), ((10, 0), 1.0), ((11, 2), 1.0)] 155 -13.0 245.0\n",
      "[((0, 10), 1.0), ((1, 11), 1.0), ((2, 1), 1.0), ((3, 2), 1.0), ((4, 3), 1.0), ((5, 4), 1.0), ((6, 5), 1.0), ((7, 6), 1.0), ((9, 7), 1.0), ((10, 9), 1.0), ((11, 0), 1.0)] 165 -14.75 243.375\n",
      "[((0, 10), 1.0), ((1, 11), 1.0), ((2, 1), 1.0), ((3, 2), 1.0), ((4, 3), 1.0), ((5, 4), 1.0), ((7, 5), 1.0), ((8, 7), 1.0), ((9, 8), 1.0), ((10, 9), 1.0), ((11, 0), 1.0)] 178 -6.999999999999972 241.9\n",
      "[((0, 10), 1.0), ((1, 11), 1.0), ((2, 1), 1.0), ((3, 2), 1.0), ((4, 3), 1.0), ((5, 4), 1.0), ((6, 5), 1.0), ((8, 6), 1.0), ((9, 8), 1.0), ((10, 9), 1.0), ((11, 0), 1.0)] 194 -7.000000000000028 241.20000000000002\n",
      "[((0, 11), 1.0), ((2, 3), 1.0), ((3, 4), 1.0), ((4, 5), 1.0), ((5, 6), 1.0), ((6, 7), 1.0), ((7, 8), 1.0), ((8, 9), 1.0), ((9, 10), 1.0), ((10, 0), 1.0), ((11, 2), 1.0)] 200 0.0 240.50000000000003\n"
     ]
    }
   ],
   "source": [
    "ind = True\n",
    "count = 1\n",
    "while ind:\n",
    "  m = Model(\"Column Generation VRP\")\n",
    "  m.params.outputFlag = 0\n",
    "  X = m.addVars(len(route_cost),vtype=GRB.CONTINUOUS,name=\"X\")\n",
    "  m.addConstrs(quicksum(np.dot(subset_dict.select(\"*\",node),X.values())) == 1 for node in branches) #flow into each branch is one over all patterns... means we visit each branch once\n",
    "  obj = X.prod(route_cost) \n",
    "  m.setObjective(obj,GRB.MINIMIZE)\n",
    "  m.optimize()\n",
    "  \n",
    "\n",
    "  #i think the error is in here or in the creation of the objective value below\n",
    "  y = [con.getAttr(\"Pi\") for con in m.getConstrs()]\n",
    "  #print(y)\n",
    "  reduced_branch_cost = {a:b for (a,b) in zip(branches,y)}\n",
    "  reduced_branch_cost[0] = 0 ## We don't end up with a Pi for the first branch.... so i made up that it should be 0\n",
    "  reduced_cost = tupledict({(i,j): distance[i,j] - reduced_branch_cost[j] for (i,j) in arcs}) #is it - reduced_branch_cost[i] or j?\n",
    "\n",
    "  n = Model(\"Pricing Problem\")\n",
    "  n.params.outputFlag = 0\n",
    "  n.params.TimeLimit = 40\n",
    "  n.params.PoolSearchMode = 0\n",
    "  n.params.PoolSolutions = 20\n",
    "  n.params.Heuristics = .5\n",
    "\n",
    "  flow = n.addVars(arcs,vtype=GRB.BINARY,name=\"flow\")\n",
    "  q = n.addVars(df.Node,vtype=GRB.CONTINUOUS,ub=cap,name=\"q\")\n",
    "  h = n.addVars(node_list,vtype = GRB.CONTINUOUS,lb=openTimes, ub=closeTimes, name=\"h\")\n",
    "  obj = flow.prod(reduced_cost)#\"*\",branches) #this excludes the reduced of the arcs connecting to the depot... I need to include the cost of those arcs somehow tho\n",
    "  \n",
    "  n.addConstr(flow.sum(0,\"*\") == 1)\n",
    "  n.addConstr(-1*flow.sum(\"*\",0) == -1)\n",
    "  n.addConstrs(flow.sum(i,\"*\") == flow.sum(\"*\",i) for i in branches)\n",
    "  n.addConstrs(cap*(1-flow[i,j]) >= q[i] + demand[j] - q[j] for (i,j) in arcs if j>0) #arbitrarily added if j > 1 and it worked.\n",
    "  n.addConstrs(h[i] + distance[i,j]/3 - h[j] <= (1-flow[i,j])*M[i,j] for (i,j) in arcs if j > 0)\n",
    "\n",
    "  n.setObjective(obj,GRB.MINIMIZE)\n",
    "  n.optimize()\n",
    "\n",
    "  print([(item,val.X) for item,val in flow.items() if val.X !=0], max(route_cost.keys())+1,n.ObjVal, m.ObjVal)\n",
    "  count += 1\n",
    "  \n",
    "  #adding the found solutions back into the fesaible set\n",
    "  if (n.objVal >= 0 or count>50):\n",
    "    ind = False \n",
    "  else:\n",
    "    for x in range(n.solCount):\n",
    "      n.params.SolutionNumber = x\n",
    "      all_vars = n.Xn\n",
    "      flows = all_vars[:len(arcs)]\n",
    "      zipped = tupledict({arc:flow for (arc,flow) in zip(arcs,flows)})\n",
    "      if zipped.prod(reduced_cost) <= 0:\n",
    "        for (arc,val) in zipped.items():\n",
    "          subset_dict[arc].append(val)\n",
    "        route_cost[max(route_cost.keys()) + 1] = zipped.prod(distance)#(np.sum(zipped[arc]*distance[arc] for arc in arcs))\n"
   ]
  },
  {
   "cell_type": "code",
   "execution_count": 0,
   "metadata": {
    "colab": {},
    "colab_type": "code",
    "id": "mKC7jdSQQsOR"
   },
   "outputs": [],
   "source": [
    "f = Model(\"Column Generation VRP\")\n",
    "f.params.outputFlag = 0\n",
    "pats = f.addVars(len(route_cost),vtype=GRB.BINARY,name=\"X\")\n",
    "f.addConstrs(quicksum(np.dot(subset_dict.select(\"*\",node),pats.values())) == 1 for node in branches) #flow into each branch is one over all patterns... means we visit each branch once\n",
    "obj = pats.prod(route_cost) \n",
    "f.setObjective(obj,GRB.MINIMIZE)\n",
    "f.optimize()"
   ]
  },
  {
   "cell_type": "code",
   "execution_count": 7,
   "metadata": {
    "colab": {
     "base_uri": "https://localhost:8080/",
     "height": 34
    },
    "colab_type": "code",
    "id": "LKHuA8NGSpiV",
    "outputId": "55a67437-bfd8-4803-fe0b-ca022e2abdf4"
   },
   "outputs": [
    {
     "data": {
      "text/plain": [
       "303.0"
      ]
     },
     "execution_count": 7,
     "metadata": {
      "tags": []
     },
     "output_type": "execute_result"
    }
   ],
   "source": [
    "f.ObjVal"
   ]
  },
  {
   "cell_type": "code",
   "execution_count": 0,
   "metadata": {
    "colab": {},
    "colab_type": "code",
    "id": "h1XpuIPASq51"
   },
   "outputs": [],
   "source": [
    "def getAllPatterns(subset_dict,route_cost):\n",
    "  small = pd.DataFrame.from_dict(subset_dict,orient=\"index\")\n",
    "  small = small.reset_index()\n",
    "  small = small.rename(columns={\"index\":\"Arc\"})\n",
    "  new_dict = {}\n",
    "  for (key,val) in route_cost.items():\n",
    "    try:\n",
    "      new_dict[key] = val.getValue()\n",
    "    except:\n",
    "      new_dict[key] = val\n",
    "  small = small.append(pd.Series(new_dict),ignore_index=True)\n",
    "  return small\n",
    "'''\n",
    "Params:\n",
    "pats - the X var from the final Integer program run after completion of column generation\n",
    "subset_dict - the subset dictionary which was passed into master Lp at each iteration\n",
    "route_cost - the cost of each pattern\n",
    "\n",
    "Returns:\n",
    "large_active_arcs: the set of all active acrs which can be passed into showRoutes\n",
    "smallier - a datafram comtaining all the patterns used and their corresponding costs\n",
    "'''\n",
    "def getUsedPatterns(pats,subset_dict,route_cost):\n",
    "  little_boy = [var for var in pats.values() if var.X > 0]\n",
    "  index_list = [int(item.varName[2:-1]) for item in little_boy]\n",
    "  final_pats = np.array(subset_dict.values())[:,index_list]\n",
    "  patterns_taken = {arc:row for (arc,row) in zip(arcs,final_pats)}\n",
    "  active_dic={arc:np.sum(row) for (arc,row) in zip(arcs,final_pats)}\n",
    "  large_active_arcs = [(item) for item,val in active_dic.items() if val != 0]\n",
    "  smallier = pd.DataFrame.from_dict(patterns_taken,orient=\"index\",columns=index_list)\n",
    "  smallier = smallier.reset_index()\n",
    "  smallier = smallier.rename(columns={\"index\":\"Arc\"})\n",
    "  smallier = smallier.append(pd.Series({index:route_cost[index] for index in index_list}),ignore_index=True)\n",
    "  \n",
    "\n",
    "  return large_active_arcs,smallier,patterns_taken\n",
    "big = getAllPatterns(subset_dict,route_cost)\n",
    "col_active_arcs,small,patterns_taken = getUsedPatterns(pats,subset_dict, route_cost)\n",
    "\n",
    "patterns_taken_list = multidict(patterns_taken)[1:]\n",
    "new_list = []\n",
    "for item in patterns_taken_list:\n",
    "   new_list.append([(key) for (key,value) in item.items() if value > 0])"
   ]
  },
  {
   "cell_type": "code",
   "execution_count": 9,
   "metadata": {
    "colab": {
     "base_uri": "https://localhost:8080/",
     "height": 269
    },
    "colab_type": "code",
    "id": "6r08WyUEUMko",
    "outputId": "980d59ca-3406-4783-cb94-e97252489870"
   },
   "outputs": [
    {
     "data": {
      "image/png": "[encoded data removed]",
      "text/plain": [
       "<Figure size 432x288 with 1 Axes>"
      ]
     },
     "metadata": {
      "tags": []
     },
     "output_type": "display_data"
    }
   ],
   "source": [
    "showRoutes(df,route_dic=new_list,file=\"VRPTW 10 Node Patterns.png\")"
   ]
  },
  {
   "cell_type": "code",
   "execution_count": 18,
   "metadata": {
    "colab": {
     "base_uri": "https://localhost:8080/",
     "height": 34
    },
    "colab_type": "code",
    "id": "R_Z-YjtSWDVw",
    "outputId": "735ad54e-e533-4820-fe1e-3f134b234ec3"
   },
   "outputs": [
    {
     "data": {
      "text/plain": [
       "<Figure size 432x288 with 0 Axes>"
      ]
     },
     "metadata": {
      "tags": []
     },
     "output_type": "display_data"
    }
   ],
   "source": [
    "pic.savefig(\"VRPTW 100 Node Routes.png\")"
   ]
  }
 ],
 "metadata": {
  "colab": {
   "collapsed_sections": [],
   "name": "VRPTW.ipynb",
   "provenance": []
  },
  "kernelspec": {
   "display_name": "Python 3",
   "language": "python",
   "name": "python3"
  },
  "language_info": {
   "codemirror_mode": {
    "name": "ipython",
    "version": 3
   },
   "file_extension": ".py",
   "mimetype": "text/x-python",
   "name": "python",
   "nbconvert_exporter": "python",
   "pygments_lexer": "ipython3",
   "version": "3.6.5"
  }
 },
 "nbformat": 4,
 "nbformat_minor": 1
}
