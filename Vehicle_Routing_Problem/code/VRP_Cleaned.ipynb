{
 "cells": [
  {
   "cell_type": "markdown",
   "metadata": {
    "colab_type": "text",
    "id": "qJbCt7m0myDm"
   },
   "source": [
    "Changing PWD to access files"
   ]
  },
  {
   "cell_type": "code",
   "execution_count": 0,
   "metadata": {
    "colab": {},
    "colab_type": "code",
    "id": "51oGwaHmKqqH"
   },
   "outputs": [],
   "source": [
    "import os\n",
    "os.chdir(\"Documents\\\\Fall 2019\\\\ISYE 4133\\\\Project\")"
   ]
  },
  {
   "cell_type": "markdown",
   "metadata": {
    "colab_type": "text",
    "id": "Ji7KE2BvmmQT"
   },
   "source": [
    "## Reading in Data and Setting up the Notebook"
   ]
  },
  {
   "cell_type": "code",
   "execution_count": 0,
   "metadata": {
    "colab": {},
    "colab_type": "code",
    "id": "aen3t1JJhSLl"
   },
   "outputs": [],
   "source": [
    "import pandas as pd\n",
    "import numpy as np\n",
    "from gurobipy import *\n",
    "import matplotlib.pyplot as plt\n",
    "file = \"A-n32-k5.vrp\"\n",
    "\n",
    "def read_vrp(file, branchLimit = None):\n",
    "    with open(\"data_vrp/\"+file, \"r\") as fin:\n",
    "        #print(fin.read())\n",
    "        meta_data = []\n",
    "        node_coords = []\n",
    "        node_demand = []\n",
    "        lines = [line.strip() for line in fin.readlines()]\n",
    "    node_ind = lines.index(\"NODE_COORD_SECTION\")\n",
    "    dem_ind = lines.index(\"DEMAND_SECTION\")\n",
    "    dep_ind = lines.index(\"DEPOT_SECTION\")\n",
    "    EOF = lines.index(\"EOF\")-1\n",
    "    metadata = {item.split(\" : \")[0] : item.split(\" : \")[1] for item in lines[:node_ind]}\n",
    "    node_df = pd.DataFrame([line.split() for line in lines[node_ind+1:dem_ind]],columns = [\"Node\",\"X\",\"Y\"],dtype = np.int64)\n",
    "    node_df[\"X\"] = pd.to_numeric(node_df[\"X\"])\n",
    "    node_df[\"Y\"] = pd.to_numeric(node_df[\"Y\"])\n",
    "    node_df[\"Node\"] = pd.to_numeric(node_df[\"Node\"])\n",
    "    #demand_df = pd.DataFrame([line.split() for line in lines[dem_ind+1:dep_ind]],columns = [\"Node\",\"Demand\"], dtype = np.int64)\n",
    "    demand_dic = {int(line.split()[0]):int(line.split()[1]) for line in lines[dem_ind+1:dep_ind]}\n",
    "    depots = [int(node) for node in lines[dep_ind+1:EOF]]\n",
    "    if branchLimit == None:\n",
    "      return metadata,node_df,demand_dic,depots\n",
    "    else:\n",
    "      node_subset = node_df[node_df[\"Node\"] <= (branchLimit + len(depots))]\n",
    "      demand_subset = {k:v for (k,v) in demand_dic.items() if k <= (branchLimit + len(depots))}\n",
    "      return metadata,node_subset,demand_subset,depots\n",
    "\n",
    "def euclidian_dist(df):\n",
    "    return np.round(np.sqrt((pd.to_numeric(df[\"X\"])-pd.to_numeric(df[\"X.1\"]))*(pd.to_numeric(df[\"X\"])-pd.to_numeric(df[\"X.1\"])) + (pd.to_numeric(df[\"Y\"])-pd.to_numeric(df[\"Y.1\"]))*(pd.to_numeric(df[\"Y\"])-pd.to_numeric(df[\"Y.1\"]))))\n",
    "\n",
    "def showFacilities(nodes,demand_dic):\n",
    "  plt.scatter(nodes[nodes[\"Node\"].isin(branches)][\"X\"],nodes[nodes[\"Node\"].isin(branches)][\"Y\"],c=\"b\")\n",
    "  for i in branches:\n",
    "    plt.annotate('$q_{%d}=%d$'%(i,demand_dic[i]),(nodes[nodes[\"Node\"]==i][\"X\"]+2,nodes[nodes[\"Node\"] ==i][\"Y\"]))\n",
    "  plt.plot(nodes[nodes[\"Node\"].isin(depots)][\"X\"],nodes[nodes[\"Node\"].isin(depots)][\"Y\"],c=\"r\",marker=\"s\")\n",
    "  plt.show()\n",
    "\n",
    "def showRoutes(nodes,route_dic=None,active_arcs=None,file=None):\n",
    "  plt.scatter(nodes[nodes[\"Node\"].isin(branches)][\"X\"],nodes[nodes[\"Node\"].isin(branches)][\"Y\"],c=\"b\")\n",
    "  # for i in branches:\n",
    "  #   plt.annotate('$q_{%d}=%d$'%(i,demand_dic[i]),(nodes[nodes[\"Node\"]==i][\"X\"]+2,nodes[nodes[\"Node\"] ==i][\"Y\"]))\n",
    "  colors = [\"g\",\"b\",\"r\",\"y\",\"c\",\"k\",\"m\"]\n",
    "  if route_dic != None:\n",
    "    col=0\n",
    "    for route in route_dic:\n",
    "      active_arcs = route\n",
    "      for i,j in active_arcs:\n",
    "        plt.plot([int(nodes[nodes[\"Node\"]==i][\"X\"]),int(nodes[nodes[\"Node\"]==j][\"X\"])],[int(nodes[nodes[\"Node\"]==i][\"Y\"]),int(nodes[nodes[\"Node\"]==j][\"Y\"])],c=colors[col%7],alpha=0.3)\n",
    "      col+=1\n",
    "  else:\n",
    "    for i,j in active_arcs:\n",
    "        plt.plot([int(nodes[nodes[\"Node\"]==i][\"X\"]),int(nodes[nodes[\"Node\"]==j][\"X\"])],[int(nodes[nodes[\"Node\"]==i][\"Y\"]),int(nodes[nodes[\"Node\"]==j][\"Y\"])],c=\"g\",alpha=0.3)\n",
    "  plt.plot(nodes[nodes[\"Node\"].isin(depots)][\"X\"],nodes[nodes[\"Node\"].isin(depots)][\"Y\"],c=\"r\",marker=\"s\")\n",
    "  plt.savefig(file)\n",
    "  plt.show()\n",
    "\n",
    "# def showRoutes(df,route_dic=None,active_arcs = None,file=None):\n",
    "#   plt.scatter(df[df[\"Node\"]>0][\"X\"],df[df[\"Node\"]>0][\"Y\"],c=\"b\")\n",
    "#   # for i in df[df[\"Node\"]>0][\"Node\"]:\n",
    "#   #   plt.annotate('$q_%d=%d$'%(i,df[df[\"Node\"]==i][\"Demand\"]),(df[df[\"Node\"]== i][\"X\"]+2,df[df[\"Node\"] == i][\"Y\"]))\n",
    "#   colors = [\"g\",\"b\",\"r\",\"y\",\"c\",\"k\",\"m\"]\n",
    "#   if route_dic != None:\n",
    "#     col=0\n",
    "#     for route in route_dic:\n",
    "#       active_arcs = route\n",
    "#       for i,j in active_arcs:\n",
    "#         plt.plot([int(df[df[\"Node\"]==i][\"X\"]),int(df[df[\"Node\"]==j][\"X\"])],[int(df[df[\"Node\"]==i][\"Y\"]),int(df[df[\"Node\"]==j][\"Y\"])],c=colors[col%7],alpha=0.3)\n",
    "#       col+=1\n",
    "#   else:\n",
    "#     for i,j in active_arcs:\n",
    "#         plt.plot([int(df[df[\"Node\"]==i][\"X\"]),int(df[df[\"Node\"]==j][\"X\"])],[int(df[df[\"Node\"]==i][\"Y\"]),int(df[df[\"Node\"]==j][\"Y\"])],c=\"g\",alpha=0.3)\n",
    "#   plt.plot(df[df[\"Node\"]==0][\"X\"],df[df[\"Node\"]==0][\"Y\"],c=\"r\",marker=\"s\")\n",
    "\n",
    "\n",
    "meta,nodes,demand_dic,depots = read_vrp(file, branchLimit = 10)\n",
    "nodes_1 = nodes.copy(deep=True)\n",
    "nodes_1.columns = [\"Node.1\",\"X.1\",\"Y.1\"]\n",
    "distance_df = pd.DataFrame([(i,j) for i in nodes.Node for j in nodes.Node if i != j], columns = [\"Node\",\"Node.1\"])\n",
    "distance_df = distance_df.merge(nodes_1,on=\"Node.1\")\n",
    "distance_df = distance_df.merge(nodes,on=\"Node\")\n",
    "distance_df.sort_values(axis =0, by=[\"Node\",\"Node.1\"],inplace=True)\n",
    "distance_df[\"Distance\"] = euclidian_dist(distance_df)\n",
    "\n",
    "arcs, distance = multidict({(item[0],item[1]) : [item[2]] for item in zip(distance_df[\"Node\"],distance_df[\"Node.1\"],distance_df[\"Distance\"])})\n",
    "branches = [node for node in nodes.Node if node not in depots] "
   ]
  },
  {
   "cell_type": "code",
   "execution_count": 3,
   "metadata": {
    "colab": {
     "base_uri": "https://localhost:8080/",
     "height": 269
    },
    "colab_type": "code",
    "id": "5qWB6hHEqkSO",
    "outputId": "9b3defd7-706c-4db1-a5d1-090c2d16682b"
   },
   "outputs": [
    {
     "data": {
      "image/png": "[encoded data removed]",
      "text/plain": [
       "<Figure size 432x288 with 1 Axes>"
      ]
     },
     "metadata": {
      "tags": []
     },
     "output_type": "display_data"
    }
   ],
   "source": [
    "showFacilities(nodes,demand_dic)"
   ]
  },
  {
   "cell_type": "markdown",
   "metadata": {
    "colab_type": "text",
    "id": "VDObTr65mZ5n"
   },
   "source": [
    "## Flow Based Formulation"
   ]
  },
  {
   "cell_type": "code",
   "execution_count": 0,
   "metadata": {
    "colab": {},
    "colab_type": "code",
    "id": "3k1So5n2hmuw"
   },
   "outputs": [],
   "source": [
    "m = Model()\n",
    "m.params.outputFlag = 0\n",
    "flow = m.addVars(arcs,vtype=GRB.BINARY, name = \"flow\")\n",
    "q = m.addVars(nodes.Node,vtype=GRB.CONTINUOUS,ub=int(meta[\"CAPACITY\"]),name=\"q\")\n",
    "obj = flow.prod(distance)\n",
    "\n",
    "m.addConstrs(flow.sum(i,\"*\") == 1 for i in branches)\n",
    "m.addConstrs(flow.sum(\"*\",j) == 1 for j in branches)\n",
    "m.addConstrs(flow.sum(d,\"*\") == flow.sum(\"*\",d) for d in depots) \n",
    "m.addConstrs(q[i] + demand_dic[j] - q[j] <= (1-flow[i,j])*int(meta[\"CAPACITY\"]) for (i,j) in arcs if i>1 and j>1) \n",
    "\n",
    "# for arc in arcs:\n",
    "#     if arc[0] not in depots and arc[1] not in depots:\n",
    "#         m.addGenConstrIndicator(flow[arc],True,q[arc[0]] + demand_dic[arc[1]] == q[arc[1]])\n",
    "#m.addConstrs(q[i]>=demand_dic[i] for i in nodes.Node if i not in depots)\n",
    "m.setObjective(obj,GRB.MINIMIZE)\n",
    "m.optimize()\n",
    "active_arcs = [(item) for item,val in flow.items() if val.X != 0]\n",
    "m.printAttr(\"X\")"
   ]
  },
  {
   "cell_type": "code",
   "execution_count": 108,
   "metadata": {
    "colab": {
     "base_uri": "https://localhost:8080/",
     "height": 269
    },
    "colab_type": "code",
    "id": "10fXPfHXpoWG",
    "outputId": "7621a66d-3cbe-4a80-ee34-2567b6242e93"
   },
   "outputs": [
    {
     "data": {
      "image/png": "[encoded data removed]",
      "text/plain": [
       "<Figure size 432x288 with 1 Axes>"
      ]
     },
     "metadata": {
      "tags": []
     },
     "output_type": "display_data"
    }
   ],
   "source": [
    "showRoutes(nodes,active_arcs=active_arcs, file=\"CVRP 10 Flow Formulation.png\")"
   ]
  },
  {
   "cell_type": "code",
   "execution_count": 0,
   "metadata": {
    "colab": {
     "base_uri": "https://localhost:8080/",
     "height": 34
    },
    "colab_type": "code",
    "id": "lsFVkKIop84k",
    "outputId": "e8582c84-224c-4c4a-e52e-3e1415b05bc6"
   },
   "outputs": [
    {
     "data": {
      "text/plain": [
       "362.0"
      ]
     },
     "execution_count": 99,
     "metadata": {
      "tags": []
     },
     "output_type": "execute_result"
    }
   ],
   "source": [
    "m.objVal"
   ]
  },
  {
   "cell_type": "markdown",
   "metadata": {
    "colab_type": "text",
    "id": "wqdvMr1NmmFR"
   },
   "source": [
    "# Column Generation Formulation"
   ]
  },
  {
   "cell_type": "markdown",
   "metadata": {
    "colab_type": "text",
    "id": "tkYcuuOFUEZP"
   },
   "source": [
    "Feasible Subset Creation"
   ]
  },
  {
   "cell_type": "code",
   "execution_count": 0,
   "metadata": {
    "colab": {},
    "colab_type": "code",
    "id": "LePWUR9khsZ4"
   },
   "outputs": [],
   "source": [
    "subset_dict = tupledict({arc:[] for arc in arcs})\n",
    "route_cost = tupledict({})\n",
    "for node in branches:\n",
    "    to_include = arcs.select(1,node) + arcs.select(node,1)\n",
    "    route_cost[node-2] = (np.sum(distance[arc] for arc in to_include))\n",
    "    for arc in arcs:\n",
    "        subset_dict[arc].append(1) if arc in to_include else subset_dict[arc].append(0)"
   ]
  },
  {
   "cell_type": "code",
   "execution_count": 0,
   "metadata": {
    "colab": {},
    "colab_type": "code",
    "id": "bl1KeAY8wSqU"
   },
   "outputs": [],
   "source": []
  },
  {
   "cell_type": "markdown",
   "metadata": {
    "colab_type": "text",
    "id": "wUMv3jhhUMMk"
   },
   "source": [
    "Master Problem and Pricing Problem"
   ]
  },
  {
   "cell_type": "code",
   "execution_count": 110,
   "metadata": {
    "colab": {
     "base_uri": "https://localhost:8080/",
     "height": 391
    },
    "colab_type": "code",
    "id": "mwNbXNAohvZN",
    "outputId": "2c92e9fb-06ee-49f0-f158-c11dcedd9e84"
   },
   "outputs": [
    {
     "name": "stdout",
     "output_type": "stream",
     "text": [
      "[((1, 6), 1.0), ((3, 4), 1.0), ((4, 7), 1.0), ((5, 3), 1.0), ((6, 11), 1.0), ((7, 1), 1.0), ((9, 5), 1.0), ((10, 9), 1.0), ((11, 10), 1.0)] 10 -947.0 1368.0\n",
      "[((1, 5), 1.0), ((2, 1), 1.0), ((3, 4), 1.0), ((4, 8), 1.0), ((5, 3), 1.0), ((8, 2), 1.0)] 19 -188.0 421.0\n",
      "[((1, 11), 1.0), ((3, 8), 1.0), ((5, 3), 1.0), ((8, 1), 1.0), ((11, 5), 1.0)] 29 -74.0 362.0\n",
      "[((1, 10), 1.0), ((3, 8), 1.0), ((5, 3), 1.0), ((8, 1), 1.0), ((10, 5), 1.0)] 34 -107.0 362.0\n",
      "[((1, 2), 1.0), ((2, 8), 1.0), ((3, 5), 1.0), ((5, 11), 1.0), ((7, 3), 1.0), ((8, 7), 1.0), ((11, 1), 1.0)] 40 -68.0 362.0\n",
      "[((1, 6), 1.0), ((2, 1), 1.0), ((3, 7), 1.0), ((5, 3), 1.0), ((6, 5), 1.0), ((7, 8), 1.0), ((8, 2), 1.0)] 49 -84.0 362.0\n",
      "[((1, 6), 1.0), ((2, 1), 1.0), ((6, 10), 1.0), ((8, 2), 1.0), ((9, 8), 1.0), ((10, 9), 1.0)] 56 -111.0 362.0\n",
      "[((1, 6), 1.0), ((2, 1), 1.0), ((5, 7), 1.0), ((6, 11), 1.0), ((7, 8), 1.0), ((8, 2), 1.0), ((9, 5), 1.0), ((11, 9), 1.0)] 63 -109.0 362.0\n",
      "[((1, 11), 1.0), ((2, 1), 1.0), ((3, 8), 1.0), ((8, 2), 1.0), ((10, 3), 1.0), ((11, 10), 1.0)] 75 -86.0 362.0\n",
      "[((1, 2), 1.0), ((2, 8), 1.0), ((4, 5), 1.0), ((5, 10), 1.0), ((6, 1), 1.0), ((8, 4), 1.0), ((10, 11), 1.0), ((11, 6), 1.0)] 82 -68.0 362.0\n",
      "[((1, 6), 1.0), ((2, 1), 1.0), ((3, 7), 1.0), ((5, 3), 1.0), ((6, 10), 1.0), ((7, 2), 1.0), ((10, 5), 1.0)] 89 -37.0 362.0\n",
      "[((1, 6), 1.0), ((2, 1), 1.0), ((3, 8), 1.0), ((4, 3), 1.0), ((5, 4), 1.0), ((6, 11), 1.0), ((8, 2), 1.0), ((11, 5), 1.0)] 99 -63.0 362.0\n",
      "[((1, 6), 1.0), ((2, 1), 1.0), ((5, 7), 1.0), ((6, 11), 1.0), ((7, 8), 1.0), ((8, 2), 1.0), ((10, 5), 1.0), ((11, 10), 1.0)] 105 -31.0 362.0\n",
      "[((1, 6), 1.0), ((2, 1), 1.0), ((3, 8), 1.0), ((4, 3), 1.0), ((6, 11), 1.0), ((8, 2), 1.0), ((9, 4), 1.0), ((10, 9), 1.0), ((11, 10), 1.0)] 111 -66.0 362.0\n",
      "[((1, 6), 1.0), ((2, 1), 1.0), ((3, 7), 1.0), ((5, 3), 1.0), ((6, 10), 1.0), ((7, 2), 1.0), ((9, 5), 1.0), ((10, 9), 1.0)] 117 -27.0 362.0\n",
      "[((1, 6), 1.0), ((3, 8), 1.0), ((4, 3), 1.0), ((5, 4), 1.0), ((6, 11), 1.0), ((8, 1), 1.0), ((9, 5), 1.0), ((10, 9), 1.0), ((11, 10), 1.0)] 123 -21.499999999999993 362.0\n",
      "[((1, 6), 1.0), ((2, 1), 1.0), ((3, 4), 1.0), ((4, 7), 1.0), ((5, 3), 1.0), ((6, 11), 1.0), ((7, 2), 1.0), ((9, 5), 1.0), ((11, 9), 1.0)] 129 -17.66666666666668 362.0\n",
      "[((1, 2), 1.0), ((2, 8), 1.0), ((5, 9), 1.0), ((6, 1), 1.0), ((7, 5), 1.0), ((8, 7), 1.0), ((9, 10), 1.0), ((10, 6), 1.0)] 138 -8.79999999999999 362.0\n",
      "[((1, 2), 1.0), ((2, 7), 1.0), ((3, 5), 1.0), ((4, 3), 1.0), ((5, 9), 1.0), ((7, 4), 1.0), ((9, 10), 1.0), ((10, 1), 1.0)] 147 -4.5 362.0\n",
      "[((1, 6), 1.0), ((2, 1), 1.0), ((3, 2), 1.0), ((5, 3), 1.0), ((6, 11), 1.0), ((9, 5), 1.0), ((10, 9), 1.0), ((11, 10), 1.0)] 151 -6.000000000000007 362.0\n",
      "[((1, 9), 1.0), ((2, 1), 1.0), ((3, 4), 1.0), ((4, 7), 1.0), ((5, 3), 1.0), ((7, 8), 1.0), ((8, 2), 1.0), ((9, 5), 1.0)] 155 -1.0 362.0\n",
      "[((1, 8), 1.0), ((2, 1), 1.0), ((8, 2), 1.0)] 159 0.0 362.0\n"
     ]
    }
   ],
   "source": [
    "ind = True\n",
    "count = 1\n",
    "while ind:\n",
    "  m = Model(\"Column Generation VRP\")\n",
    "  m.params.outputFlag = 0\n",
    "  X = m.addVars(len(route_cost),vtype=GRB.CONTINUOUS,name=\"X\")\n",
    "  m.addConstrs(quicksum(np.dot(subset_dict.select(\"*\",node),X.values())) == 1 for node in branches) #flow into each branch is one over all patterns... means we visit each branch once\n",
    "  obj = X.prod(route_cost) \n",
    "  m.setObjective(obj,GRB.MINIMIZE)\n",
    "  m.optimize()\n",
    "  m.printAttr(\"X\")\n",
    "  m.write(\"model\"+str(count)+\".lp\")\n",
    "  \n",
    "\n",
    "  \n",
    "  y = [con.getAttr(\"Pi\") for con in m.getConstrs()]\n",
    "  #print(y)\n",
    "  reduced_branch_cost = {a:b for (a,b) in zip(branches,y)}\n",
    "  reduced_branch_cost[1] = 0 ## We don't end up with a Pi for the first branch.... so i made up that it should be 0\n",
    "  reduced_cost = tupledict({(i,j): distance[i,j] - reduced_branch_cost[j] for (i,j) in arcs}) \n",
    "\n",
    "  n = Model(\"Pricing Problem\")\n",
    "  n.params.outputFlag = 0\n",
    "  n.params.TimeLimit = 20\n",
    "  n.params.PoolSearchMode = 0\n",
    "  n.params.PoolSolutions = 20\n",
    "  n.params.Heuristics = .5\n",
    "\n",
    "  flow = n.addVars(arcs,vtype=GRB.BINARY,name=\"flow\")\n",
    "  q = n.addVars(nodes.Node,vtype=GRB.CONTINUOUS,ub=int(meta[\"CAPACITY\"]),name=\"q\")\n",
    "  obj = flow.prod(reduced_cost)\n",
    "  \n",
    "  n.addConstr(flow.sum(1,\"*\") == 1)\n",
    "  n.addConstr(-1*flow.sum(\"*\",1) == -1)\n",
    "  n.addConstrs(flow.sum(i,\"*\") == flow.sum(\"*\",i) for i in branches)\n",
    "  n.addConstrs(int(meta[\"CAPACITY\"])*(1-flow[i,j]) >= q[i] + demand_dic[j] - q[j] for (i,j) in arcs if j>1) \n",
    "  n.setObjective(obj,GRB.MINIMIZE)\n",
    "  n.optimize()\n",
    "\n",
    "  print([(item,val.X) for item,val in flow.items() if val.X !=0], max(route_cost.keys())+1,n.ObjVal, m.ObjVal)\n",
    "  count += 1\n",
    "  \n",
    "  #adding the found solutions back into the feasible set\n",
    "  if (n.objVal >= 0 or count>50):\n",
    "    ind = False \n",
    "  else:\n",
    "    for x in range(n.solCount):\n",
    "      n.params.SolutionNumber = x\n",
    "      all_vars = n.Xn\n",
    "      flows = all_vars[:len(arcs)]\n",
    "      zipped = tupledict({arc:flow for (arc,flow) in zip(arcs,flows)})\n",
    "      if zipped.prod(reduced_cost) <= 0:\n",
    "        for (arc,val) in zipped.items():\n",
    "          subset_dict[arc].append(val)\n",
    "        route_cost[max(route_cost.keys()) + 1] = zipped.prod(distance)\n"
   ]
  },
  {
   "cell_type": "code",
   "execution_count": 0,
   "metadata": {
    "colab": {},
    "colab_type": "code",
    "id": "1RlzKO_afIqc"
   },
   "outputs": [],
   "source": [
    "f = Model(\"Column Generation VRP\")\n",
    "f.params.outputFlag = 0\n",
    "pats = f.addVars(len(route_cost),vtype=GRB.BINARY,name=\"X\")\n",
    "f.addConstrs(quicksum(np.dot(subset_dict.select(\"*\",node),pats.values())) == 1 for node in branches) #flow into each branch is one over all patterns... means we visit each branch once\n",
    "obj = pats.prod(route_cost) \n",
    "f.setObjective(obj,GRB.MINIMIZE)\n",
    "f.optimize()"
   ]
  },
  {
   "cell_type": "code",
   "execution_count": 112,
   "metadata": {
    "colab": {
     "base_uri": "https://localhost:8080/",
     "height": 34
    },
    "colab_type": "code",
    "id": "kX0M4SkRg9ov",
    "outputId": "6b4450c5-a043-4f7c-840f-2fe7105b7f5c"
   },
   "outputs": [
    {
     "data": {
      "text/plain": [
       "362.0"
      ]
     },
     "execution_count": 112,
     "metadata": {
      "tags": []
     },
     "output_type": "execute_result"
    }
   ],
   "source": [
    "f.ObjVal"
   ]
  },
  {
   "cell_type": "code",
   "execution_count": 0,
   "metadata": {
    "colab": {},
    "colab_type": "code",
    "id": "JpYRjheVHMQu"
   },
   "outputs": [],
   "source": [
    "def getAllPatterns(subset_dict,route_cost):\n",
    "  small = pd.DataFrame.from_dict(subset_dict,orient=\"index\")\n",
    "  small = small.reset_index()\n",
    "  small = small.rename(columns={\"index\":\"Arc\"})\n",
    "  new_dict = {}\n",
    "  for (key,val) in route_cost.items():\n",
    "    try:\n",
    "      new_dict[key] = val.getValue()\n",
    "    except:\n",
    "      new_dict[key] = val\n",
    "  small = small.append(pd.Series(new_dict),ignore_index=True)\n",
    "  return small\n",
    "'''\n",
    "Params:\n",
    "pats - the X var from the final Integer program run after completion of column generation\n",
    "subset_dict - the subset dictionary which was passed into master Lp at each iteration\n",
    "route_cost - the cost of each pattern\n",
    "\n",
    "Returns:\n",
    "large_active_arcs: the set of all active acrs which can be passed into showRoutes\n",
    "smallier - a datafram comtaining all the patterns used and their corresponding costs\n",
    "'''\n",
    "def getUsedPatterns(pats,subset_dict,route_cost):\n",
    "  little_boy = [var for var in pats.values() if var.X > 0]\n",
    "  index_list = [int(item.varName[2:-1]) for item in little_boy]\n",
    "  final_pats = np.array(subset_dict.values())[:,index_list]\n",
    "  patterns_taken = {arc:row for (arc,row) in zip(arcs,final_pats)}\n",
    "  active_dic={arc:np.sum(row) for (arc,row) in zip(arcs,final_pats)}\n",
    "  large_active_arcs = [(item) for item,val in active_dic.items() if val != 0]\n",
    "  smallier = pd.DataFrame.from_dict(patterns_taken,orient=\"index\",columns=index_list)\n",
    "  smallier = smallier.reset_index()\n",
    "  smallier = smallier.rename(columns={\"index\":\"Arc\"})\n",
    "  smallier = smallier.append(pd.Series({index:route_cost[index] for index in index_list}),ignore_index=True)\n",
    "  \n",
    "\n",
    "  return large_active_arcs,smallier,patterns_taken\n",
    "big = getAllPatterns(subset_dict,route_cost)\n",
    "col_active_arcs,small,patterns_taken = getUsedPatterns(pats,subset_dict, route_cost)\n",
    "\n",
    "patterns_taken_list = multidict(patterns_taken)[1:]\n",
    "new_list = []\n",
    "for item in patterns_taken_list:\n",
    "   new_list.append([(key) for (key,value) in item.items() if value > 0])"
   ]
  },
  {
   "cell_type": "code",
   "execution_count": 0,
   "metadata": {
    "colab": {},
    "colab_type": "code",
    "id": "ueawu11uVwiC"
   },
   "outputs": [],
   "source": [
    "little_boy = [var for var in pats.values() if var.X > 0]\n",
    "little_boy\n",
    "index_list = [int(item.varName[2:-1]) for item in little_boy]\n",
    "final_pats = np.array(subset_dict.values())[:,index_list]\n",
    "patterns_taken = {arc:row for (arc,row) in zip(arcs,final_pats)}\n",
    "active_dic={arc:np.sum(row) for (arc,row) in zip(arcs,final_pats)}\n",
    "large_active_arcs = [(item) for item,val in active_dic.items() if val != 0]\n",
    "large_active_arcs"
   ]
  },
  {
   "cell_type": "code",
   "execution_count": 79,
   "metadata": {
    "colab": {
     "base_uri": "https://localhost:8080/",
     "height": 269
    },
    "colab_type": "code",
    "id": "1pzeCJblX7xK",
    "outputId": "9eb3af24-8ffa-47b7-8b86-9c9e55f58d16"
   },
   "outputs": [
    {
     "data": {
      "image/png": "[encoded data removed]",
      "text/plain": [
       "<Figure size 432x288 with 1 Axes>"
      ]
     },
     "metadata": {
      "tags": []
     },
     "output_type": "display_data"
    }
   ],
   "source": [
    "showRoutes(nodes,demand_dic,large_active_arcs)"
   ]
  },
  {
   "cell_type": "code",
   "execution_count": 114,
   "metadata": {
    "colab": {
     "base_uri": "https://localhost:8080/",
     "height": 269
    },
    "colab_type": "code",
    "id": "fNKuTQg0Ho0_",
    "outputId": "e4967caa-d431-4da6-d086-8fe959170053"
   },
   "outputs": [
    {
     "data": {
      "image/png": "[encoded data removed]",
      "text/plain": [
       "<Figure size 432x288 with 1 Axes>"
      ]
     },
     "metadata": {
      "tags": []
     },
     "output_type": "display_data"
    }
   ],
   "source": [
    "showRoutes(nodes,route_dic=new_list,file=\"CVRP 10 Column Gen Node Patterns.png\")"
   ]
  },
  {
   "cell_type": "code",
   "execution_count": 0,
   "metadata": {
    "colab": {},
    "colab_type": "code",
    "id": "F94Tal6qWP2-"
   },
   "outputs": [],
   "source": [
    "patterns_taken\n",
    "smallier = pd.DataFrame.from_dict(patterns_taken,orient=\"index\",columns=index_list)\n",
    "smallier = smallier.append(pd.Series({index:route_cost[index] for index in index_list}),ignore_index=True)\n",
    "smallier = smallier.reset_index()\n",
    "smallier.to_csv(\"VRP Column Generation Chosen Patterns.csv\")"
   ]
  }
 ],
 "metadata": {
  "colab": {
   "collapsed_sections": [],
   "name": "VRP Cleaned",
   "provenance": []
  },
  "kernelspec": {
   "display_name": "Python 3",
   "language": "python",
   "name": "python3"
  },
  "language_info": {
   "codemirror_mode": {
    "name": "ipython",
    "version": 3
   },
   "file_extension": ".py",
   "mimetype": "text/x-python",
   "name": "python",
   "nbconvert_exporter": "python",
   "pygments_lexer": "ipython3",
   "version": "3.6.5"
  }
 },
 "nbformat": 4,
 "nbformat_minor": 1
}
