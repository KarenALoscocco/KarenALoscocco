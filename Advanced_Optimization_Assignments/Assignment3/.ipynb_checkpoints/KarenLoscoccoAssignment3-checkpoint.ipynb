{
 "cells": [
  {
   "cell_type": "markdown",
   "metadata": {},
   "source": [
    "# Karen Loscocco\n",
    "## ISYE 4133 Assignment 3"
   ]
  },
  {
   "cell_type": "markdown",
   "metadata": {},
   "source": [
    "## 1 (a) and (b) and (c)"
   ]
  },
  {
   "cell_type": "code",
   "execution_count": 448,
   "metadata": {},
   "outputs": [],
   "source": [
    "from sympy import *\n",
    "\n",
    "c = Matrix([-1,2,0,1,3]).T\n",
    "A = Matrix([[1,-1,2,-1,0],[2,0,1,-1,1]])\n",
    "b = Matrix([0,1])"
   ]
  },
  {
   "cell_type": "markdown",
   "metadata": {
    "variables": {
     "A": "$\\displaystyle \\left[\\begin{matrix}1 & -1 & 2 & -1 & 0\\\\2 & 0 & 1 & -1 & 1\\end{matrix}\\right]$",
     "b": "$\\displaystyle \\left[\\begin{matrix}0\\\\1\\end{matrix}\\right]$",
     "c": "$\\displaystyle \\left[\\begin{matrix}-1 & 2 & 0 & 1 & 3\\end{matrix}\\right]$"
    }
   },
   "source": [
    "***Original LP:***   \n",
    "\n",
    "min {{c}} $x$   \n",
    " \n",
    "{{A}} $x$ = {{b}}   \n",
    "   \n",
    "$x \\geq 0$"
   ]
  },
  {
   "cell_type": "markdown",
   "metadata": {},
   "source": [
    "For basis: $B_1 = \\{1,4 \\}$"
   ]
  },
  {
   "cell_type": "code",
   "execution_count": 449,
   "metadata": {},
   "outputs": [],
   "source": [
    "basis = [0,3]\n",
    "Ab1 = A[:,basis]\n",
    "cb1 = c[:,basis].T\n",
    "y = Inverse(Ab1.T)*cb1"
   ]
  },
  {
   "cell_type": "markdown",
   "metadata": {
    "variables": {
     "Ab1": "$\\displaystyle \\left[\\begin{matrix}1 & -1\\\\2 & -1\\end{matrix}\\right]$",
     "cb1": "$\\displaystyle \\left[\\begin{matrix}-1\\\\1\\end{matrix}\\right]$",
     "y": "$\\displaystyle \\left[\\begin{matrix}-1\\\\0\\end{matrix}\\right]$"
    }
   },
   "source": [
    "$A_{B_1}$ = {{Ab1}}   \n",
    "   \n",
    "$c_{B_1}$ = {{cb1}}\n",
    "\n",
    "$y_{B_1} = (A_{B_1}^{-1})^Tc_{B_1}  = $ {{y}}"
   ]
  },
  {
   "cell_type": "code",
   "execution_count": 450,
   "metadata": {},
   "outputs": [],
   "source": [
    "newc = (c.T - A.T*y).T\n",
    "newcc = (b.T*y)[0]\n",
    "newa = Inverse(Ab1)*A\n",
    "newb = Inverse(Ab1)*b"
   ]
  },
  {
   "cell_type": "markdown",
   "metadata": {
    "variables": {
     "newa": "$\\displaystyle \\left[\\begin{matrix}1 & 1 & -1 & 0 & 1\\\\0 & 2 & -3 & 1 & 1\\end{matrix}\\right]$",
     "newb": "$\\displaystyle \\left[\\begin{matrix}1\\\\1\\end{matrix}\\right]$",
     "newc": "$\\displaystyle \\left[\\begin{matrix}0 & 1 & 2 & 0 & 3\\end{matrix}\\right]$"
    }
   },
   "source": [
    "New Cost Function: $(c^T-A^Ty)^T = $ {{newc}}   \n",
    "   \n",
    "New Constraints:    \n",
    "\n",
    "$(A_{B_1}^{-1})A = $ {{newa}}     \n",
    "   \n",
    "$(A_{B_1}^{-1})b = $  {{newb}}\n",
    "   "
   ]
  },
  {
   "cell_type": "markdown",
   "metadata": {
    "variables": {
     "newa": "$\\displaystyle \\left[\\begin{matrix}1 & 1 & -1 & 0 & 1\\\\0 & 2 & -3 & 1 & 1\\end{matrix}\\right]$",
     "newb": "$\\displaystyle \\left[\\begin{matrix}1\\\\1\\end{matrix}\\right]$",
     "newc": "$\\displaystyle \\left[\\begin{matrix}0 & 1 & 2 & 0 & 3\\end{matrix}\\right]$",
     "newcc": "$\\displaystyle 0$"
    }
   },
   "source": [
    "&nbsp;  \n",
    "***LP for basis: {1,4}***\n",
    "\n",
    "min {{newc}}  $x$ $+$  {{newcc}}   \n",
    "    \n",
    "{{newa}} $x$ = {{newb}}   \n",
    "   \n",
    "$x \\geq 0$   \n",
    "   \n",
    "***This basis is feasible and optimal.***    \n",
    "Solution: $x= (1,0,0,1,0)$ and objective value is $0$.   \n",
    "All elements of the cost function are positive. Therefore, there is no need to continue the simplex method because already optimal.   "
   ]
  },
  {
   "cell_type": "markdown",
   "metadata": {},
   "source": [
    "&nbsp;    \n",
    "&nbsp;    \n",
    "For basis:  $B_2 = \\{3,5 \\}$"
   ]
  },
  {
   "cell_type": "code",
   "execution_count": 408,
   "metadata": {},
   "outputs": [],
   "source": [
    "basis = [2,4]\n",
    "Ab1 = A[:,basis]\n",
    "cb1 = c[:,basis].T\n",
    "y = Inverse(Ab1.T)*cb1"
   ]
  },
  {
   "cell_type": "markdown",
   "metadata": {
    "variables": {
     "Ab1": "$\\displaystyle \\left[\\begin{matrix}2 & 0\\\\1 & 1\\end{matrix}\\right]$",
     "cb1": "$\\displaystyle \\left[\\begin{matrix}0\\\\3\\end{matrix}\\right]$",
     "y": "$\\displaystyle \\left[\\begin{matrix}- \\frac{3}{2}\\\\3\\end{matrix}\\right]$"
    }
   },
   "source": [
    "$A_{B_1}$ = {{Ab1}}   \n",
    "   \n",
    "$c_{B_1}$ = {{cb1}}\n",
    "\n",
    "$y_{B_1} = (A_{B_1}^{-1})^Tc_{B_1}  = $ {{y}}"
   ]
  },
  {
   "cell_type": "code",
   "execution_count": 409,
   "metadata": {},
   "outputs": [],
   "source": [
    "newc = (c.T - A.T*y).T\n",
    "newcc = (b.T*y)[0]\n",
    "newa = Inverse(Ab1)*A\n",
    "newb = Inverse(Ab1)*b"
   ]
  },
  {
   "cell_type": "markdown",
   "metadata": {
    "variables": {
     "newa": "$\\displaystyle \\left[\\begin{matrix}\\frac{1}{2} & - \\frac{1}{2} & 1 & - \\frac{1}{2} & 0\\\\\\frac{3}{2} & \\frac{1}{2} & 0 & - \\frac{1}{2} & 1\\end{matrix}\\right]$",
     "newb": "$\\displaystyle \\left[\\begin{matrix}0\\\\1\\end{matrix}\\right]$",
     "newc": "$\\displaystyle \\left[\\begin{matrix}- \\frac{11}{2} & \\frac{1}{2} & 0 & \\frac{5}{2} & 0\\end{matrix}\\right]$"
    }
   },
   "source": [
    "New Cost Function: $(c^T-A^Ty)^T = $ {{newc}}   \n",
    "   \n",
    "New Constraints: $(A_{B_1}^{-1})A = $ {{newa}}     \n",
    "   \n",
    "$(A_{B_1}^{-1})b = $  {{newb}}\n",
    "   "
   ]
  },
  {
   "cell_type": "markdown",
   "metadata": {
    "variables": {
     "(c.T - A.T*y).T": "$\\displaystyle \\left[\\begin{matrix}- \\frac{11}{2} & \\frac{1}{2} & 0 & \\frac{5}{2} & 0\\end{matrix}\\right]$",
     "newa": "$\\displaystyle \\left[\\begin{matrix}\\frac{1}{2} & - \\frac{1}{2} & 1 & - \\frac{1}{2} & 0\\\\\\frac{3}{2} & \\frac{1}{2} & 0 & - \\frac{1}{2} & 1\\end{matrix}\\right]$",
     "newb": "$\\displaystyle \\left[\\begin{matrix}0\\\\1\\end{matrix}\\right]$",
     "newcc": "$\\displaystyle 3$"
    }
   },
   "source": [
    "&nbsp;  \n",
    "***LP for basis: {3,5}***\n",
    "\n",
    "min {{(c.T - A.T*y).T}}  $x$ $+$  {{newcc}}   \n",
    "    \n",
    "{{newa}} $x$ = {{newb}}   \n",
    "   \n",
    "$x \\geq 0$\n",
    "\n",
    "***This basis is feasible but not optimal***"
   ]
  },
  {
   "cell_type": "markdown",
   "metadata": {},
   "source": [
    "Pick $x_1$ to include in basis:   \n",
    "$min(\\frac{0}{1/2}, \\frac{1}{3/2}) = 0$    \n",
    "So $x_3$ leaves the basis   \n",
    "\n",
    "Now basis is {1,5}"
   ]
  },
  {
   "cell_type": "code",
   "execution_count": 410,
   "metadata": {},
   "outputs": [],
   "source": [
    "basis = [0,4]\n",
    "Ab = A[:,basis]\n",
    "cb = c[:,basis].T\n",
    "y = Inverse(Ab.T)*cb\n",
    "\n",
    "newc = (c.T - A.T*y)\n",
    "newcc = (b.T*y)[0]\n",
    "newa = Inverse(Ab)*A\n",
    "newb = Inverse(Ab)*b"
   ]
  },
  {
   "cell_type": "markdown",
   "metadata": {
    "variables": {
     "newa": "$\\displaystyle \\left[\\begin{matrix}1 & -1 & 2 & -1 & 0\\\\0 & 2 & -3 & 1 & 1\\end{matrix}\\right]$",
     "newb": "$\\displaystyle \\left[\\begin{matrix}0\\\\1\\end{matrix}\\right]$",
     "newc.T": "$\\displaystyle \\left[\\begin{matrix}0 & -5 & 11 & -3 & 0\\end{matrix}\\right]$",
     "newcc": "$\\displaystyle 3$"
    }
   },
   "source": [
    "LP for new basis:   \n",
    "\n",
    "min {{newc.T}}  $x$ $+$  {{newcc}}   \n",
    "    \n",
    "{{newa}} $x$ = {{newb}}   \n",
    "   \n",
    "$x \\geq 0$\n",
    "\n"
   ]
  },
  {
   "cell_type": "markdown",
   "metadata": {},
   "source": [
    "## 2 (a)"
   ]
  },
  {
   "cell_type": "code",
   "execution_count": 420,
   "metadata": {},
   "outputs": [],
   "source": [
    "c = Matrix([-1,-3,-2]).T\n",
    "A = Matrix([[1,-2,1],[-1,3,-2]])\n",
    "b = Matrix([2,-3])"
   ]
  },
  {
   "cell_type": "markdown",
   "metadata": {
    "variables": {
     "A": "$\\displaystyle \\left[\\begin{matrix}1 & -2 & 1\\\\-1 & 3 & -2\\end{matrix}\\right]$",
     "b": "$\\displaystyle \\left[\\begin{matrix}2\\\\-3\\end{matrix}\\right]$",
     "c": "$\\displaystyle \\left[\\begin{matrix}-1 & -3 & -2\\end{matrix}\\right]$"
    }
   },
   "source": [
    "Original LP:   \n",
    "\n",
    "min {{c}} $x$   \n",
    " \n",
    "{{A}} $x$ = {{b}}   \n",
    "   \n",
    "$x \\geq 0$"
   ]
  },
  {
   "cell_type": "markdown",
   "metadata": {},
   "source": [
    "&nbsp;  \n",
    "\n",
    "Phase1: Introduce new variables and iterate until obtain first basis to solve original LP"
   ]
  },
  {
   "cell_type": "code",
   "execution_count": 421,
   "metadata": {},
   "outputs": [],
   "source": [
    "getfirstb_c = Matrix([0,0,0,1,1]).T\n",
    "getfirstb_A = A.col_insert(3, Matrix([[1, 0],[0,1]]))"
   ]
  },
  {
   "cell_type": "markdown",
   "metadata": {
    "variables": {
     "b": "$\\displaystyle \\left[\\begin{matrix}2\\\\-3\\end{matrix}\\right]$",
     "getfirstb_A": "$\\displaystyle \\left[\\begin{matrix}1 & -2 & 1 & 1 & 0\\\\-1 & 3 & -2 & 0 & 1\\end{matrix}\\right]$",
     "getfirstb_c": "$\\displaystyle \\left[\\begin{matrix}0 & 0 & 0 & 1 & 1\\end{matrix}\\right]$"
    }
   },
   "source": [
    "min {{getfirstb_c}} $x$   \n",
    " \n",
    "{{getfirstb_A}} $x$ = {{b}}   \n",
    "   \n",
    "$x \\geq 0$"
   ]
  },
  {
   "cell_type": "markdown",
   "metadata": {},
   "source": [
    "Starting basis: {4,5}"
   ]
  },
  {
   "cell_type": "code",
   "execution_count": 422,
   "metadata": {},
   "outputs": [],
   "source": [
    "basis = [3,4]\n",
    "Ab = getfirstb_A[:,basis]\n",
    "cb = getfirstb_c[:,basis].T\n",
    "y = Inverse(Ab.T)*cb\n",
    "\n",
    "newc = (getfirstb_c.T - getfirstb_A.T*y)\n",
    "newcc = (b.T*y)[0]\n",
    "newa = Inverse(Ab)*getfirstb_A\n",
    "newb = Inverse(Ab)*b"
   ]
  },
  {
   "cell_type": "markdown",
   "metadata": {
    "variables": {
     "newa": "$\\displaystyle \\left[\\begin{matrix}- \\frac{1}{3} & 1 & - \\frac{2}{3} & 0 & \\frac{1}{3}\\\\\\frac{1}{3} & 0 & - \\frac{1}{3} & 1 & \\frac{2}{3}\\end{matrix}\\right]$",
     "newb": "$\\displaystyle \\left[\\begin{matrix}-1\\\\0\\end{matrix}\\right]$",
     "newc.T": "$\\displaystyle \\left[\\begin{matrix}- \\frac{1}{3} & 0 & \\frac{1}{3} & 0 & \\frac{1}{3}\\end{matrix}\\right]$",
     "newcc": "$\\displaystyle 0$"
    }
   },
   "source": [
    "LP for new basis:   \n",
    "\n",
    "min {{newc.T}}  $x$ $+$  {{newcc}}   \n",
    "    \n",
    "{{newa}} $x$ = {{newb}}   \n",
    "   \n",
    "$x \\geq 0$\n",
    "\n"
   ]
  },
  {
   "cell_type": "markdown",
   "metadata": {},
   "source": [
    "Pick $x_2$ to include in basis:   \n",
    "$min(\\frac{-3}{3}) = -1$    \n",
    "So $x_5$ leaves the basis   \n",
    "\n",
    "Now basis is {2,4}"
   ]
  },
  {
   "cell_type": "code",
   "execution_count": 424,
   "metadata": {},
   "outputs": [],
   "source": [
    "basis = [1,3]\n",
    "Ab = getfirstb_A[:,basis]\n",
    "cb = getfirstb_c[:,basis].T\n",
    "y = Inverse(Ab.T)*cb\n",
    "\n",
    "newc = (getfirstb_c.T - getfirstb_A.T*y)\n",
    "newcc = (b.T*y)[0]\n",
    "newa = Inverse(Ab)*getfirstb_A\n",
    "newb = Inverse(Ab)*b"
   ]
  },
  {
   "cell_type": "markdown",
   "metadata": {
    "variables": {
     "newa": "$\\displaystyle \\left[\\begin{matrix}- \\frac{1}{3} & 1 & - \\frac{2}{3} & 0 & \\frac{1}{3}\\\\\\frac{1}{3} & 0 & - \\frac{1}{3} & 1 & \\frac{2}{3}\\end{matrix}\\right]$",
     "newb": "$\\displaystyle \\left[\\begin{matrix}-1\\\\0\\end{matrix}\\right]$",
     "newc.T": "$\\displaystyle \\left[\\begin{matrix}- \\frac{1}{3} & 0 & \\frac{1}{3} & 0 & \\frac{1}{3}\\end{matrix}\\right]$",
     "newcc": "$\\displaystyle 0$"
    }
   },
   "source": [
    "LP for new basis:   \n",
    "\n",
    "min {{newc.T}}  $x$ $+$  {{newcc}}   \n",
    "    \n",
    "{{newa}} $x$ = {{newb}}   \n",
    "   \n",
    "$x \\geq 0$\n",
    "\n"
   ]
  },
  {
   "cell_type": "markdown",
   "metadata": {},
   "source": [
    "Pick $x_1$ to include in basis:   \n",
    "$min(\\frac{0}{1/3}) = 0$    \n",
    "So $x_4$ leaves the basis   \n",
    "\n",
    "Now basis is {1,2}"
   ]
  },
  {
   "cell_type": "markdown",
   "metadata": {},
   "source": [
    "&nbsp;  \n",
    "\n",
    "Phase2: Iterate until the stopping conditions are met\n",
    "\n",
    "\n",
    "Starting basis for original LP: {1,2}"
   ]
  },
  {
   "cell_type": "code",
   "execution_count": 425,
   "metadata": {},
   "outputs": [],
   "source": [
    "c = Matrix([-1,-3,-2]).T\n",
    "A = Matrix([[1,-2,1],[-1,3,-2]])\n",
    "b = Matrix([2,-3])"
   ]
  },
  {
   "cell_type": "markdown",
   "metadata": {
    "variables": {
     "A": "$\\displaystyle \\left[\\begin{matrix}1 & -2 & 1\\\\-1 & 3 & -2\\end{matrix}\\right]$",
     "b": "$\\displaystyle \\left[\\begin{matrix}2\\\\-3\\end{matrix}\\right]$",
     "c": "$\\displaystyle \\left[\\begin{matrix}-1 & -3 & -2\\end{matrix}\\right]$"
    }
   },
   "source": [
    "Original LP:   \n",
    "\n",
    "min {{c}} $x$   \n",
    " \n",
    "{{A}} $x$ = {{b}}   \n",
    "   \n",
    "$x \\geq 0$"
   ]
  },
  {
   "cell_type": "code",
   "execution_count": 345,
   "metadata": {},
   "outputs": [],
   "source": [
    "basis = [0,1]\n",
    "Ab = A[:,basis]\n",
    "cb = c[:,basis].T\n",
    "y = Inverse(Ab.T)*cb\n",
    "\n",
    "newc = (c.T - A.T*y)\n",
    "newcc = (b.T*y)[0]\n",
    "newa = Inverse(Ab)*A\n",
    "newb = Inverse(Ab)*b"
   ]
  },
  {
   "cell_type": "markdown",
   "metadata": {
    "variables": {
     "newa": "$\\displaystyle \\left[\\begin{matrix}1 & 0 & -1\\\\0 & 1 & -1\\end{matrix}\\right]$",
     "newb": "$\\displaystyle \\left[\\begin{matrix}0\\\\-1\\end{matrix}\\right]$",
     "newc.T": "$\\displaystyle \\left[\\begin{matrix}0 & 0 & -6\\end{matrix}\\right]$",
     "newcc": "$\\displaystyle 3$"
    }
   },
   "source": [
    "LP for new basis:   \n",
    "\n",
    "min {{newc.T}}  $x$ $+$  {{newcc}}   \n",
    "    \n",
    "{{newa}} $x$ = {{newb}}   \n",
    "   \n",
    "$x \\geq 0$\n",
    "\n"
   ]
  },
  {
   "cell_type": "markdown",
   "metadata": {},
   "source": [
    "Pick $x_3$ to include in basis:   \n",
    "All ratios are negative, so $x_3$ can be made as large as desired.   \n",
    "This means the ***solution is unbounded.***"
   ]
  },
  {
   "cell_type": "markdown",
   "metadata": {},
   "source": [
    "Verify in Gurobi: "
   ]
  },
  {
   "cell_type": "code",
   "execution_count": 400,
   "metadata": {},
   "outputs": [],
   "source": [
    "from gurobipy import *\n",
    "\n",
    "def printOptimal(m):\n",
    "    if m.Status == GRB.OPTIMAL:\n",
    "        print('Variable Values:')\n",
    "        for v in m.getVars():\n",
    "            print(v.VarName, v.X)\n",
    "        \n",
    "        print('\\nObjective Value: {}\\n'.format(str(m.objVal)))\n",
    "        print('\\nRuntime: {}\\n'.format(m.Runtime))"
   ]
  },
  {
   "cell_type": "code",
   "execution_count": 401,
   "metadata": {},
   "outputs": [
    {
     "name": "stdout",
     "output_type": "stream",
     "text": [
      "Optimize a model with 2 rows, 3 columns and 6 nonzeros\n",
      "Coefficient statistics:\n",
      "  Matrix range     [1e+00, 3e+00]\n",
      "  Objective range  [1e+00, 3e+00]\n",
      "  Bounds range     [0e+00, 0e+00]\n",
      "  RHS range        [2e+00, 3e+00]\n",
      "Presolve time: 0.00s\n",
      "Presolved: 2 rows, 3 columns, 6 nonzeros\n",
      "\n",
      "Iteration    Objective       Primal Inf.    Dual Inf.      Time\n",
      "       0   -9.0000000e+30   1.750000e+30   9.000000e+00      0s\n",
      "\n",
      "Solved in 2 iterations and 0.01 seconds\n",
      "Unbounded model\n"
     ]
    }
   ],
   "source": [
    "import numpy as np\n",
    "c = np.array([-1,-3,-2])\n",
    "A = np.array([[1,-2,1],[-1,3,-2]])\n",
    "b = np.array([2,-3])\n",
    "\n",
    "m = Model()\n",
    "\n",
    "X = m.addVars(3, name = 'X', lb = 0)\n",
    "\n",
    "m.setObjective(np.dot(c,X.values()), GRB.MINIMIZE)\n",
    "\n",
    "for i in range(A.shape[0]):\n",
    "    m.addConstr(np.dot(A[i,:],X.values()) == b[i])\n",
    "\n",
    "m.optimize()\n",
    "\n",
    "printOptimal(m)"
   ]
  },
  {
   "cell_type": "markdown",
   "metadata": {},
   "source": [
    "## 2 (b)"
   ]
  },
  {
   "cell_type": "code",
   "execution_count": 427,
   "metadata": {},
   "outputs": [],
   "source": [
    "c = Matrix([-27,-2,6]).T\n",
    "A = Matrix([[2,4,2],[-1,-3,-2]])\n",
    "b = Matrix([2,0])"
   ]
  },
  {
   "cell_type": "markdown",
   "metadata": {
    "variables": {
     "A": "$\\displaystyle \\left[\\begin{matrix}2 & 4 & 2\\\\-1 & -3 & -2\\end{matrix}\\right]$",
     "b": "$\\displaystyle \\left[\\begin{matrix}2\\\\0\\end{matrix}\\right]$",
     "c": "$\\displaystyle \\left[\\begin{matrix}-27 & -2 & 6\\end{matrix}\\right]$"
    }
   },
   "source": [
    "Original LP:   \n",
    "\n",
    "min {{c}} $x$   \n",
    " \n",
    "{{A}} $x$ = {{b}}   \n",
    "   \n",
    "$x \\geq 0$"
   ]
  },
  {
   "cell_type": "markdown",
   "metadata": {},
   "source": [
    "&nbsp;  \n",
    "\n",
    "Phase1: Introduce new variables and iterate until obtain first basis to solve original LP"
   ]
  },
  {
   "cell_type": "code",
   "execution_count": 428,
   "metadata": {},
   "outputs": [],
   "source": [
    "getfirstb_c = Matrix([0,0,0,1,1]).T\n",
    "getfirstb_A = A.col_insert(3, Matrix([[1, 0],[0,1]]))"
   ]
  },
  {
   "cell_type": "markdown",
   "metadata": {
    "variables": {
     "b": "$\\displaystyle \\left[\\begin{matrix}2\\\\0\\end{matrix}\\right]$",
     "getfirstb_A": "$\\displaystyle \\left[\\begin{matrix}2 & 4 & 2 & 1 & 0\\\\-1 & -3 & -2 & 0 & 1\\end{matrix}\\right]$",
     "getfirstb_c": "$\\displaystyle \\left[\\begin{matrix}0 & 0 & 0 & 1 & 1\\end{matrix}\\right]$"
    }
   },
   "source": [
    "min {{getfirstb_c}} $x$   \n",
    " \n",
    "{{getfirstb_A}} $x$ = {{b}}   \n",
    "   \n",
    "$x \\geq 0$"
   ]
  },
  {
   "cell_type": "markdown",
   "metadata": {},
   "source": [
    "starting basis: {4,5}"
   ]
  },
  {
   "cell_type": "code",
   "execution_count": 429,
   "metadata": {},
   "outputs": [],
   "source": [
    "basis = [3,4]\n",
    "Ab = getfirstb_A[:,basis]\n",
    "cb = getfirstb_c[:,basis].T\n",
    "y = Inverse(Ab.T)*cb\n",
    "\n",
    "newc = (getfirstb_c.T - getfirstb_A.T*y)\n",
    "newcc = (b.T*y)[0]\n",
    "newa = Inverse(Ab)*getfirstb_A\n",
    "newb = Inverse(Ab)*b"
   ]
  },
  {
   "cell_type": "markdown",
   "metadata": {
    "variables": {
     "newa": "$\\displaystyle \\left[\\begin{matrix}2 & 4 & 2 & 1 & 0\\\\-1 & -3 & -2 & 0 & 1\\end{matrix}\\right]$",
     "newb": "$\\displaystyle \\left[\\begin{matrix}2\\\\0\\end{matrix}\\right]$",
     "newc.T": "$\\displaystyle \\left[\\begin{matrix}-1 & -1 & 0 & 0 & 0\\end{matrix}\\right]$",
     "newcc": "$\\displaystyle 2$"
    }
   },
   "source": [
    "LP for new basis:   \n",
    "\n",
    "min {{newc.T}}  $x$ $+$  {{newcc}}   \n",
    "    \n",
    "{{newa}} $x$ = {{newb}}   \n",
    "   \n",
    "$x \\geq 0$\n",
    "\n"
   ]
  },
  {
   "cell_type": "markdown",
   "metadata": {},
   "source": [
    "Pick $x_1$ to include in basis:   \n",
    "$min(\\frac{2}{2}) = 1$    \n",
    "So $x_4$ leaves the basis   \n",
    "\n",
    "Now basis is {1,5}"
   ]
  },
  {
   "cell_type": "code",
   "execution_count": 430,
   "metadata": {},
   "outputs": [],
   "source": [
    "basis = [0,4]\n",
    "Ab = getfirstb_A[:,basis]\n",
    "cb = getfirstb_c[:,basis].T\n",
    "y = Inverse(Ab.T)*cb\n",
    "\n",
    "newc = (getfirstb_c.T - getfirstb_A.T*y)\n",
    "newcc = (b.T*y)[0]\n",
    "newa = Inverse(Ab)*getfirstb_A\n",
    "newb = Inverse(Ab)*b"
   ]
  },
  {
   "cell_type": "markdown",
   "metadata": {
    "variables": {
     "newa": "$\\displaystyle \\left[\\begin{matrix}1 & 2 & 1 & \\frac{1}{2} & 0\\\\0 & -1 & -1 & \\frac{1}{2} & 1\\end{matrix}\\right]$",
     "newb": "$\\displaystyle \\left[\\begin{matrix}1\\\\1\\end{matrix}\\right]$",
     "newc.T": "$\\displaystyle \\left[\\begin{matrix}0 & 1 & 1 & \\frac{1}{2} & 0\\end{matrix}\\right]$",
     "newcc": "$\\displaystyle 1$"
    }
   },
   "source": [
    "LP for new basis:   \n",
    "\n",
    "min {{newc.T}}  $x$ $+$  {{newcc}}   \n",
    "    \n",
    "{{newa}} $x$ = {{newb}}   \n",
    "   \n",
    "$x \\geq 0$\n",
    "\n"
   ]
  },
  {
   "cell_type": "markdown",
   "metadata": {},
   "source": [
    "All elements of cost function are positive so do not perform another iteration of the simplex method. The optimal solution for this altered LP is $x = (1,0,0,0,1)$ and the optimal objective value is 1.   \n",
    "An optimal objective value of 0 was needed for the altered LP in order to have feasibility in the original LP for $x_1$,$x_2$, and $x_3$. ($x_4 + x_5 = 0$ $\\implies$ $x_4 = x_5 = 0$). Since the optimal objective value for the altered LP is not 0, the ***original LP is infeasible.***"
   ]
  },
  {
   "cell_type": "markdown",
   "metadata": {},
   "source": [
    "Verify in Gurobi: "
   ]
  },
  {
   "cell_type": "code",
   "execution_count": 399,
   "metadata": {},
   "outputs": [
    {
     "name": "stdout",
     "output_type": "stream",
     "text": [
      "Optimize a model with 2 rows, 3 columns and 6 nonzeros\n",
      "Coefficient statistics:\n",
      "  Matrix range     [1e+00, 4e+00]\n",
      "  Objective range  [2e+00, 3e+01]\n",
      "  Bounds range     [0e+00, 0e+00]\n",
      "  RHS range        [2e+00, 2e+00]\n",
      "Presolve removed 1 rows and 3 columns\n",
      "Presolve time: 0.00s\n",
      "\n",
      "Solved in 0 iterations and 0.01 seconds\n",
      "Infeasible or unbounded model\n"
     ]
    }
   ],
   "source": [
    "c = np.array([-27,-2,6])\n",
    "A = np.array([[2,4,2],[-1,-3,-2]])\n",
    "b = np.array([2,0])\n",
    "\n",
    "m = Model()\n",
    "\n",
    "X = m.addVars(3, name = 'X', lb = 0)\n",
    "\n",
    "m.setObjective(np.dot(c,X.values()), GRB.MINIMIZE)\n",
    "\n",
    "for i in range(A.shape[0]):\n",
    "    m.addConstr(np.dot(A[i,:],X.values()) == b[i])\n",
    "\n",
    "m.optimize()\n",
    "\n",
    "printOptimal(m)"
   ]
  },
  {
   "cell_type": "markdown",
   "metadata": {
    "variables": {
     "Matrix([-1,-2,-3,-2,0,0]).T": "$\\displaystyle \\left[\\begin{matrix}-1 & -2 & -3 & -2 & 0 & 0\\end{matrix}\\right]$",
     "Matrix([1,2,3,2]).T": "$\\displaystyle \\left[\\begin{matrix}1 & 2 & 3 & 2\\end{matrix}\\right]$",
     "Matrix([6,10])": "$\\displaystyle \\left[\\begin{matrix}6\\\\10\\end{matrix}\\right]$",
     "Matrix([[1,2,2,1,1,0],[0,1,1,2,0,1]])": "$\\displaystyle \\left[\\begin{matrix}1 & 2 & 2 & 1 & 1 & 0\\\\0 & 1 & 1 & 2 & 0 & 1\\end{matrix}\\right]$",
     "Matrix([[1,2,2,1],[0,1,1,2]])": "$\\displaystyle \\left[\\begin{matrix}1 & 2 & 2 & 1\\\\0 & 1 & 1 & 2\\end{matrix}\\right]$"
    }
   },
   "source": [
    "## 3  (a) \n",
    "$x_i$: amount of gold type $i$   \n",
    "     \n",
    "max {{Matrix([1,2,3,2]).T}} $x$     \n",
    "   \n",
    "{{Matrix([[1,2,2,1],[0,1,1,2]])}} $x$ $\\leq$ {{Matrix([6,10])}}   \n",
    "   \n",
    "$x \\geq 0$   \n",
    "   \n",
    "## 3  (b)       \n",
    "Standard Form:   \n",
    "\n",
    "min {{Matrix([-1,-2,-3,-2,0,0]).T}} $x$ \n",
    "   \n",
    "{{Matrix([[1,2,2,1,1,0],[0,1,1,2,0,1]])}} $x$ = {{Matrix([6,10])}}   \n",
    "   \n",
    "$x \\geq 0$\n",
    "\n",
    "\n",
    "## 3  (c)     \n"
   ]
  },
  {
   "cell_type": "code",
   "execution_count": 439,
   "metadata": {},
   "outputs": [],
   "source": [
    "c = Matrix([-1,-2,-3,-2,0,0]).T\n",
    "A = Matrix([[1,2,2,1,1,0],[0,1,1,2,0,1]])\n",
    "b = Matrix([6,10])"
   ]
  },
  {
   "cell_type": "markdown",
   "metadata": {},
   "source": [
    "Phase 1: Find starting basis"
   ]
  },
  {
   "cell_type": "code",
   "execution_count": 440,
   "metadata": {},
   "outputs": [],
   "source": [
    "getfirstb_c = Matrix([0,0,0,0,0,0,1,1]).T\n",
    "getfirstb_A = A.col_insert(6, Matrix([[1, 0],[0,1]]))"
   ]
  },
  {
   "cell_type": "markdown",
   "metadata": {
    "variables": {
     "b": "$\\displaystyle \\left[\\begin{matrix}6\\\\10\\end{matrix}\\right]$",
     "getfirstb_A": "$\\displaystyle \\left[\\begin{matrix}1 & 2 & 2 & 1 & 1 & 0 & 1 & 0\\\\0 & 1 & 1 & 2 & 0 & 1 & 0 & 1\\end{matrix}\\right]$",
     "getfirstb_c": "$\\displaystyle \\left[\\begin{matrix}0 & 0 & 0 & 0 & 0 & 0 & 1 & 1\\end{matrix}\\right]$"
    }
   },
   "source": [
    "min {{getfirstb_c}} $x$   \n",
    " \n",
    "{{getfirstb_A}} $x$ = {{b}}   \n",
    "   \n",
    "$x \\geq 0$"
   ]
  },
  {
   "cell_type": "markdown",
   "metadata": {},
   "source": [
    "starting basis: {7,8}"
   ]
  },
  {
   "cell_type": "code",
   "execution_count": 441,
   "metadata": {},
   "outputs": [],
   "source": [
    "basis = [6,7]\n",
    "Ab = getfirstb_A[:,basis]\n",
    "cb = getfirstb_c[:,basis].T\n",
    "y = Inverse(Ab.T)*cb\n",
    "\n",
    "newc = (getfirstb_c.T - getfirstb_A.T*y)\n",
    "newcc = (b.T*y)[0]\n",
    "newa = Inverse(Ab)*getfirstb_A\n",
    "newb = Inverse(Ab)*b"
   ]
  },
  {
   "cell_type": "markdown",
   "metadata": {
    "variables": {
     "newa": "$\\displaystyle \\left[\\begin{matrix}1 & 2 & 2 & 1 & 1 & 0 & 1 & 0\\\\0 & 1 & 1 & 2 & 0 & 1 & 0 & 1\\end{matrix}\\right]$",
     "newb": "$\\displaystyle \\left[\\begin{matrix}6\\\\10\\end{matrix}\\right]$",
     "newc.T": "$\\displaystyle \\left[\\begin{matrix}-1 & -3 & -3 & -3 & -1 & -1 & 0 & 0\\end{matrix}\\right]$",
     "newcc": "$\\displaystyle 16$"
    }
   },
   "source": [
    "LP for new basis:   \n",
    "\n",
    "min {{newc.T}}  $x$ $+$  {{newcc}}   \n",
    "    \n",
    "{{newa}} $x$ = {{newb}}   \n",
    "   \n",
    "$x \\geq 0$\n",
    "\n"
   ]
  },
  {
   "cell_type": "markdown",
   "metadata": {},
   "source": [
    "Pick $x_1$ to include in basis:   \n",
    "$min(\\frac{6}{1}) = 6$    \n",
    "So $x_7$ leaves the basis   \n",
    "\n",
    "Now basis is {1,8}"
   ]
  },
  {
   "cell_type": "code",
   "execution_count": 442,
   "metadata": {},
   "outputs": [],
   "source": [
    "basis = [0,7]\n",
    "Ab = getfirstb_A[:,basis]\n",
    "cb = getfirstb_c[:,basis].T\n",
    "y = Inverse(Ab.T)*cb\n",
    "\n",
    "newc = (getfirstb_c.T - getfirstb_A.T*y)\n",
    "newcc = (b.T*y)[0]\n",
    "newa = Inverse(Ab)*getfirstb_A\n",
    "newb = Inverse(Ab)*b"
   ]
  },
  {
   "cell_type": "markdown",
   "metadata": {
    "variables": {
     "newa": "$\\displaystyle \\left[\\begin{matrix}1 & 2 & 2 & 1 & 1 & 0 & 1 & 0\\\\0 & 1 & 1 & 2 & 0 & 1 & 0 & 1\\end{matrix}\\right]$",
     "newb": "$\\displaystyle \\left[\\begin{matrix}6\\\\10\\end{matrix}\\right]$",
     "newc.T": "$\\displaystyle \\left[\\begin{matrix}0 & -1 & -1 & -2 & 0 & -1 & 1 & 0\\end{matrix}\\right]$",
     "newcc": "$\\displaystyle 10$"
    }
   },
   "source": [
    "LP for new basis:   \n",
    "\n",
    "min {{newc.T}}  $x$ $+$  {{newcc}}   \n",
    "    \n",
    "{{newa}} $x$ = {{newb}}   \n",
    "   \n",
    "$x \\geq 0$\n",
    "\n"
   ]
  },
  {
   "cell_type": "markdown",
   "metadata": {},
   "source": [
    "Pick $x_2$ to include in basis:   \n",
    "$min(\\frac{6}{2},\\frac{10}{1}) = 3$    \n",
    "So $x_1$ leaves the basis   \n",
    "\n",
    "Now basis is {2,8}"
   ]
  },
  {
   "cell_type": "code",
   "execution_count": 443,
   "metadata": {},
   "outputs": [],
   "source": [
    "basis = [1,7]\n",
    "Ab = getfirstb_A[:,basis]\n",
    "cb = getfirstb_c[:,basis].T\n",
    "y = Inverse(Ab.T)*cb\n",
    "\n",
    "newc = (getfirstb_c.T - getfirstb_A.T*y)\n",
    "newcc = (b.T*y)[0]\n",
    "newa = Inverse(Ab)*getfirstb_A\n",
    "newb = Inverse(Ab)*b"
   ]
  },
  {
   "cell_type": "markdown",
   "metadata": {
    "variables": {
     "newa": "$\\displaystyle \\left[\\begin{matrix}\\frac{1}{2} & 1 & 1 & \\frac{1}{2} & \\frac{1}{2} & 0 & \\frac{1}{2} & 0\\\\- \\frac{1}{2} & 0 & 0 & \\frac{3}{2} & - \\frac{1}{2} & 1 & - \\frac{1}{2} & 1\\end{matrix}\\right]$",
     "newb": "$\\displaystyle \\left[\\begin{matrix}3\\\\7\\end{matrix}\\right]$",
     "newc.T": "$\\displaystyle \\left[\\begin{matrix}\\frac{1}{2} & 0 & 0 & - \\frac{3}{2} & \\frac{1}{2} & -1 & \\frac{3}{2} & 0\\end{matrix}\\right]$",
     "newcc": "$\\displaystyle 7$"
    }
   },
   "source": [
    "LP for new basis:   \n",
    "\n",
    "min {{newc.T}}  $x$ $+$  {{newcc}}   \n",
    "    \n",
    "{{newa}} $x$ = {{newb}}   \n",
    "   \n",
    "$x \\geq 0$\n",
    "\n"
   ]
  },
  {
   "cell_type": "markdown",
   "metadata": {},
   "source": [
    "Pick $x_4$ to include in basis:   \n",
    "$min(\\frac{3}{1/2}, \\frac{7}{3/2}) = 4.66$    \n",
    "So $x_8$ leaves the basis   \n",
    "\n",
    "Now basis is {2,4}"
   ]
  },
  {
   "cell_type": "code",
   "execution_count": 444,
   "metadata": {},
   "outputs": [],
   "source": [
    "basis = [1,3]\n",
    "Ab = getfirstb_A[:,basis]\n",
    "cb = getfirstb_c[:,basis].T\n",
    "y = Inverse(Ab.T)*cb\n",
    "\n",
    "newc = (getfirstb_c.T - getfirstb_A.T*y)\n",
    "newcc = (b.T*y)[0]\n",
    "newa = Inverse(Ab)*getfirstb_A\n",
    "newb = Inverse(Ab)*b"
   ]
  },
  {
   "cell_type": "markdown",
   "metadata": {
    "variables": {
     "newa": "$\\displaystyle \\left[\\begin{matrix}\\frac{2}{3} & 1 & 1 & 0 & \\frac{2}{3} & - \\frac{1}{3} & \\frac{2}{3} & - \\frac{1}{3}\\\\- \\frac{1}{3} & 0 & 0 & 1 & - \\frac{1}{3} & \\frac{2}{3} & - \\frac{1}{3} & \\frac{2}{3}\\end{matrix}\\right]$",
     "newb": "$\\displaystyle \\left[\\begin{matrix}\\frac{2}{3}\\\\\\frac{14}{3}\\end{matrix}\\right]$",
     "newc.T": "$\\displaystyle \\left[\\begin{matrix}0 & 0 & 0 & 0 & 0 & 0 & 1 & 1\\end{matrix}\\right]$",
     "newcc": "$\\displaystyle 0$"
    }
   },
   "source": [
    "LP for new basis:   \n",
    "\n",
    "min {{newc.T}}  $x$ $+$  {{newcc}}   \n",
    "    \n",
    "{{newa}} $x$ = {{newb}}   \n",
    "   \n",
    "$x \\geq 0$\n"
   ]
  },
  {
   "cell_type": "markdown",
   "metadata": {},
   "source": [
    "Phase 2: Starting basis is {2,4}"
   ]
  },
  {
   "cell_type": "code",
   "execution_count": 445,
   "metadata": {},
   "outputs": [],
   "source": [
    "basis = [1,3]\n",
    "Ab = A[:,basis]\n",
    "cb = c[:,basis].T\n",
    "y = Inverse(Ab.T)*cb\n",
    "\n",
    "newc = (c.T - A.T*y)\n",
    "newcc = (b.T*y)[0]\n",
    "newa = Inverse(Ab)*A\n",
    "newb = Inverse(Ab)*b"
   ]
  },
  {
   "cell_type": "markdown",
   "metadata": {
    "variables": {
     "newa": "$\\displaystyle \\left[\\begin{matrix}\\frac{2}{3} & 1 & 1 & 0 & \\frac{2}{3} & - \\frac{1}{3}\\\\- \\frac{1}{3} & 0 & 0 & 1 & - \\frac{1}{3} & \\frac{2}{3}\\end{matrix}\\right]$",
     "newb": "$\\displaystyle \\left[\\begin{matrix}\\frac{2}{3}\\\\\\frac{14}{3}\\end{matrix}\\right]$",
     "newc.T": "$\\displaystyle \\left[\\begin{matrix}- \\frac{1}{3} & 0 & -1 & 0 & \\frac{2}{3} & \\frac{2}{3}\\end{matrix}\\right]$",
     "newcc": "$\\displaystyle - \\frac{32}{3}$"
    }
   },
   "source": [
    "LP for new basis:   \n",
    "\n",
    "min {{newc.T}}  $x$ $+$  {{newcc}}   \n",
    "    \n",
    "{{newa}} $x$ = {{newb}}   \n",
    "   \n",
    "$x \\geq 0$\n",
    "\n"
   ]
  },
  {
   "cell_type": "markdown",
   "metadata": {},
   "source": [
    "Pick $x_1$ to include in basis:   \n",
    "$min(\\frac{2/3}{2/3}) = 1$    \n",
    "So $x_2$ leaves the basis   \n",
    "\n",
    "Now basis is {1,4}"
   ]
  },
  {
   "cell_type": "code",
   "execution_count": 446,
   "metadata": {},
   "outputs": [],
   "source": [
    "basis = [0,3]\n",
    "Ab = A[:,basis]\n",
    "cb = c[:,basis].T\n",
    "y = Inverse(Ab.T)*cb\n",
    "\n",
    "newc = (c.T - A.T*y)\n",
    "newcc = (b.T*y)[0]\n",
    "newa = Inverse(Ab)*A\n",
    "newb = Inverse(Ab)*b"
   ]
  },
  {
   "cell_type": "markdown",
   "metadata": {
    "variables": {
     "newa": "$\\displaystyle \\left[\\begin{matrix}1 & \\frac{3}{2} & \\frac{3}{2} & 0 & 1 & - \\frac{1}{2}\\\\0 & \\frac{1}{2} & \\frac{1}{2} & 1 & 0 & \\frac{1}{2}\\end{matrix}\\right]$",
     "newb": "$\\displaystyle \\left[\\begin{matrix}1\\\\5\\end{matrix}\\right]$",
     "newc.T": "$\\displaystyle \\left[\\begin{matrix}0 & \\frac{1}{2} & - \\frac{1}{2} & 0 & 1 & \\frac{1}{2}\\end{matrix}\\right]$",
     "newcc": "$\\displaystyle -11$"
    }
   },
   "source": [
    "LP for new basis:   \n",
    "\n",
    "min {{newc.T}}  $x$ $+$  {{newcc}}   \n",
    "    \n",
    "{{newa}} $x$ = {{newb}}   \n",
    "   \n",
    "$x \\geq 0$\n",
    "\n"
   ]
  },
  {
   "cell_type": "markdown",
   "metadata": {},
   "source": [
    "Pick $x_3$ to include in basis:   \n",
    "$min(\\frac{1}{3/2}, \\frac{5}{1/2}) = 0.66$    \n",
    "So $x_1$ leaves the basis   \n",
    "\n",
    "Now basis is {3,4}"
   ]
  },
  {
   "cell_type": "code",
   "execution_count": 447,
   "metadata": {},
   "outputs": [],
   "source": [
    "basis = [2,3]\n",
    "Ab = A[:,basis]\n",
    "cb = c[:,basis].T\n",
    "y = Inverse(Ab.T)*cb\n",
    "\n",
    "newc = (c.T - A.T*y)\n",
    "newcc = (b.T*y)[0]\n",
    "newa = Inverse(Ab)*A\n",
    "newb = Inverse(Ab)*b"
   ]
  },
  {
   "cell_type": "markdown",
   "metadata": {
    "variables": {
     "newa": "$\\displaystyle \\left[\\begin{matrix}\\frac{2}{3} & 1 & 1 & 0 & \\frac{2}{3} & - \\frac{1}{3}\\\\- \\frac{1}{3} & 0 & 0 & 1 & - \\frac{1}{3} & \\frac{2}{3}\\end{matrix}\\right]$",
     "newb": "$\\displaystyle \\left[\\begin{matrix}\\frac{2}{3}\\\\\\frac{14}{3}\\end{matrix}\\right]$",
     "newc.T": "$\\displaystyle \\left[\\begin{matrix}\\frac{1}{3} & 1 & 0 & 0 & \\frac{4}{3} & \\frac{1}{3}\\end{matrix}\\right]$",
     "newcc": "$\\displaystyle - \\frac{34}{3}$"
    }
   },
   "source": [
    "LP for new basis:   \n",
    "\n",
    "min {{newc.T}}  $x$ $+$  {{newcc}}   \n",
    "    \n",
    "{{newa}} $x$ = {{newb}}   \n",
    "   \n",
    "$x \\geq 0$\n",
    "\n"
   ]
  },
  {
   "cell_type": "markdown",
   "metadata": {},
   "source": [
    "All elements of cost function are positive.    \n",
    "Therefore the optimal solution is $\\bar{x} = (0,0,\\frac{2}{3},\\frac{14}{3},0,0)$ and the objective value is $-\\frac{34}{3}$"
   ]
  },
  {
   "cell_type": "markdown",
   "metadata": {},
   "source": [
    "&nbsp;  \n",
    "Gurobi: "
   ]
  },
  {
   "cell_type": "code",
   "execution_count": 289,
   "metadata": {},
   "outputs": [],
   "source": [
    "import numpy as np\n",
    "c = np.array([-1,-2,-3,-2,0,0])\n",
    "A = np.array([[1,2,2,1,1,0],[0,1,1,2,0,1]])\n",
    "b = np.array([6,10])"
   ]
  },
  {
   "cell_type": "code",
   "execution_count": 290,
   "metadata": {},
   "outputs": [
    {
     "name": "stdout",
     "output_type": "stream",
     "text": [
      "Optimize a model with 2 rows, 6 columns and 9 nonzeros\n",
      "Coefficient statistics:\n",
      "  Matrix range     [1e+00, 2e+00]\n",
      "  Objective range  [1e+00, 3e+00]\n",
      "  Bounds range     [0e+00, 0e+00]\n",
      "  RHS range        [6e+00, 1e+01]\n",
      "Presolve removed 0 rows and 3 columns\n",
      "Presolve time: 0.02s\n",
      "Presolved: 2 rows, 3 columns, 5 nonzeros\n",
      "\n",
      "Iteration    Objective       Primal Inf.    Dual Inf.      Time\n",
      "       0   -1.2000000e+01   1.994000e+00   0.000000e+00      0s\n",
      "       2   -1.1333333e+01   0.000000e+00   0.000000e+00      0s\n",
      "\n",
      "Solved in 2 iterations and 0.02 seconds\n",
      "Optimal objective -1.133333333e+01\n",
      "Variable Values:\n",
      "X[0] 0.0\n",
      "X[1] 0.0\n",
      "X[2] 0.6666666666666666\n",
      "X[3] 4.666666666666667\n",
      "X[4] 0.0\n",
      "X[5] 0.0\n",
      "\n",
      "Objective Value: -11.333333333333334\n",
      "\n",
      "\n",
      "Runtime: 0.02334904670715332\n",
      "\n"
     ]
    }
   ],
   "source": [
    "m = Model()\n",
    "\n",
    "X = m.addVars(6, name = 'X', lb = 0)\n",
    "\n",
    "m.setObjective(np.dot(c,X.values()), GRB.MINIMIZE)\n",
    "\n",
    "for i in range(A.shape[0]):\n",
    "    m.addConstr(np.dot(A[i,:],X.values()) == b[i])\n",
    "\n",
    "m.optimize()\n",
    "\n",
    "printOptimal(m)"
   ]
  },
  {
   "cell_type": "markdown",
   "metadata": {},
   "source": [
    "## 4 (a)    \n",
    "\n",
    "Dual:    \n",
    "min $-3y_1 + 9y_2 + 5y_3$\n",
    "   \n",
    "$y_1 + 9y_3 + y_4 \\geq 1$   \n",
    "$y_1 + y_2 - y_4 \\geq 3$   \n",
    "$7y_1 -y_2 + y_4 = 1$     \n",
    "   \n",
    "$y_1 \\geq 0$, $y_2$ free, $y_3 \\geq 0$, $y_4$ free "
   ]
  },
  {
   "cell_type": "markdown",
   "metadata": {},
   "source": [
    "## 4 (b)    \n",
    "max $b^Ty$   \n",
    "$A^Ty \\leq c$   \n",
    "$D^Tv = d$   \n",
    "$y$,$v$ free"
   ]
  },
  {
   "cell_type": "markdown",
   "metadata": {},
   "source": [
    "## 5 (a)"
   ]
  },
  {
   "cell_type": "markdown",
   "metadata": {},
   "source": [
    "**(P)**   \n",
    "max $-2x_1 -1x_2$   \n",
    "   \n",
    "$\\;\\;x_1+3x_2+2x_3 \\geq 5$   \n",
    "$-x_1+4x_2+2x_3 \\leq 7$   \n",
    "   \n",
    "$x_1 \\leq 0$, $x_2 \\geq 0$, $x_3 \\geq 0$   \n",
    "\n",
    "&nbsp; \n",
    "\n",
    "**(D)**   \n",
    "min $5y_1+7y_2$   \n",
    "   \n",
    "$\\;\\;y_1-\\;y_2 \\leq -2$   \n",
    "$3y_1+4y_2 \\geq -1$   \n",
    "$2y_1+2y_2 \\geq 0$   \n",
    "   \n",
    "$y_1 \\leq 0$, $y_2 \\geq 0$   \n",
    "\n",
    "&nbsp;     \n",
    "&nbsp;     \n",
    "\n",
    "Complementary slackness:    \n",
    "**(P)**   \n",
    "max $-2x_1 -1x_2$   \n",
    "   \n",
    "$\\;\\;x_1+3x_2+2x_3 - s_ 1 = 5$   \n",
    "$-x_1+4x_2+2x_3 + s_2 = 7$   \n",
    "   \n",
    "$x_1 \\leq 0$, $x_2 \\geq 0$, $x_3 \\geq 0$,   \n",
    "$s_1$, $s_2$ $\\geq 0$   \n",
    "\n",
    "&nbsp; \n",
    "\n",
    "**(D)**   \n",
    "min $5y_1+7y_2$   \n",
    "   \n",
    "$\\;\\;y_1-\\;y_2 + s_1 =  -2$   \n",
    "$3y_1+4y_2 -s_2 =  -1$   \n",
    "$2y_1+2y_2 -s_3 =  0$   \n",
    "   \n",
    "$y_1 \\leq 0$, $y_2 \\geq 0$,    \n",
    "$s_1$, $s_2$, $s_3$ $\\geq 0$   "
   ]
  },
  {
   "cell_type": "markdown",
   "metadata": {},
   "source": [
    "## 5 (b)   "
   ]
  },
  {
   "cell_type": "markdown",
   "metadata": {},
   "source": [
    "**(P)**   \n",
    "min $-5x_1 -7x_2 -5x_3$   \n",
    "   \n",
    "$\\;\\;x_1 + 2x_2 + 3x_3 \\geq 3$   \n",
    "$4x_1 + 5x_2 + 6x_3 \\leq 9$   \n",
    "$7x_1 + 8x_2 + 9x_3 \\geq 2$   \n",
    "   \n",
    "$x_1$, $x_2$, $x_3 \\geq 0$   \n",
    "\n",
    "&nbsp; \n",
    "\n",
    "**(D)**   \n",
    "max $3y_1+9y_2+2y_3$   \n",
    "   \n",
    "$\\;\\;y_1 - 4y_2 + 7y_3 \\leq -5$   \n",
    "$2y_1 + 5y_2 + 8y_3 \\leq -7$   \n",
    "$3y_1 + 6y_2 + 9x_3 \\leq -5$   \n",
    "   \n",
    "$y_1 \\geq 0 $, $y_2 \\leq 0$, $y_3 \\geq 0$    \n",
    "\n",
    "&nbsp;     \n",
    "&nbsp;     \n",
    "Complementary slackness:    \n",
    "\n",
    "**(P)**   \n",
    "min $-5x_1 -7x_2 -5x_3$   \n",
    "   \n",
    "$\\;\\;x_1 + 2x_2 + 3x_3 - s_1 3$   \n",
    "$4x_1 + 5x_2 + 6x_3 + s_2 9$   \n",
    "$7x_1 + 8x_2 + 9x_3 - s_3 2$   \n",
    "   \n",
    "$x_1$, $x_2$, $x_3 \\geq 0$,   \n",
    "$s_1$, $s_2$, $s_3$ $\\geq 0$   \n",
    "\n",
    "&nbsp; \n",
    "\n",
    "**(D)**   \n",
    "max $3y_1+9y_2+2y_3$   \n",
    "   \n",
    "$\\;\\;y_1 - 4y_2 + 7y_3 + s_1 -5$   \n",
    "$2y_1 + 5y_2 + 8y_3 + s_2 -7$   \n",
    "$3y_1 + 6y_2 + 9x_3 + s_3 -5$   \n",
    "   \n",
    "$y_1 \\geq 0 $, $y_2 \\leq 0$, $y_3 \\geq 0$,    \n",
    "$s_1$, $s_2$, $s_3$ $\\geq 0$  "
   ]
  },
  {
   "cell_type": "markdown",
   "metadata": {},
   "source": [
    "## 6 "
   ]
  },
  {
   "cell_type": "code",
   "execution_count": 237,
   "metadata": {},
   "outputs": [],
   "source": [
    "c = Matrix([-10,-3,0,0,0]).T\n",
    "A = Matrix([[1,1,1,0,0],[5,2,0,1,0],[0,1,0,0,1]])\n",
    "b = Matrix([4,11,4])"
   ]
  },
  {
   "cell_type": "markdown",
   "metadata": {
    "variables": {
     "A": "$\\displaystyle \\left[\\begin{matrix}1 & 1 & 1 & 0 & 0\\\\5 & 2 & 0 & 1 & 0\\\\0 & 1 & 0 & 0 & 1\\end{matrix}\\right]$",
     "b": "$\\displaystyle \\left[\\begin{matrix}4\\\\11\\\\4\\end{matrix}\\right]$",
     "c": "$\\displaystyle \\left[\\begin{matrix}-10 & -3 & 0 & 0 & 0\\end{matrix}\\right]$"
    }
   },
   "source": [
    "Original LP:   \n",
    "\n",
    "min {{c}} $x$   \n",
    " \n",
    "{{A}} $x$ = {{b}}   \n",
    "   \n",
    "$x \\geq 0$"
   ]
  },
  {
   "cell_type": "markdown",
   "metadata": {},
   "source": [
    "Starting basis for original LP: {2,3,4}"
   ]
  },
  {
   "cell_type": "code",
   "execution_count": 238,
   "metadata": {},
   "outputs": [],
   "source": [
    "basis = [1,2,3]\n",
    "Ab = A[:,basis]\n",
    "cb = c[:,basis].T\n",
    "y = Inverse(Ab.T)*cb\n",
    "\n",
    "newc = (c.T - A.T*y)\n",
    "newcc = (b.T*y)[0]\n",
    "newa = Inverse(Ab)*A\n",
    "newb = Inverse(Ab)*b"
   ]
  },
  {
   "cell_type": "markdown",
   "metadata": {
    "variables": {
     "newa": "$\\displaystyle \\left[\\begin{matrix}0 & 1 & 0 & 0 & 1\\\\1 & 0 & 1 & 0 & -1\\\\5 & 0 & 0 & 1 & -2\\end{matrix}\\right]$",
     "newb": "$\\displaystyle \\left[\\begin{matrix}4\\\\0\\\\3\\end{matrix}\\right]$",
     "newc.T": "$\\displaystyle \\left[\\begin{matrix}-10 & 0 & 0 & 0 & 3\\end{matrix}\\right]$",
     "newcc": "$\\displaystyle -12$"
    }
   },
   "source": [
    "LP for new basis:   \n",
    "\n",
    "min {{newc.T}}  $x$ $+$  {{newcc}}   \n",
    "    \n",
    "{{newa}} $x$ = {{newb}}   \n",
    "   \n",
    "$x \\geq 0$\n",
    "\n"
   ]
  },
  {
   "cell_type": "markdown",
   "metadata": {},
   "source": [
    "Pick $x_1$ to include in basis:   \n",
    "$min(\\frac{0}{1}, \\frac{3}{5}) = 0$    \n",
    "So $x_3$ leaves the basis   \n",
    "\n",
    "Now basis is {1,2,4}"
   ]
  },
  {
   "cell_type": "code",
   "execution_count": 246,
   "metadata": {},
   "outputs": [],
   "source": [
    "basis = [0,1,3]\n",
    "Ab = A[:,basis]\n",
    "cb = c[:,basis].T\n",
    "y = Inverse(Ab.T)*cb\n",
    "\n",
    "newc = (c.T - A.T*y)\n",
    "newcc = (b.T*y)[0]\n",
    "newa = Inverse(Ab)*A\n",
    "newb = Inverse(Ab)*b"
   ]
  },
  {
   "cell_type": "markdown",
   "metadata": {
    "variables": {
     "newa": "$\\displaystyle \\left[\\begin{matrix}1 & 0 & 1 & 0 & -1\\\\0 & 1 & 0 & 0 & 1\\\\0 & 0 & -5 & 1 & 3\\end{matrix}\\right]$",
     "newb": "$\\displaystyle \\left[\\begin{matrix}0\\\\4\\\\3\\end{matrix}\\right]$",
     "newc.T": "$\\displaystyle \\left[\\begin{matrix}0 & 0 & 10 & 0 & -7\\end{matrix}\\right]$",
     "newcc": "$\\displaystyle -12$"
    }
   },
   "source": [
    "LP for new basis:   \n",
    "\n",
    "min {{newc.T}}  $x$ $+$  {{newcc}}   \n",
    "    \n",
    "{{newa}} $x$ = {{newb}}   \n",
    "   \n",
    "$x \\geq 0$\n",
    "\n"
   ]
  },
  {
   "cell_type": "markdown",
   "metadata": {},
   "source": [
    "Pick $x_5$ to include in basis:   \n",
    "$min(\\frac{4}{1},\\frac{3}{3}) = 0$    \n",
    "So $x_4$ leaves the basis   \n",
    "\n",
    "Now basis is {1,2,5}"
   ]
  },
  {
   "cell_type": "code",
   "execution_count": 248,
   "metadata": {},
   "outputs": [],
   "source": [
    "basis = [0,1,4]\n",
    "Ab = A[:,basis]\n",
    "cb = c[:,basis].T\n",
    "y = Inverse(Ab.T)*cb\n",
    "\n",
    "newc = (c.T - A.T*y)\n",
    "newcc = (b.T*y)[0]\n",
    "newa = Inverse(Ab)*A\n",
    "newb = Inverse(Ab)*b"
   ]
  },
  {
   "cell_type": "markdown",
   "metadata": {
    "variables": {
     "newa": "$\\displaystyle \\left[\\begin{matrix}1 & 0 & - \\frac{2}{3} & \\frac{1}{3} & 0\\\\0 & 1 & \\frac{5}{3} & - \\frac{1}{3} & 0\\\\0 & 0 & - \\frac{5}{3} & \\frac{1}{3} & 1\\end{matrix}\\right]$",
     "newb": "$\\displaystyle \\left[\\begin{matrix}1\\\\3\\\\1\\end{matrix}\\right]$",
     "newc.T": "$\\displaystyle \\left[\\begin{matrix}0 & 0 & - \\frac{5}{3} & \\frac{7}{3} & 0\\end{matrix}\\right]$",
     "newcc": "$\\displaystyle -19$"
    }
   },
   "source": [
    "LP for new basis:   \n",
    "\n",
    "min {{newc.T}}  $x$ $+$  {{newcc}}   \n",
    "    \n",
    "{{newa}} $x$ = {{newb}}   \n",
    "   \n",
    "$x \\geq 0$\n",
    "\n"
   ]
  },
  {
   "cell_type": "markdown",
   "metadata": {},
   "source": [
    "Pick $x_3$ to include in basis:   \n",
    "$min(\\frac{3}{5/3}) = 1.799$    \n",
    "So $x_2$ leaves the basis   \n",
    "\n",
    "Now basis is {1,3,5}"
   ]
  },
  {
   "cell_type": "code",
   "execution_count": 254,
   "metadata": {},
   "outputs": [],
   "source": [
    "basis = [0,2,4]\n",
    "Ab = A[:,basis]\n",
    "cb = c[:,basis].T\n",
    "y = Inverse(Ab.T)*cb\n",
    "\n",
    "newc = (c.T - A.T*y)\n",
    "newcc = (b.T*y)[0]\n",
    "newa = Inverse(Ab)*A\n",
    "newb = Inverse(Ab)*b"
   ]
  },
  {
   "cell_type": "markdown",
   "metadata": {
    "variables": {
     "newa": "$\\displaystyle \\left[\\begin{matrix}1 & \\frac{2}{5} & 0 & \\frac{1}{5} & 0\\\\0 & \\frac{3}{5} & 1 & - \\frac{1}{5} & 0\\\\0 & 1 & 0 & 0 & 1\\end{matrix}\\right]$",
     "newb": "$\\displaystyle \\left[\\begin{matrix}\\frac{11}{5}\\\\\\frac{9}{5}\\\\4\\end{matrix}\\right]$",
     "newc.T": "$\\displaystyle \\left[\\begin{matrix}0 & 1 & 0 & 2 & 0\\end{matrix}\\right]$",
     "newcc": "$\\displaystyle -22$"
    }
   },
   "source": [
    "LP for new basis:   \n",
    "\n",
    "min {{newc.T}}  $x$ $+$  {{newcc}}   \n",
    "    \n",
    "{{newa}} $x$ = {{newb}}   \n",
    "   \n",
    "$x \\geq 0$\n",
    "\n"
   ]
  },
  {
   "cell_type": "markdown",
   "metadata": {},
   "source": [
    "All elements of cost function are positive.    \n",
    "Therefore the optimal solution is $\\bar{x} = (\\frac{11}{5},0,\\frac{9}{5},0,4)$ and the objective value is $-22$"
   ]
  },
  {
   "cell_type": "code",
   "execution_count": 261,
   "metadata": {},
   "outputs": [
    {
     "data": {
      "image/png": "[encoded data removed]",
      "text/plain": [
       "<Figure size 432x288 with 1 Axes>"
      ]
     },
     "metadata": {
      "needs_background": "light"
     },
     "output_type": "display_data"
    }
   ],
   "source": [
    "import matplotlib.pyplot as plt\n",
    "\n",
    "x = np.linspace(0,5,100)\n",
    "\n",
    "plt.plot(x, 4-x, '-b', label=r'$x_1+x_2 \\leq4$')\n",
    "plt.plot(x, (11/2)-(5/2)*x , '-r', label=r'$5x_1+2x_2 \\leq 11$')\n",
    "plt.plot(x, 4 + 0*x, '-g', label=r'$x_2 \\leq 4$')\n",
    "\n",
    "plt.xlabel(r'$x_1$')\n",
    "plt.ylabel(r'$x_2$')\n",
    "plt.legend()\n",
    "plt.grid()\n",
    "plt.xlim(0,5)\n",
    "plt.ylim(0,5)\n",
    "\n",
    "plt.fill_between(x ,np.minimum(4-x,(11/2)-(5/2)*x), color='grey', alpha='0.5')\n",
    "plt.show()"
   ]
  },
  {
   "cell_type": "markdown",
   "metadata": {},
   "source": [
    "Extreme points: $(\\frac{11}{5},0), (1,3), (0,4), (0,0)$"
   ]
  },
  {
   "cell_type": "markdown",
   "metadata": {},
   "source": [
    "Based on the above simplex calculation:   \n",
    "Start at $(0,4)$  \n",
    "Move to $(0,4)$   \n",
    "Move to $(1,3)$   \n",
    "Move to $(\\frac{11}{5}, 0)$\n"
   ]
  }
 ],
 "metadata": {
  "kernelspec": {
   "display_name": "Python 3",
   "language": "python",
   "name": "python3"
  },
  "language_info": {
   "codemirror_mode": {
    "name": "ipython",
    "version": 3
   },
   "file_extension": ".py",
   "mimetype": "text/x-python",
   "name": "python",
   "nbconvert_exporter": "python",
   "pygments_lexer": "ipython3",
   "version": "3.7.3"
  }
 },
 "nbformat": 4,
 "nbformat_minor": 2
}
