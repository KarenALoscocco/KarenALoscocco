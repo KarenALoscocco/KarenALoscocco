{
 "cells": [
  {
   "cell_type": "markdown",
   "metadata": {},
   "source": [
    "# Karen Loscocco\n",
    "## ISYE 4133 Assignment 3"
   ]
  },
  {
   "cell_type": "markdown",
   "metadata": {},
   "source": [
    "## 1 "
   ]
  },
  {
   "cell_type": "code",
   "execution_count": 50,
   "metadata": {},
   "outputs": [],
   "source": [
    "from sympy import *\n",
    "\n",
    "c = Matrix([-2,1,-2]).T\n",
    "A = Matrix([[1,2,-1],[1,-1,1]])\n",
    "b = Matrix([1,3])"
   ]
  },
  {
   "cell_type": "markdown",
   "metadata": {
    "variables": {
     "A": "$\\displaystyle \\left[\\begin{matrix}1 & 2 & -1\\\\1 & -1 & 1\\end{matrix}\\right]$",
     "b": "$\\displaystyle \\left[\\begin{matrix}1\\\\3\\end{matrix}\\right]$",
     "c": "$\\displaystyle \\left[\\begin{matrix}-2 & 1 & -2\\end{matrix}\\right]$"
    }
   },
   "source": [
    "Original LP:   \n",
    "\n",
    "min {{c}} $x$   \n",
    " \n",
    "{{A}} $x$ = {{b}}   \n",
    "   \n",
    "$x \\geq 0$"
   ]
  },
  {
   "cell_type": "markdown",
   "metadata": {},
   "source": [
    "Start with basis: $B_1 = \\{1,3 \\}$"
   ]
  },
  {
   "cell_type": "code",
   "execution_count": 51,
   "metadata": {},
   "outputs": [],
   "source": [
    "basis = [0,2]\n",
    "Ab1 = A[:,basis]\n",
    "cb1 = c[:,basis].T\n",
    "y = Inverse(Ab1.T)*cb1"
   ]
  },
  {
   "cell_type": "markdown",
   "metadata": {
    "variables": {
     "Ab1": "$\\displaystyle \\left[\\begin{matrix}1 & -1\\\\1 & 1\\end{matrix}\\right]$",
     "cb1": "$\\displaystyle \\left[\\begin{matrix}-2\\\\-2\\end{matrix}\\right]$",
     "y": "$\\displaystyle \\left[\\begin{matrix}0\\\\-2\\end{matrix}\\right]$"
    }
   },
   "source": [
    "$A_{B_1}$ = {{Ab1}}   \n",
    "   \n",
    "$c_{B_1}$ = {{cb1}}\n",
    "\n",
    "$y_{B_1} = (A_{B_1}^{-1})^Tc_{B_1}  = $ {{y}}"
   ]
  },
  {
   "cell_type": "code",
   "execution_count": 52,
   "metadata": {},
   "outputs": [],
   "source": [
    "newc = (c.T - A.T*y)\n",
    "newcc = (b.T*y)[0]\n",
    "newa = Inverse(Ab1)*A\n",
    "newb = Inverse(Ab1)*b"
   ]
  },
  {
   "cell_type": "markdown",
   "metadata": {
    "variables": {
     "A.T": "$\\displaystyle \\left[\\begin{matrix}1 & 1\\\\2 & -1\\\\-1 & 1\\end{matrix}\\right]$",
     "c.T": "$\\displaystyle \\left[\\begin{matrix}-2\\\\1\\\\-2\\end{matrix}\\right]$",
     "newa": "$\\displaystyle \\left[\\begin{matrix}1 & \\frac{1}{2} & 0\\\\0 & - \\frac{3}{2} & 1\\end{matrix}\\right]$",
     "newb": "$\\displaystyle \\left[\\begin{matrix}2\\\\1\\end{matrix}\\right]$",
     "newc": "$\\displaystyle \\left[\\begin{matrix}0\\\\-1\\\\0\\end{matrix}\\right]$",
     "y": "$\\displaystyle \\left[\\begin{matrix}0\\\\-2\\end{matrix}\\right]$"
    }
   },
   "source": [
    "New Cost Function: {{c.T}} $-$ {{A.T}}{{y}} = {{newc}}   \n",
    "   \n",
    "New Constraints: $(A_{B_1}^{-1})A = $ {{newa}}     \n",
    "   \n",
    "$(A_{B_1}^{-1})b = $  {{newb}}\n",
    "   "
   ]
  },
  {
   "cell_type": "markdown",
   "metadata": {
    "variables": {
     "(c.T - A.T*y).T": "$\\displaystyle \\left[\\begin{matrix}0 & -1 & 0\\end{matrix}\\right]$",
     "newa": "$\\displaystyle \\left[\\begin{matrix}1 & \\frac{1}{2} & 0\\\\0 & - \\frac{3}{2} & 1\\end{matrix}\\right]$",
     "newb": "$\\displaystyle \\left[\\begin{matrix}2\\\\1\\end{matrix}\\right]$",
     "newcc": "$\\displaystyle -6$"
    }
   },
   "source": [
    "LP for new basis:   \n",
    "\n",
    "min {{(c.T - A.T*y).T}}  $x$ $+$  {{newcc}}   \n",
    "    \n",
    "{{newa}} $x$ = {{newb}}   \n",
    "   \n",
    "$x \\geq 0$\n"
   ]
  },
  {
   "cell_type": "markdown",
   "metadata": {},
   "source": [
    "Now use basis: $B_2 = \\{2,3 \\}$"
   ]
  },
  {
   "cell_type": "code",
   "execution_count": 53,
   "metadata": {},
   "outputs": [],
   "source": [
    "basis = [1,2]\n",
    "Ab1 = A[:,basis]\n",
    "cb1 = c[:,basis].T\n",
    "y = Inverse(Ab1.T)*cb1"
   ]
  },
  {
   "cell_type": "markdown",
   "metadata": {
    "variables": {
     "Ab1": "$\\displaystyle \\left[\\begin{matrix}2 & -1\\\\-1 & 1\\end{matrix}\\right]$",
     "cb1": "$\\displaystyle \\left[\\begin{matrix}1\\\\-2\\end{matrix}\\right]$",
     "y": "$\\displaystyle \\left[\\begin{matrix}-1\\\\-3\\end{matrix}\\right]$"
    }
   },
   "source": [
    "$A_{B_1}$ = {{Ab1}}   \n",
    "   \n",
    "$c_{B_1}$ = {{cb1}}\n",
    "\n",
    "$y_{B_1} = (A_{B_1}^{-1})^Tc_{B_1}  = $ {{y}}"
   ]
  },
  {
   "cell_type": "code",
   "execution_count": 54,
   "metadata": {},
   "outputs": [],
   "source": [
    "newc = (c.T - A.T*y)\n",
    "newcc = (b.T*y)[0]\n",
    "newa = Inverse(Ab1)*A\n",
    "newb = Inverse(Ab1)*b"
   ]
  },
  {
   "cell_type": "markdown",
   "metadata": {
    "variables": {
     "A.T": "$\\displaystyle \\left[\\begin{matrix}1 & 1\\\\2 & -1\\\\-1 & 1\\end{matrix}\\right]$",
     "c.T": "$\\displaystyle \\left[\\begin{matrix}-2\\\\1\\\\-2\\end{matrix}\\right]$",
     "newa": "$\\displaystyle \\left[\\begin{matrix}2 & 1 & 0\\\\3 & 0 & 1\\end{matrix}\\right]$",
     "newb": "$\\displaystyle \\left[\\begin{matrix}4\\\\7\\end{matrix}\\right]$",
     "newc": "$\\displaystyle \\left[\\begin{matrix}2\\\\0\\\\0\\end{matrix}\\right]$",
     "y": "$\\displaystyle \\left[\\begin{matrix}-1\\\\-3\\end{matrix}\\right]$"
    }
   },
   "source": [
    "New Cost Function: {{c.T}} $-$ {{A.T}}{{y}} = {{newc}}   \n",
    "   \n",
    "New Constraints: $(A_{B_1}^{-1})A = $ {{newa}}     \n",
    "   \n",
    "$(A_{B_1}^{-1})b = $  {{newb}}\n",
    "   "
   ]
  },
  {
   "cell_type": "markdown",
   "metadata": {
    "variables": {
     "(c.T - A.T*y).T": "$\\displaystyle \\left[\\begin{matrix}2 & 0 & 0\\end{matrix}\\right]$",
     "newa": "$\\displaystyle \\left[\\begin{matrix}2 & 1 & 0\\\\3 & 0 & 1\\end{matrix}\\right]$",
     "newb": "$\\displaystyle \\left[\\begin{matrix}4\\\\7\\end{matrix}\\right]$",
     "newcc": "$\\displaystyle -10$"
    }
   },
   "source": [
    "LP for new basis:   \n",
    "\n",
    "min {{(c.T - A.T*y).T}}  $x$ $+$  {{newcc}}   \n",
    "    \n",
    "{{newa}} $x$ = {{newb}}   \n",
    "   \n",
    "$x \\geq 0$"
   ]
  },
  {
   "cell_type": "markdown",
   "metadata": {},
   "source": [
    "## 2"
   ]
  },
  {
   "cell_type": "code",
   "execution_count": 95,
   "metadata": {},
   "outputs": [],
   "source": [
    "c = Matrix([-2,1,-2]).T\n",
    "A = Matrix([[1,2,-1],[1,-1,1]])\n",
    "b = Matrix([1,3])"
   ]
  },
  {
   "cell_type": "markdown",
   "metadata": {
    "variables": {
     "A": "$\\displaystyle \\left[\\begin{matrix}1 & 2 & -1\\\\1 & -1 & 1\\end{matrix}\\right]$",
     "b": "$\\displaystyle \\left[\\begin{matrix}1\\\\3\\end{matrix}\\right]$",
     "c": "$\\displaystyle \\left[\\begin{matrix}-2 & 1 & -2\\end{matrix}\\right]$"
    }
   },
   "source": [
    "Original LP:   \n",
    "\n",
    "min {{c}} $x$   \n",
    " \n",
    "{{A}} $x$ = {{b}}   \n",
    "   \n",
    "$x \\geq 0$"
   ]
  },
  {
   "cell_type": "code",
   "execution_count": 96,
   "metadata": {},
   "outputs": [],
   "source": [
    "blandsc = Matrix([0,0,0,1,1]).T\n",
    "blandsA = A.col_insert(3, Matrix([[1, 0],[0,1]]))"
   ]
  },
  {
   "cell_type": "markdown",
   "metadata": {
    "variables": {
     "b": "$\\displaystyle \\left[\\begin{matrix}1\\\\3\\end{matrix}\\right]$",
     "blandsA": "$\\displaystyle \\left[\\begin{matrix}1 & 2 & -1 & 1 & 0\\\\1 & -1 & 1 & 0 & 1\\end{matrix}\\right]$",
     "blandsc": "$\\displaystyle \\left[\\begin{matrix}0 & 0 & 0 & 1 & 1\\end{matrix}\\right]$"
    }
   },
   "source": [
    "Blands LP:   \n",
    "\n",
    "min {{blandsc}} $x$   \n",
    " \n",
    "{{blandsA}} $x$ = {{b}}   \n",
    "   \n",
    "$x \\geq 0$"
   ]
  },
  {
   "cell_type": "markdown",
   "metadata": {},
   "source": [
    "starting basis: {4,5}"
   ]
  },
  {
   "cell_type": "code",
   "execution_count": 97,
   "metadata": {},
   "outputs": [],
   "source": [
    "basis = [3,4]\n",
    "Ab = blandsA[:,basis]\n",
    "cb = blandsc[:,basis].T\n",
    "y = Inverse(Ab.T)*cb\n",
    "\n",
    "newc = (blandsc.T - blandsA.T*y)\n",
    "newcc = (b.T*y)[0]\n",
    "newa = Inverse(Ab)*blandsA\n",
    "newb = Inverse(Ab)*b"
   ]
  },
  {
   "cell_type": "markdown",
   "metadata": {
    "variables": {
     "newa": "$\\displaystyle \\left[\\begin{matrix}1 & 2 & -1 & 1 & 0\\\\1 & -1 & 1 & 0 & 1\\end{matrix}\\right]$",
     "newb": "$\\displaystyle \\left[\\begin{matrix}1\\\\3\\end{matrix}\\right]$",
     "newc.T": "$\\displaystyle \\left[\\begin{matrix}-2 & -1 & 0 & 0 & 0\\end{matrix}\\right]$",
     "newcc": "$\\displaystyle 4$"
    }
   },
   "source": [
    "LP for new basis:   \n",
    "\n",
    "min {{newc.T}}  $x$ $+$  {{newcc}}   \n",
    "    \n",
    "{{newa}} $x$ = {{newb}}   \n",
    "   \n",
    "$x \\geq 0$\n",
    "\n"
   ]
  },
  {
   "cell_type": "markdown",
   "metadata": {},
   "source": [
    "Pick $x_1$ to include in basis:   \n",
    "$min(\\frac{1}{1},\\frac{3}{1}) = 1$    \n",
    "So $x_4$ leaves the basis   \n",
    "\n",
    "Now basis is {1,5}"
   ]
  },
  {
   "cell_type": "code",
   "execution_count": 98,
   "metadata": {},
   "outputs": [],
   "source": [
    "basis = [0,4]\n",
    "Ab = blandsA[:,basis]\n",
    "cb = blandsc[:,basis].T\n",
    "y = Inverse(Ab.T)*cb\n",
    "\n",
    "newc = (blandsc.T - blandsA.T*y)\n",
    "newcc = (b.T*y)[0]\n",
    "newa = Inverse(Ab)*blandsA\n",
    "newb = Inverse(Ab)*b"
   ]
  },
  {
   "cell_type": "markdown",
   "metadata": {
    "variables": {
     "newa": "$\\displaystyle \\left[\\begin{matrix}1 & 2 & -1 & 1 & 0\\\\0 & -3 & 2 & -1 & 1\\end{matrix}\\right]$",
     "newb": "$\\displaystyle \\left[\\begin{matrix}1\\\\2\\end{matrix}\\right]$",
     "newc.T": "$\\displaystyle \\left[\\begin{matrix}0 & 3 & -2 & 2 & 0\\end{matrix}\\right]$",
     "newcc": "$\\displaystyle 2$"
    }
   },
   "source": [
    "LP for new basis:   \n",
    "\n",
    "min {{newc.T}}  $x$ $+$  {{newcc}}   \n",
    "    \n",
    "{{newa}} $x$ = {{newb}}   \n",
    "   \n",
    "$x \\geq 0$\n",
    "\n"
   ]
  },
  {
   "cell_type": "markdown",
   "metadata": {},
   "source": [
    "Pick $x_3$ to include in basis:   \n",
    "$min(\\frac{2}{2}) = 1$    \n",
    "So $x_5$ leaves the basis   \n",
    "\n",
    "Now basis is {1,3}"
   ]
  },
  {
   "cell_type": "markdown",
   "metadata": {},
   "source": [
    "Starting basis for original LP: {1,3}"
   ]
  },
  {
   "cell_type": "code",
   "execution_count": 99,
   "metadata": {},
   "outputs": [],
   "source": [
    "c = Matrix([-2,1,-2]).T\n",
    "A = Matrix([[1,2,-1],[1,-1,1]])\n",
    "b = Matrix([1,3])"
   ]
  },
  {
   "cell_type": "code",
   "execution_count": 100,
   "metadata": {},
   "outputs": [],
   "source": [
    "basis = [0,2]\n",
    "Ab = A[:,basis]\n",
    "cb = c[:,basis].T\n",
    "y = Inverse(Ab.T)*cb\n",
    "\n",
    "newc = (c.T - A.T*y)\n",
    "newcc = (b.T*y)[0]\n",
    "newa = Inverse(Ab)*A\n",
    "newb = Inverse(Ab)*b"
   ]
  },
  {
   "cell_type": "markdown",
   "metadata": {
    "variables": {
     "newa": "$\\displaystyle \\left[\\begin{matrix}1 & \\frac{1}{2} & 0\\\\0 & - \\frac{3}{2} & 1\\end{matrix}\\right]$",
     "newb": "$\\displaystyle \\left[\\begin{matrix}2\\\\1\\end{matrix}\\right]$",
     "newc.T": "$\\displaystyle \\left[\\begin{matrix}0 & -1 & 0\\end{matrix}\\right]$",
     "newcc": "$\\displaystyle -6$"
    }
   },
   "source": [
    "LP for new basis:   \n",
    "\n",
    "min {{newc.T}}  $x$ $+$  {{newcc}}   \n",
    "    \n",
    "{{newa}} $x$ = {{newb}}   \n",
    "   \n",
    "$x \\geq 0$\n",
    "\n"
   ]
  },
  {
   "cell_type": "markdown",
   "metadata": {},
   "source": [
    "Pick $x_2$ to include in basis:   \n",
    "$min(\\frac{2}{1/2}) = 4$    \n",
    "So $x_1$ leaves the basis   \n",
    "\n",
    "Now basis is {2,3}"
   ]
  },
  {
   "cell_type": "code",
   "execution_count": 101,
   "metadata": {},
   "outputs": [],
   "source": [
    "basis = [1,2]\n",
    "Ab = A[:,basis]\n",
    "cb = c[:,basis].T\n",
    "y = Inverse(Ab.T)*cb\n",
    "\n",
    "newc = (c.T - A.T*y)\n",
    "newcc = (b.T*y)[0]\n",
    "newa = Inverse(Ab)*A\n",
    "newb = Inverse(Ab)*b"
   ]
  },
  {
   "cell_type": "markdown",
   "metadata": {
    "variables": {
     "newa": "$\\displaystyle \\left[\\begin{matrix}2 & 1 & 0\\\\3 & 0 & 1\\end{matrix}\\right]$",
     "newb": "$\\displaystyle \\left[\\begin{matrix}4\\\\7\\end{matrix}\\right]$",
     "newc.T": "$\\displaystyle \\left[\\begin{matrix}2 & 0 & 0\\end{matrix}\\right]$",
     "newcc": "$\\displaystyle -10$"
    }
   },
   "source": [
    "LP for new basis:   \n",
    "\n",
    "min {{newc.T}}  $x$ $+$  {{newcc}}   \n",
    "    \n",
    "{{newa}} $x$ = {{newb}}   \n",
    "   \n",
    "$x \\geq 0$\n",
    "\n"
   ]
  },
  {
   "cell_type": "markdown",
   "metadata": {},
   "source": [
    "$x^* = (0,4,7)$"
   ]
  },
  {
   "cell_type": "code",
   "execution_count": null,
   "metadata": {},
   "outputs": [],
   "source": []
  }
 ],
 "metadata": {
  "kernelspec": {
   "display_name": "Python 3",
   "language": "python",
   "name": "python3"
  },
  "language_info": {
   "codemirror_mode": {
    "name": "ipython",
    "version": 3
   },
   "file_extension": ".py",
   "mimetype": "text/x-python",
   "name": "python",
   "nbconvert_exporter": "python",
   "pygments_lexer": "ipython3",
   "version": "3.7.3"
  }
 },
 "nbformat": 4,
 "nbformat_minor": 2
}
