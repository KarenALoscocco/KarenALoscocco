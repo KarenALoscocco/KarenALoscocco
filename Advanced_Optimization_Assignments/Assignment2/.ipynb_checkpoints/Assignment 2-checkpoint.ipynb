{
 "cells": [
  {
   "cell_type": "markdown",
   "metadata": {},
   "source": [
    "# Karen Loscocco\n",
    "## ISYE 4133 Assignment 2"
   ]
  },
  {
   "cell_type": "markdown",
   "metadata": {},
   "source": [
    "## 1 \n",
    "\n",
    "$\\textrm{For inventory pile }i = 1,...,8 \\textrm{ and customers }k = 1,...,25$   \n",
    "$x_{ik} \\textrm{ : tons of phosphate rock from inventory } i \\textrm{ for customer  } k$   \n",
    "$b_{i} \\textrm{ : average BPL content per ton for pile } i$   \n",
    "$a_{i} \\textrm{ : asset value per ton for pile } i$   \n",
    "$r_{ik} \\textrm{ : contract net profit per ton for pile } i \\textrm{ and customer } k$   \n",
    "$h_{i} \\textrm{ : starting inventory for pile } i$   \n",
    "$q_{i} \\textrm{ : expected quantity to arrive for pile } i$   \n",
    "\n",
    "$$\\textrm{Maximize }\\sum_i \\left( \\sum_k \\left[ r_{ik}x_{ik}+a_i(h_i-x_{ik}+q_i) \\right] \\right)$$ \n",
    "$$\\textrm{Subject To } \\;\\; \\underline{s_k} \\leq \\sum_i x_{ik} \\leq \\overline{s_k}$$   \n",
    "$$\\; \\; \\; \\; \\; \\; \\; \\; \\; \\; \\; \\; \\; \\; \\;\\;\\; \\; \\; \\;\\; \\; \\; \\; \\; \\; \\;\\textrm{If } b_i \\geq \\overline{p_k} \\textrm{, then } x_{ik} = 0 $$   \n",
    "$$\\; \\; \\; \\; \\; \\; \\; \\; \\; \\; \\; \\; \\; \\; \\;\\;\\; \\; \\; \\;\\; \\; \\; \\; \\; \\; \\; \\textrm{If } b_i \\leq \\underline{p_k} \\textrm{, then } x_{ik} = 0 $$\n",
    "\n",
    "$$\\; \\; \\; \\; \\; \\; \\; \\; \\; \\; \\; \\; \\; \\; \\;  \\;  \\sum_k x_{ik} \\leq h_i + q_i $$"
   ]
  },
  {
   "cell_type": "markdown",
   "metadata": {},
   "source": [
    "## 2\n",
    "\n",
    "### (a)\n",
    "\n",
    "$\\textrm{For }i = 1,...,7 \\textrm{ and }j = 1,...,5$   \n",
    "$x_{ij} \\textrm{ : number of hearts produced of size } i \\textrm{ from supplier } j$   \n",
    "$c_j \\textrm{ : unit cost of hearts produced by supplier }j$   \n",
    "$a_j \\textrm{ : maximum quantity availiable from supplier } j$   \n",
    "$r_j \\textrm{ : number of required hearts of size }i$   \n",
    "$f_{ij} \\textrm{ : fraction of hearts from supplier } j \\textrm{ and size }i$   \n",
    "\n",
    "$$\\textrm{Minimize }\\sum_j \\left( c_j \\sum_i x_{ij} \\right)$$ \n",
    "$$\\textrm{Subject To } \\;\\; x_{ij} \\leq f_{ij}a_j$$   \n",
    "$$\\; \\; \\; \\; \\; \\; \\; \\; \\; \\; \\; \\; \\; \\; \\; \\;   \\sum_j x_{ij} \\geq r_i$$\n",
    "\n",
    "  \n",
    "\n",
    "### (b)\n"
   ]
  },
  {
   "cell_type": "code",
   "execution_count": 16,
   "metadata": {
    "collapsed": true
   },
   "outputs": [],
   "source": [
    "from gurobipy import *\n",
    "\n",
    "def printOptimal(m):\n",
    "    if m.Status == GRB.OPTIMAL:\n",
    "        print('Variable Values:')\n",
    "        for v in m.getVars():\n",
    "            print(v.VarName, v.X)\n",
    "\n",
    "        print('\\nObjective Value: {}\\n'.format(str(m.objVal)))\n",
    "        print('\\nRuntime: {}\\n'.format(m.Runtime))"
   ]
  },
  {
   "cell_type": "code",
   "execution_count": 132,
   "metadata": {},
   "outputs": [],
   "source": [
    "import numpy as np\n",
    "f = np.array([[.4,.1,0,0,0],[.4,.2,0,0,0],[.2,.3,.4,.2,0],[0,.2,.3,.2,0],[0,.2,.3,.2,.2],[0,0,0,.2,.3],[0,0,0,.2,.5]])\n",
    "r = np.array([20,30,120,200,150,60,45])\n",
    "c = np.array([2.5,3.2,3.0,2.1,3.9])\n",
    "a = np.array([500,330,150,650,300])"
   ]
  },
  {
   "cell_type": "code",
   "execution_count": 140,
   "metadata": {},
   "outputs": [
    {
     "name": "stdout",
     "output_type": "stream",
     "text": [
      "Optimize a model with 42 rows, 35 columns and 70 nonzeros\n",
      "Coefficient statistics:\n",
      "  Matrix range     [1e+00, 1e+00]\n",
      "  Objective range  [2e+00, 4e+00]\n",
      "  Bounds range     [0e+00, 0e+00]\n",
      "  RHS range        [2e+01, 2e+02]\n",
      "Presolve removed 36 rows and 19 columns\n",
      "Presolve time: 0.01s\n",
      "Presolved: 6 rows, 16 columns, 16 nonzeros\n",
      "\n",
      "Iteration    Objective       Primal Inf.    Dual Inf.      Time\n",
      "       0    4.8800000e+02   5.312500e+01   0.000000e+00      0s\n",
      "       6    1.4185000e+03   0.000000e+00   0.000000e+00      0s\n",
      "\n",
      "Solved in 6 iterations and 0.01 seconds\n",
      "Optimal objective  1.418500000e+03\n",
      "Variable Values:\n",
      "X[0,0] 20.0\n",
      "X[0,1] 0.0\n",
      "X[0,2] 0.0\n",
      "X[0,3] 0.0\n",
      "X[0,4] 0.0\n",
      "X[1,0] 30.0\n",
      "X[1,1] 0.0\n",
      "X[1,2] 0.0\n",
      "X[1,3] 0.0\n",
      "X[1,4] 0.0\n",
      "X[2,0] 0.0\n",
      "X[2,1] 0.0\n",
      "X[2,2] 0.0\n",
      "X[2,3] 120.0\n",
      "X[2,4] 0.0\n",
      "X[3,0] 0.0\n",
      "X[3,1] 25.0\n",
      "X[3,2] 45.0\n",
      "X[3,3] 130.0\n",
      "X[3,4] 0.0\n",
      "X[4,0] 0.0\n",
      "X[4,1] 0.0\n",
      "X[4,2] 20.0\n",
      "X[4,3] 130.0\n",
      "X[4,4] 0.0\n",
      "X[5,0] 0.0\n",
      "X[5,1] 0.0\n",
      "X[5,2] 0.0\n",
      "X[5,3] 60.0\n",
      "X[5,4] 0.0\n",
      "X[6,0] 0.0\n",
      "X[6,1] 0.0\n",
      "X[6,2] 0.0\n",
      "X[6,3] 45.0\n",
      "X[6,4] 0.0\n",
      "\n",
      "Objective Value: 1418.5\n",
      "\n",
      "\n",
      "Runtime: 0.013051033020019531\n",
      "\n"
     ]
    },
    {
     "name": "stderr",
     "output_type": "stream",
     "text": [
      "/Users/Karen_Loscocco/miniconda3/lib/python3.7/site-packages/ipykernel_launcher.py:5: DeprecationWarning: Calling np.sum(generator) is deprecated, and in the future will give a different result. Use np.sum(np.fromiter(generator)) or the python sum builtin instead.\n",
      "  \"\"\"\n"
     ]
    }
   ],
   "source": [
    "m = Model()\n",
    "\n",
    "X = m.addVars(7,5, name = 'X', lb = 0)\n",
    "\n",
    "m.setObjective(np.sum(c[j]*X.sum('*',j) for j in range(5)), GRB.MINIMIZE)\n",
    "\n",
    "m.addConstrs(X[i,j] <= f[i,j]*a[j] for i in range(7) for j in range(5))\n",
    "\n",
    "m.addConstrs(X.sum(i,'*') >= r[i] for i in range(7))\n",
    "\n",
    "m.optimize()\n",
    "printOptimal(m)"
   ]
  },
  {
   "cell_type": "markdown",
   "metadata": {},
   "source": [
    "### (c)"
   ]
  },
  {
   "cell_type": "code",
   "execution_count": 138,
   "metadata": {},
   "outputs": [
    {
     "name": "stdout",
     "output_type": "stream",
     "text": [
      "Optimize a model with 42 rows, 35 columns and 70 nonzeros\n",
      "Variable types: 0 continuous, 35 integer (0 binary)\n",
      "Coefficient statistics:\n",
      "  Matrix range     [1e+00, 1e+00]\n",
      "  Objective range  [2e+00, 4e+00]\n",
      "  Bounds range     [0e+00, 0e+00]\n",
      "  RHS range        [2e+01, 2e+02]\n",
      "Found heuristic solution: objective 1598.7000000\n",
      "Presolve removed 41 rows and 31 columns\n",
      "Presolve time: 0.00s\n",
      "Presolved: 1 rows, 4 columns, 4 nonzeros\n",
      "Found heuristic solution: objective 1511.6000000\n",
      "Variable types: 0 continuous, 4 integer (0 binary)\n",
      "\n",
      "Root relaxation: objective 1.418500e+03, 1 iterations, 0.00 seconds\n",
      "\n",
      "    Nodes    |    Current Node    |     Objective Bounds      |     Work\n",
      " Expl Unexpl |  Obj  Depth IntInf | Incumbent    BestBd   Gap | It/Node Time\n",
      "\n",
      "*    0     0               0    1418.5000000 1418.50000  0.00%     -    0s\n",
      "\n",
      "Explored 0 nodes (1 simplex iterations) in 0.01 seconds\n",
      "Thread count was 8 (of 8 available processors)\n",
      "\n",
      "Solution count 3: 1418.5 1511.6 1513.6 \n",
      "\n",
      "Optimal solution found (tolerance 1.00e-04)\n",
      "Best objective 1.418500000000e+03, best bound 1.418500000000e+03, gap 0.0000%\n",
      "Variable Values:\n",
      "X[0,0] 20.0\n",
      "X[0,1] -0.0\n",
      "X[0,2] 0.0\n",
      "X[0,3] 0.0\n",
      "X[0,4] 0.0\n",
      "X[1,0] 30.0\n",
      "X[1,1] -0.0\n",
      "X[1,2] 0.0\n",
      "X[1,3] 0.0\n",
      "X[1,4] 0.0\n",
      "X[2,0] -0.0\n",
      "X[2,1] -0.0\n",
      "X[2,2] -0.0\n",
      "X[2,3] 120.0\n",
      "X[2,4] 0.0\n",
      "X[3,0] 0.0\n",
      "X[3,1] 25.0\n",
      "X[3,2] 45.0\n",
      "X[3,3] 130.0\n",
      "X[3,4] 0.0\n",
      "X[4,0] 0.0\n",
      "X[4,1] -0.0\n",
      "X[4,2] 20.0\n",
      "X[4,3] 130.0\n",
      "X[4,4] -0.0\n",
      "X[5,0] 0.0\n",
      "X[5,1] 0.0\n",
      "X[5,2] 0.0\n",
      "X[5,3] 60.0\n",
      "X[5,4] -0.0\n",
      "X[6,0] 0.0\n",
      "X[6,1] 0.0\n",
      "X[6,2] 0.0\n",
      "X[6,3] 45.0\n",
      "X[6,4] -0.0\n",
      "\n",
      "Objective Value: 1418.5\n",
      "\n",
      "\n",
      "Runtime: 0.01876211166381836\n",
      "\n"
     ]
    },
    {
     "name": "stderr",
     "output_type": "stream",
     "text": [
      "/Users/Karen_Loscocco/miniconda3/lib/python3.7/site-packages/ipykernel_launcher.py:5: DeprecationWarning: Calling np.sum(generator) is deprecated, and in the future will give a different result. Use np.sum(np.fromiter(generator)) or the python sum builtin instead.\n",
      "  \"\"\"\n"
     ]
    }
   ],
   "source": [
    "m_integer = Model()\n",
    "\n",
    "X = m_integer.addVars(7,5, name = 'X',vtype = GRB.INTEGER, lb = 0)\n",
    "\n",
    "m_integer.setObjective(np.sum(c[j]*X.sum('*',j) for j in range(5)), GRB.MINIMIZE)\n",
    "\n",
    "m_integer.addConstrs(X[i,j] <= f[i,j]*a[j] for i in range(7) for j in range(5))\n",
    "\n",
    "m_integer.addConstrs(X.sum(i,'*') >= r[i] for i in range(7))\n",
    "\n",
    "m_integer.optimize()\n",
    "printOptimal(m_integer)"
   ]
  },
  {
   "cell_type": "markdown",
   "metadata": {},
   "source": [
    "The two take about the same amount of time and give the same objective value. "
   ]
  },
  {
   "cell_type": "markdown",
   "metadata": {},
   "source": [
    "## 3\n",
    "\n",
    "$\\begin{pmatrix} 1 & 2 \\\\ 2 & 1 \\\\ 3 & 1 \\end{pmatrix} x = \\begin{pmatrix} 3 \\\\ 3 \\\\ 4\\end{pmatrix}$   \n",
    "   \n",
    "$x \\geq 0$   "
   ]
  },
  {
   "cell_type": "code",
   "execution_count": 37,
   "metadata": {},
   "outputs": [
    {
     "data": {
      "image/png": "[encoded data removed]",
      "text/plain": [
       "<Figure size 432x288 with 1 Axes>"
      ]
     },
     "metadata": {
      "needs_background": "light"
     },
     "output_type": "display_data"
    }
   ],
   "source": [
    "import matplotlib.pyplot as plt\n",
    "\n",
    "x = np.linspace(0,5,100)\n",
    "\n",
    "plt.plot(x, (3/2)-.5*x, '-b', label=r'$x_1+2x_2\\leq 3$')\n",
    "plt.plot(x, 3- 2*x , '-r', label=r'$2x_1+x_2\\leq 3$')\n",
    "plt.plot(x, 4- 3*x, '-g', label=r'$3x_1+x_2\\leq 4$')\n",
    "\n",
    "plt.xlabel(r'$x_1$')\n",
    "plt.ylabel(r'$x_2$')\n",
    "plt.legend()\n",
    "plt.grid()\n",
    "plt.xlim(0,5)\n",
    "plt.ylim(0,5)\n",
    "\n",
    "plt.fill_between(x ,np.minimum((3/2)-.5*x,4- 3*x), color='grey', alpha='0.5')\n",
    "plt.show()"
   ]
  },
  {
   "cell_type": "markdown",
   "metadata": {},
   "source": [
    "**Basic solutions:** $(0,0), (\\frac{4}{3},0), (1,1),  (0,\\frac{3}{2})$    \n",
    "**Basic feasible solutions:** $(0,0), (\\frac{4}{3},0), (1,1),  (0,\\frac{3}{2})$   "
   ]
  },
  {
   "cell_type": "markdown",
   "metadata": {},
   "source": [
    "## 4"
   ]
  },
  {
   "cell_type": "markdown",
   "metadata": {},
   "source": [
    "$A = \\begin{pmatrix}\n",
    "    1 & 1 & 0 & 2 & 1 & 1 & 1\\\\\n",
    "    0 & 2 & 2 & 0 & 0 & -2 & 1 \\\\\n",
    "    1 & 2 & 1 & 5 & 4 & 3 & 3\n",
    "\\end{pmatrix}$\n",
    "\n",
    "To test for basic solution (BS), the solution of $Ax$ must equal: $\\begin{pmatrix}\n",
    "    2 \\\\\n",
    "    2 \\\\\n",
    "    6\n",
    "\\end{pmatrix}\n",
    "$   \n",
    "\n",
    "To test for basic feasible solution (BFS), the solution must be a basic solution and also satisfy $x\\geq 0$.\n"
   ]
  },
  {
   "cell_type": "code",
   "execution_count": 7,
   "metadata": {
    "collapsed": true
   },
   "outputs": [],
   "source": [
    "A = np.array([[1,1,0,2,1,1,1],[0,2,2,0,0,-2,1],[1,2,1,5,4,3,3]])"
   ]
  },
  {
   "cell_type": "markdown",
   "metadata": {},
   "source": [
    "### (a)\n",
    "Neither BS or BFS"
   ]
  },
  {
   "cell_type": "code",
   "execution_count": 8,
   "metadata": {
    "collapsed": true
   },
   "outputs": [
    {
     "data": {
      "text/plain": [
       "array([2, 2, 3])"
      ]
     },
     "execution_count": 8,
     "metadata": {},
     "output_type": "execute_result"
    }
   ],
   "source": [
    "x = np.array([1,1,0,0,0,0,0])\n",
    "np.dot(A,x)"
   ]
  },
  {
   "cell_type": "markdown",
   "metadata": {},
   "source": [
    "### (b)\n",
    "Neither BS or BFS"
   ]
  },
  {
   "cell_type": "code",
   "execution_count": 9,
   "metadata": {
    "collapsed": true
   },
   "outputs": [
    {
     "data": {
      "text/plain": [
       "array([1, 2, 2])"
      ]
     },
     "execution_count": 9,
     "metadata": {},
     "output_type": "execute_result"
    }
   ],
   "source": [
    "x = np.array([2,-1,2,0,0,0,0])\n",
    "np.dot(A,x)"
   ]
  },
  {
   "cell_type": "markdown",
   "metadata": {},
   "source": [
    "### (c)\n",
    "BS and BFS"
   ]
  },
  {
   "cell_type": "code",
   "execution_count": 10,
   "metadata": {
    "collapsed": true
   },
   "outputs": [
    {
     "data": {
      "text/plain": [
       "array([2, 2, 6])"
      ]
     },
     "execution_count": 10,
     "metadata": {},
     "output_type": "execute_result"
    }
   ],
   "source": [
    "x = np.array([1,0,1,0,1,0,0])\n",
    "np.dot(A,x)"
   ]
  },
  {
   "cell_type": "markdown",
   "metadata": {},
   "source": [
    "### (d)\n",
    "BS and BFS"
   ]
  },
  {
   "cell_type": "code",
   "execution_count": 11,
   "metadata": {
    "collapsed": true
   },
   "outputs": [
    {
     "data": {
      "text/plain": [
       "array([2, 2, 6])"
      ]
     },
     "execution_count": 11,
     "metadata": {},
     "output_type": "execute_result"
    }
   ],
   "source": [
    "x = np.array([0,0,1,1,0,0,0])\n",
    "np.dot(A,x)"
   ]
  },
  {
   "cell_type": "markdown",
   "metadata": {},
   "source": [
    "### (e)\n",
    "BS and BFS"
   ]
  },
  {
   "cell_type": "code",
   "execution_count": 12,
   "metadata": {
    "collapsed": true
   },
   "outputs": [
    {
     "data": {
      "text/plain": [
       "array([2., 2., 6.])"
      ]
     },
     "execution_count": 12,
     "metadata": {},
     "output_type": "execute_result"
    }
   ],
   "source": [
    "x = np.array([0,.5,0,0,.5,0,1])\n",
    "np.dot(A,x)"
   ]
  },
  {
   "cell_type": "markdown",
   "metadata": {},
   "source": [
    "## 5"
   ]
  },
  {
   "cell_type": "markdown",
   "metadata": {},
   "source": [
    "$A = \\begin{pmatrix}\n",
    "    2 & 1 & 1\\\\\n",
    "    4 & 3 & 3 \\\\\n",
    "    3 & 2 & 2 \n",
    "\\end{pmatrix}$\n",
    "### (a)\n",
    "The rank of $A$ is 2.     \n",
    " \n",
    "### (b)\n",
    "\n",
    "The following shows a way to find the linearly independent rows of $A$:   \n",
    "\n",
    "$A^T = \\begin{pmatrix}\n",
    "    2 & 4 & 3\\\\\n",
    "    1 & 3 & 2 \\\\\n",
    "    1 & 3 & 2 \n",
    "\\end{pmatrix}$   \n",
    "\n",
    "$RREF(A^T)= \\begin{pmatrix}\n",
    "    1 & 0 & \\frac{1}{2}\\\\\n",
    "    0 & 1 & \\frac{1}{2} \\\\\n",
    "    0 & 0 & 0 \n",
    "\\end{pmatrix}$\n",
    "\n",
    "This means the third column of $A^T$ is linearly dependent:  \n",
    "   \n",
    "   \n",
    "$\\frac{1}{2}\\begin{pmatrix}2 \\\\ 1 \\\\ 1 \\end{pmatrix}+ \\frac{1}{2}\\begin{pmatrix}4 \\\\ 3 \\\\ 3 \\end{pmatrix} = \\begin{pmatrix}3 \\\\ 2 \\\\ 2 \\end{pmatrix}$   \n",
    "\n",
    "The linearly independent columns of $A^T$ are $\\begin{pmatrix}\n",
    "    2 & 4 \\\\\n",
    "    1 & 3 \\\\\n",
    "    1 & 3  \n",
    "\\end{pmatrix}$ and therefore, the linearly independent rows of $A$ are $\\begin{pmatrix}\n",
    "    2 & 1 & 1 \\\\\n",
    "    4 & 3 & 3\n",
    "\\end{pmatrix}$.  \n",
    "\n",
    "Based on the above, I can describe the polyhedron in the following form:   \n",
    "\n",
    "$\\begin{pmatrix}\n",
    "    2 & 1 & 1 \\\\\n",
    "    4 & 3 & 3\n",
    "\\end{pmatrix} \\begin{pmatrix}\n",
    "    x_1 \\\\\n",
    "    x_2 \\\\\n",
    "    x_3\n",
    "\\end{pmatrix} = \\begin{pmatrix}\n",
    "    5 \\\\\n",
    "    9 \\\\\n",
    "\\end{pmatrix}$   \n",
    "\n",
    "### (c)\n",
    "$n-m=3-2=1$ and so there is one nonbasic variable. In other words, for each basic solution, there is one $x_i$ which equals zero. \n",
    "\n",
    "$(A|b) = \n",
    "\\left(\n",
    "\\begin{array}{ccc|c}\n",
    "   2 & 1 & 1 & 5 \\\\\n",
    "    4 & 3 & 3 & 9\n",
    "\\end{array}\n",
    "\\right)\n",
    "$"
   ]
  },
  {
   "cell_type": "code",
   "execution_count": 101,
   "metadata": {},
   "outputs": [
    {
     "data": {
      "text/latex": [
       "$\\displaystyle \\left[\\begin{matrix}2 & 1 & 1 & 5\\\\4 & 3 & 3 & 9\\end{matrix}\\right]$"
      ],
      "text/plain": [
       "Matrix([\n",
       "[2, 1, 1, 5],\n",
       "[4, 3, 3, 9]])"
      ]
     },
     "execution_count": 101,
     "metadata": {},
     "output_type": "execute_result"
    }
   ],
   "source": [
    "from sympy import *\n",
    "Ab = Matrix([[2,1,1,5],[4,3,3,9]])\n",
    "Ab"
   ]
  },
  {
   "cell_type": "markdown",
   "metadata": {},
   "source": [
    "**Case 1: $x_1 = 0$**"
   ]
  },
  {
   "cell_type": "code",
   "execution_count": 96,
   "metadata": {},
   "outputs": [
    {
     "data": {
      "text/latex": [
       "$\\displaystyle \\left[\\begin{matrix}1 & 1 & 5\\\\3 & 3 & 9\\end{matrix}\\right]$"
      ],
      "text/plain": [
       "Matrix([\n",
       "[1, 1, 5],\n",
       "[3, 3, 9]])"
      ]
     },
     "execution_count": 96,
     "metadata": {},
     "output_type": "execute_result"
    }
   ],
   "source": [
    "Ab[:,1:]"
   ]
  },
  {
   "cell_type": "code",
   "execution_count": 97,
   "metadata": {},
   "outputs": [
    {
     "data": {
      "text/latex": [
       "$\\displaystyle \\left[\\begin{matrix}1 & 1 & 0\\\\0 & 0 & 1\\end{matrix}\\right]$"
      ],
      "text/plain": [
       "Matrix([\n",
       "[1, 1, 0],\n",
       "[0, 0, 1]])"
      ]
     },
     "execution_count": 97,
     "metadata": {},
     "output_type": "execute_result"
    }
   ],
   "source": [
    "Ab[:,1:].rref()[0]"
   ]
  },
  {
   "cell_type": "markdown",
   "metadata": {},
   "source": [
    "$x_1 = 0$   \n",
    "$x_2 + x_3 = 0$   \n",
    "$0 \\neq 1$ so there is no solution to this system. "
   ]
  },
  {
   "cell_type": "markdown",
   "metadata": {},
   "source": [
    "**Case 2: $x_2 = 0$**"
   ]
  },
  {
   "cell_type": "code",
   "execution_count": 100,
   "metadata": {},
   "outputs": [
    {
     "data": {
      "text/latex": [
       "$\\displaystyle \\left[\\begin{matrix}2 & 1 & 5\\\\4 & 3 & 9\\end{matrix}\\right]$"
      ],
      "text/plain": [
       "Matrix([\n",
       "[2, 1, 5],\n",
       "[4, 3, 9]])"
      ]
     },
     "execution_count": 100,
     "metadata": {},
     "output_type": "execute_result"
    }
   ],
   "source": [
    "Ab[:,[0,2,3]]"
   ]
  },
  {
   "cell_type": "code",
   "execution_count": 99,
   "metadata": {},
   "outputs": [
    {
     "data": {
      "text/latex": [
       "$\\displaystyle \\left[\\begin{matrix}1 & 0 & 3\\\\0 & 1 & -1\\end{matrix}\\right]$"
      ],
      "text/plain": [
       "Matrix([\n",
       "[1, 0,  3],\n",
       "[0, 1, -1]])"
      ]
     },
     "execution_count": 99,
     "metadata": {},
     "output_type": "execute_result"
    }
   ],
   "source": [
    "Ab[:,[0,2,3]].rref()[0]"
   ]
  },
  {
   "cell_type": "markdown",
   "metadata": {},
   "source": [
    "$x_1 = 3$   \n",
    "$x_2 = 0$   \n",
    "$x_3 = -1$"
   ]
  },
  {
   "cell_type": "markdown",
   "metadata": {},
   "source": [
    "**Case 2: $x_3 = 0$** "
   ]
  },
  {
   "cell_type": "code",
   "execution_count": 93,
   "metadata": {},
   "outputs": [
    {
     "data": {
      "text/latex": [
       "$\\displaystyle \\left[\\begin{matrix}2 & 1 & 5\\\\4 & 3 & 9\\end{matrix}\\right]$"
      ],
      "text/plain": [
       "Matrix([\n",
       "[2, 1, 5],\n",
       "[4, 3, 9]])"
      ]
     },
     "execution_count": 93,
     "metadata": {},
     "output_type": "execute_result"
    }
   ],
   "source": [
    "Ab[:,[0,1,3]]"
   ]
  },
  {
   "cell_type": "code",
   "execution_count": 94,
   "metadata": {},
   "outputs": [
    {
     "data": {
      "text/latex": [
       "$\\displaystyle \\left[\\begin{matrix}1 & 0 & 3\\\\0 & 1 & -1\\end{matrix}\\right]$"
      ],
      "text/plain": [
       "Matrix([\n",
       "[1, 0,  3],\n",
       "[0, 1, -1]])"
      ]
     },
     "execution_count": 94,
     "metadata": {},
     "output_type": "execute_result"
    }
   ],
   "source": [
    "Ab[:,[0,1,3]].rref()[0]"
   ]
  },
  {
   "cell_type": "markdown",
   "metadata": {},
   "source": [
    "$x_1 = 3$   \n",
    "$x_2 = -1$   \n",
    "$x_3 = 0$"
   ]
  },
  {
   "cell_type": "markdown",
   "metadata": {},
   "source": [
    "**The basic solutions are the following:**   \n",
    "$(x_1,x_2,x_3)=(3,0,-1),(3,-1,0)$   \n",
    "   \n",
    "There are **no basic feasible solutions** because the basic solutions do not satisfy the condition that $x \\geq 0$"
   ]
  }
 ],
 "metadata": {
  "kernelspec": {
   "display_name": "Python 3",
   "language": "python",
   "name": "python3"
  },
  "language_info": {
   "codemirror_mode": {
    "name": "ipython",
    "version": 3
   },
   "file_extension": ".py",
   "mimetype": "text/x-python",
   "name": "python",
   "nbconvert_exporter": "python",
   "pygments_lexer": "ipython3",
   "version": "3.7.3"
  }
 },
 "nbformat": 4,
 "nbformat_minor": 2
}
