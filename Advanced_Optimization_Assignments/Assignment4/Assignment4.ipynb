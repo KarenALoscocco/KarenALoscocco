{
 "cells": [
  {
   "cell_type": "markdown",
   "metadata": {},
   "source": [
    "# Karen Loscocco\n",
    "## ISYE 4133 Assignment 4"
   ]
  },
  {
   "cell_type": "code",
   "execution_count": 1,
   "metadata": {
    "hide_input": true
   },
   "outputs": [],
   "source": [
    "from gurobipy import *\n",
    "import pandas as pd\n",
    "import numpy as np\n",
    "from itertools import permutations\n",
    "from itertools import product \n",
    "import matplotlib.pyplot as plt\n",
    "from sympy import *\n",
    "\n",
    "def printOptimal(m):\n",
    "    print('\\n')\n",
    "    if m.Status == GRB.OPTIMAL:\n",
    "        print('Variable Values:')\n",
    "        for v in m.getVars():\n",
    "            print(v.VarName, v.X)\n",
    "        \n",
    "        print('\\nObjective Value: {}\\n'.format(str(m.objVal)))"
   ]
  },
  {
   "cell_type": "markdown",
   "metadata": {},
   "source": [
    "## 1 (a)\n",
    "$x_j \\text{: starting time of job }j$   \n",
    "$p_j \\text{: process time of job }j$   \n",
    "$r_j \\text{: release time of job }j$   \n",
    "$d_j \\text{: due date of job }j$   \n",
    "$w_j \\text{: weight of job }j$   \n",
    "$j = \\{ 1,2,3 \\}$   \n",
    "$\\text{Set M} = -(\\sum_jp_j + r_j)$   \n",
    "\n",
    "\n",
    "&nbsp;   \n",
    "$$\\text{min } \\sum_j w_j(x_j+p_j) \\\\\n",
    "x_j \\geq r_j \\forall j \\\\\n",
    "x_j + p_j \\leq d_j \\forall j\\\\\n",
    "x_i \\geq x_j + p_j + M(1-y_{ij}) \\forall i \\lt j \\\\\n",
    "x_j \\geq x_i + p_i + M(1-y_{ji}) \\forall i \\lt j \\\\   \n",
    "y_{ij} + y_{ji} \\geq 1 \\forall i \\lt j \\\\\n",
    "y_{ij}, y_{ji} \\in \\{0,1\\}$$   \n",
    "\n",
    "\n"
   ]
  },
  {
   "cell_type": "code",
   "execution_count": 2,
   "metadata": {},
   "outputs": [
    {
     "name": "stdout",
     "output_type": "stream",
     "text": [
      "Academic license - for non-commercial use only\n",
      "Optimize a model with 15 rows, 9 columns and 30 nonzeros\n",
      "Variable types: 3 continuous, 6 integer (6 binary)\n",
      "Coefficient statistics:\n",
      "  Matrix range     [1e+00, 4e+01]\n",
      "  Objective range  [6e+00, 4e+01]\n",
      "  Bounds range     [1e+00, 1e+00]\n",
      "  RHS range        [1e+00, 4e+01]\n",
      "Presolve removed 15 rows and 9 columns\n",
      "Presolve time: 0.00s\n",
      "Presolve: All rows and columns removed\n",
      "\n",
      "Explored 0 nodes (0 simplex iterations) in 0.01 seconds\n",
      "Thread count was 1 (of 8 available processors)\n",
      "\n",
      "Solution count 1: 1780 \n",
      "\n",
      "Optimal solution found (tolerance 1.00e-04)\n",
      "Best objective 1.780000000000e+03, best bound 1.780000000000e+03, gap 0.0000%\n",
      "\n",
      "\n",
      "Variable Values:\n",
      "x[0] 5.0\n",
      "x[1] 20.0\n",
      "x[2] 26.0\n",
      "y[0,1] 0.0\n",
      "y[0,2] 0.0\n",
      "y[1,0] 1.0\n",
      "y[1,2] 0.0\n",
      "y[2,0] 1.0\n",
      "y[2,1] 1.0\n",
      "\n",
      "Objective Value: 1780.0\n",
      "\n"
     ]
    }
   ],
   "source": [
    "p = np.array([15,6,9])\n",
    "r = np.array([5,10,0])\n",
    "d = np.array([20,27,38])\n",
    "w = np.array([6,10,40])\n",
    "M = -np.sum(p+r)\n",
    "\n",
    "m = Model()\n",
    "X = m.addVars(3, name = 'x')\n",
    "y = m.addVars(list(permutations([0,1,2],2)),vtype = GRB.BINARY, name = 'y')\n",
    "\n",
    "m.addConstrs(X[j]>=r[j] for j in range(len(r)))\n",
    "\n",
    "m.addConstrs(X[j]+p[j] <= d[j] for j in range(len(d)))\n",
    "\n",
    "m.addConstrs((X[i] >= X[j] + p[j] + M*(1-y[i,j]) for i in X for j in X if i < j))\n",
    "\n",
    "m.addConstrs((X[j] >= X[i] + p[i] + M*(1-y[j,i]) for j in X for i in X if i < j))\n",
    "\n",
    "m.addConstrs((y[i,j] + y[j,i] >= 1 for i in X for j in X if i < j))\n",
    "\n",
    "m.setObjective(np.dot(w,np.add(p,X.values())), GRB.MINIMIZE)\n",
    "\n",
    "m.optimize()\n",
    "\n",
    "printOptimal(m)"
   ]
  },
  {
   "cell_type": "markdown",
   "metadata": {},
   "source": [
    "## 1 (b)   \n",
    "$x_j \\text{: starting time of job }j$   \n",
    "$p_j \\text{: process time of job }j$   \n",
    "$r_j \\text{: release time of job }j$   \n",
    "$d_j \\text{: due date of job }j$   \n",
    "$w_j \\text{: weight of job }j$   \n",
    "$j = \\{ 1,2,3 \\}$   \n",
    "$\\text{Set M} = -(\\sum_jp_j + r_j)$   \n",
    "\n",
    "&nbsp;   \n",
    "$$\\text{min } z \\\\\n",
    "x_j \\geq r_j \\forall j \\\\\n",
    "x_j + p_j \\leq d_j \\forall j\\\\\n",
    "x_i \\geq x_j + p_j + M(1-y_{ij}) \\forall i \\lt j \\\\\n",
    "x_j \\geq x_i + p_i + M(1-y_{ji}) \\forall i \\lt j \\\\   \n",
    "y_{ij} + y_{ji} \\geq 1 \\forall i \\lt j \\\\\n",
    "x_j + p_j \\leq z \\forall j \\\\\n",
    "y_{ij}, y_{ji} \\in \\{0,1\\}$$   \n",
    "\n",
    "\n",
    "\n"
   ]
  },
  {
   "cell_type": "code",
   "execution_count": 3,
   "metadata": {},
   "outputs": [
    {
     "name": "stdout",
     "output_type": "stream",
     "text": [
      "Optimize a model with 18 rows, 10 columns and 36 nonzeros\n",
      "Variable types: 4 continuous, 6 integer (6 binary)\n",
      "Coefficient statistics:\n",
      "  Matrix range     [1e+00, 4e+01]\n",
      "  Objective range  [1e+00, 1e+00]\n",
      "  Bounds range     [1e+00, 1e+00]\n",
      "  RHS range        [1e+00, 4e+01]\n",
      "Presolve removed 18 rows and 10 columns\n",
      "Presolve time: 0.00s\n",
      "Presolve: All rows and columns removed\n",
      "\n",
      "Explored 0 nodes (0 simplex iterations) in 0.01 seconds\n",
      "Thread count was 1 (of 8 available processors)\n",
      "\n",
      "Solution count 1: 35 \n",
      "\n",
      "Optimal solution found (tolerance 1.00e-04)\n",
      "Best objective 3.500000000000e+01, best bound 3.500000000000e+01, gap 0.0000%\n",
      "\n",
      "\n",
      "Variable Values:\n",
      "x[0] 5.0\n",
      "x[1] 20.0\n",
      "x[2] 26.0\n",
      "y[0,1] 0.0\n",
      "y[0,2] 0.0\n",
      "y[1,0] 1.0\n",
      "y[1,2] 0.0\n",
      "y[2,0] 1.0\n",
      "y[2,1] 1.0\n",
      "z 35.0\n",
      "\n",
      "Objective Value: 35.0\n",
      "\n"
     ]
    }
   ],
   "source": [
    "p = [15,6,9]\n",
    "r = [5,10,0]\n",
    "d = [20,27,38]\n",
    "w = [6,10,40]\n",
    "M = -np.sum(p+r)\n",
    "\n",
    "m = Model()\n",
    "X = m.addVars(3, name = 'x')\n",
    "y = m.addVars(list(permutations([0,1,2],2)),vtype = GRB.BINARY, name = 'y')\n",
    "z = m.addVar(name = 'z')\n",
    "\n",
    "m.addConstrs(X[j]>=r[j] for j in range(len(r)))\n",
    "\n",
    "m.addConstrs(X[j]+p[j] <= d[j] for j in range(len(d)))\n",
    "\n",
    "m.addConstrs((X[i] >= X[j] + p[j] + M*(1-y[i,j]) for i in X for j in X if i < j))\n",
    "\n",
    "m.addConstrs((X[j] >= X[i] + p[i] + M*(1-y[j,i]) for j in X for i in X if i < j))\n",
    "\n",
    "m.addConstrs((y[i,j] + y[j,i] >= 1 for i in X for j in X if i<  j))\n",
    "\n",
    "m.addConstrs((X[j] + p[j] <= z for j in range(3)))\n",
    "\n",
    "m.setObjective(z,GRB.MINIMIZE)\n",
    "\n",
    "m.optimize()\n",
    "\n",
    "printOptimal(m)"
   ]
  },
  {
   "cell_type": "markdown",
   "metadata": {},
   "source": [
    "## 1 (c)\n",
    "$x_j \\text{: starting time of job }j$   \n",
    "$p_j \\text{: process time of job }j$   \n",
    "$r_j \\text{: release time of job }j$   \n",
    "$d_j \\text{: due date of job }j$   \n",
    "$w_j \\text{: weight of job }j$   \n",
    "$t_j \\text{: tardiness for job }j$   \n",
    "$j = \\{ 1,2,3 \\}$   \n",
    "$\\text{Set M} = -(\\sum_jp_j + r_j)$   \n",
    "\n",
    "\n",
    "&nbsp;   \n",
    "$$\\text{min } \\sum_j w_j(x_j+p_j) \\\\\n",
    "x_j \\geq r_j \\forall j \\\\\n",
    "t_j \\geq (x_j + p_j - d_j) \\\\\n",
    "t_j \\geq 0 \\\\\n",
    "\\sum_j t_j \\leq 100\\\\\n",
    "x_i \\geq x_j + p_j + M(1-y_{ij}) \\forall i \\lt j \\\\\n",
    "x_j \\geq x_i + p_i + M(1-y_{ji}) \\forall i \\lt j \\\\   \n",
    "y_{ij} + y_{ji} \\geq 1 \\forall i \\lt j \\\\\n",
    "y_{ij}, y_{ji} \\in \\{0,1\\}$$   \n",
    "\n",
    "\n"
   ]
  },
  {
   "cell_type": "code",
   "execution_count": 4,
   "metadata": {},
   "outputs": [
    {
     "name": "stdout",
     "output_type": "stream",
     "text": [
      "Optimize a model with 16 rows, 12 columns and 36 nonzeros\n",
      "Variable types: 6 continuous, 6 integer (6 binary)\n",
      "Coefficient statistics:\n",
      "  Matrix range     [1e+00, 4e+01]\n",
      "  Objective range  [6e+00, 4e+01]\n",
      "  Bounds range     [1e+00, 1e+00]\n",
      "  RHS range        [1e+00, 1e+02]\n",
      "Presolve removed 7 rows and 4 columns\n",
      "Presolve time: 0.00s\n",
      "Presolved: 9 rows, 8 columns, 25 nonzeros\n",
      "Variable types: 5 continuous, 3 integer (3 binary)\n",
      "\n",
      "Root relaxation: objective 6.400000e+02, 2 iterations, 0.00 seconds\n",
      "\n",
      "    Nodes    |    Current Node    |     Objective Bounds      |     Work\n",
      " Expl Unexpl |  Obj  Depth IntInf | Incumbent    BestBd   Gap | It/Node Time\n",
      "\n",
      "     0     0  640.00000    0    2          -  640.00000      -     -    0s\n",
      "H    0     0                     706.0000000  640.00000  9.35%     -    0s\n",
      "     0     0     cutoff    0       706.00000  706.00000  0.00%     -    0s\n",
      "\n",
      "Explored 1 nodes (2 simplex iterations) in 0.01 seconds\n",
      "Thread count was 8 (of 8 available processors)\n",
      "\n",
      "Solution count 1: 706 \n",
      "\n",
      "Optimal solution found (tolerance 1.00e-04)\n",
      "Best objective 7.060000000000e+02, best bound 7.060000000000e+02, gap 0.0000%\n",
      "\n",
      "\n",
      "Variable Values:\n",
      "x[0] 16.0\n",
      "x[1] 10.0\n",
      "x[2] 0.0\n",
      "y[0,1] 1.0\n",
      "y[0,2] 1.0\n",
      "y[1,0] 0.0\n",
      "y[1,2] 1.0\n",
      "y[2,0] -0.0\n",
      "y[2,1] -0.0\n",
      "t[0] 11.0\n",
      "t[1] 89.0\n",
      "t[2] 0.0\n",
      "\n",
      "Objective Value: 706.0\n",
      "\n"
     ]
    }
   ],
   "source": [
    "p = np.array([15,6,9])\n",
    "r = np.array([5,10,0])\n",
    "d = np.array([20,27,38])\n",
    "w = np.array([6,10,40])\n",
    "M = -np.sum(p+r)\n",
    "\n",
    "m = Model()\n",
    "X = m.addVars(3, name = 'x')\n",
    "y = m.addVars(list(permutations([0,1,2],2)),vtype = GRB.BINARY, name = 'y')\n",
    "t = m.addVars(3, name = 't')\n",
    "\n",
    "m.addConstrs(X[j]>=r[j] for j in range(len(r)))\n",
    "\n",
    "m.addConstrs(X[j] + p[j] - d[j] <= t[j] for j in range(len(d)))\n",
    "\n",
    "m.addConstr(sum(t.values()) <= 100)\n",
    "\n",
    "m.addConstrs((X[i] >= X[j] + p[j] + M*(1-y[i,j]) for i in X for j in X if i < j))\n",
    "\n",
    "m.addConstrs((X[j] >= X[i] + p[i] + M*(1-y[j,i]) for j in X for i in X if i < j))\n",
    "\n",
    "m.addConstrs((y[i,j] + y[j,i] >= 1 for i in X for j in X if i < j))\n",
    "\n",
    "m.setObjective(np.dot(w,np.add(p,X.values())), GRB.MINIMIZE)\n",
    "\n",
    "m.optimize()\n",
    "\n",
    "printOptimal(m)"
   ]
  },
  {
   "cell_type": "markdown",
   "metadata": {},
   "source": [
    "## 2  \n",
    "$$\\text{min }4x_1+5x_2\\\\   \n",
    "x_1+4x_2 \\geq 5\\\\      \n",
    "3x_1+2x_2 \\geq 7\\\\      \n",
    "x_1, x_2 \\in \\mathbb{Z}_+$$      \n",
    "\n",
    "&nbsp; \n",
    "The feasible region is the set of integral points within the shaded region. "
   ]
  },
  {
   "cell_type": "code",
   "execution_count": 5,
   "metadata": {
    "hide_input": true,
    "scrolled": true
   },
   "outputs": [
    {
     "data": {
      "image/png": "[encoded data removed]",
      "text/plain": [
       "<Figure size 432x288 with 1 Axes>"
      ]
     },
     "metadata": {
      "needs_background": "light"
     },
     "output_type": "display_data"
    }
   ],
   "source": [
    "x = np.linspace(0,5,1000)\n",
    "\n",
    "plt.plot(x, -x/4 + 5/4, '-b', label=r'$x_1+4x_2 \\geq 5$')\n",
    "plt.plot(x, -3*x/2 + 7/2 , '-r', label=r'$3x_1+2x_2 \\geq 7$')\n",
    "\n",
    "points = np.array(list(itertools.product(range(6),range(6))))\n",
    "plt.plot(points[:,0],points[:,1],'ko',markersize=4.5)\n",
    "\n",
    "plt.xlabel(r'$x_1$')\n",
    "plt.ylabel(r'$x_2$')\n",
    "plt.legend(bbox_to_anchor=(1.01, 1), loc='upper left')\n",
    "plt.grid()\n",
    "plt.xlim(0,5)\n",
    "plt.ylim(0,5)\n",
    "\n",
    "plt.fill_between(x,5,np.maximum(-3*x/2 + 7/2,-x/4 + 5/4), color='grey', alpha='0.5')\n",
    "plt.show()"
   ]
  },
  {
   "cell_type": "markdown",
   "metadata": {},
   "source": [
    "Put the IP in standard form, relax the integer constraints, and solve over the larger region using Gurobi:    \n",
    "&nbsp; \n",
    "$$\\text{min }4x_1+5x_2\\\\  \n",
    "x_1+4x_2 - x_3 = 5\\\\      \n",
    "3x_1+2x_2 - x_4 = 7\\\\      \n",
    "x_1, x_2, x_3, x_4 \\geq 0 $$      \n",
    "\n"
   ]
  },
  {
   "cell_type": "code",
   "execution_count": 6,
   "metadata": {
    "hide_input": true,
    "scrolled": false
   },
   "outputs": [
    {
     "name": "stdout",
     "output_type": "stream",
     "text": [
      "\n",
      "\n",
      "Variable Values:\n",
      "X[1] 1.8\n",
      "X[2] 0.8\n",
      "X[3] 0.0\n",
      "X[4] 0.0\n",
      "\n",
      "Objective Value: 11.2\n",
      "\n"
     ]
    }
   ],
   "source": [
    "c = np.array([4,5,0,0])\n",
    "A = np.array([[1,4,-1,0],[3,2,0,-1]])\n",
    "b = np.array([5,7])\n",
    "\n",
    "m = Model()\n",
    "\n",
    "X = m.addVars([1,2,3,4], name = 'X', lb = 0)\n",
    "\n",
    "m.setObjective(np.dot(c,X.values()), GRB.MINIMIZE)\n",
    "\n",
    "for i in range(A.shape[0]):\n",
    "    m.addConstr(np.dot(A[i,:],X.values()) == b[i])\n",
    "\n",
    "m.setParam('OutputFlag', 0)\n",
    "\n",
    "m.optimize()\n",
    "        \n",
    "printOptimal(m)"
   ]
  },
  {
   "cell_type": "code",
   "execution_count": 7,
   "metadata": {
    "hide_input": true,
    "scrolled": true
   },
   "outputs": [],
   "source": [
    "c = Matrix([4,5,0,0]).T\n",
    "A = Matrix([[1,4,-1,0],[3,2,0,-1]])\n",
    "b = Matrix([5,7])\n",
    "\n",
    "basis = [0,1]\n",
    "Ab = A[:,basis]\n",
    "cb = c[:,basis].T\n",
    "y = Inverse(Ab.T)*cb\n",
    "\n",
    "newc = (c.T - A.T*y)\n",
    "newcc = (b.T*y)[0]\n",
    "newa = Inverse(Ab)*A\n",
    "newb = Inverse(Ab)*b"
   ]
  },
  {
   "cell_type": "markdown",
   "metadata": {
    "variables": {
     "newa": "$\\displaystyle \\left[\\begin{matrix}1 & 0 & \\frac{1}{5} & - \\frac{2}{5}\\\\0 & 1 & - \\frac{3}{10} & \\frac{1}{10}\\end{matrix}\\right]$",
     "newb": "$\\displaystyle \\left[\\begin{matrix}\\frac{9}{5}\\\\\\frac{4}{5}\\end{matrix}\\right]$",
     "newc.T": "$\\displaystyle \\left[\\begin{matrix}0 & 0 & \\frac{7}{10} & \\frac{11}{10}\\end{matrix}\\right]$",
     "newcc": "$\\displaystyle \\frac{56}{5}$"
    }
   },
   "source": [
    "LP in Canonical Form for $B= \\{1,2 \\}$:\n",
    "\n",
    "min {{newc.T}}  $x$ $+$  {{newcc}}   \n",
    "    \n",
    "{{newa}} $x$ = {{newb}}   \n",
    "   \n",
    "$x \\geq 0$"
   ]
  },
  {
   "cell_type": "markdown",
   "metadata": {},
   "source": [
    "Solution is not integral, so pick $x_1$ and take the floor:   \n",
    "&nbsp;    \n",
    "$x_1 + \\lfloor\\frac{1}{5}\\rfloor x_3 + \\lfloor - \\frac{2}{5}\\rfloor x_4 \\leq \\frac{9}{5} $   \n",
    "&nbsp;   \n",
    "Given that $x_i$'s are integers:    \n",
    "&nbsp;   \n",
    "$x_1 + \\lfloor\\frac{1}{5}\\rfloor x_3 + \\lfloor - \\frac{2}{5}\\rfloor x_4 \\leq \\lfloor\\frac{9}{5}\\rfloor $    \n",
    "&nbsp;    \n",
    "$x_1 - x_4 \\leq 1 $      \n",
    "&nbsp;   \n",
    "$x_1 - (3x_1+2x_2-7) \\leq 1  \\implies x_1+x_2 \\geq 3$   \n",
    "&nbsp;   \n",
    "Add the above constraint to the original LP: \n"
   ]
  },
  {
   "cell_type": "markdown",
   "metadata": {},
   "source": [
    "$$\\text{min }4x_1+5x_2\\\\   \n",
    "x_1+4x_2 \\geq 5\\\\      \n",
    "3x_1+2x_2 \\geq 7\\\\     \n",
    " x_1+x_2 \\geq 3\\\\   \n",
    "x_1, x_2 \\in \\mathbb{Z}_+$$      \n",
    "   \n",
    "&nbsp; \n",
    "The new feasible region is the set of integral points within the shaded region. "
   ]
  },
  {
   "cell_type": "code",
   "execution_count": 8,
   "metadata": {
    "hide_input": true,
    "scrolled": true
   },
   "outputs": [
    {
     "data": {
      "image/png": "[encoded data removed]",
      "text/plain": [
       "<Figure size 432x288 with 1 Axes>"
      ]
     },
     "metadata": {
      "needs_background": "light"
     },
     "output_type": "display_data"
    }
   ],
   "source": [
    "x = np.linspace(0,5,1000)\n",
    "\n",
    "plt.plot(x, -x/4 + 5/4, '-b', label=r'$x_1+4x_2 \\geq 5$')\n",
    "plt.plot(x, -3*x/2 + 7/2 , '-r', label=r'$3x_1+2x_2 \\geq 7$')\n",
    "plt.plot(x, -x+3 , '-g', label=r'$ x_1+x_2 \\geq 3$')\n",
    "\n",
    "points = np.array(list(itertools.product(range(6),range(6))))\n",
    "plt.plot(points[:,0],points[:,1],'ko',markersize=4.5)\n",
    "\n",
    "plt.xlabel(r'$x_1$')\n",
    "plt.ylabel(r'$x_2$')\n",
    "plt.legend(bbox_to_anchor=(1.01, 1), loc='upper left')\n",
    "plt.grid()\n",
    "plt.xlim(0,5)\n",
    "plt.ylim(0,5)\n",
    "\n",
    "plt.fill_between(x,5,np.maximum(-x+3,-x/4 + 5/4), color='grey', alpha='0.5')\n",
    "plt.show()"
   ]
  },
  {
   "cell_type": "markdown",
   "metadata": {},
   "source": [
    "Put the IP in standard form, relax the integer constraints, and solve over the larger region using Gurobi:    \n",
    "&nbsp; \n",
    "$$\\text{min }4x_1+5x_2\\\\   \n",
    "x_1+4x_2 - x_3 = 5\\\\      \n",
    "3x_1+2x_2 - x_4 = 7\\\\     \n",
    "x_1+x_2 - x_5 = 3\\\\  \n",
    "x_1, x_2, x_3, x_4, x_5 \\geq 0 $$      "
   ]
  },
  {
   "cell_type": "code",
   "execution_count": 9,
   "metadata": {
    "hide_input": true,
    "scrolled": false
   },
   "outputs": [
    {
     "name": "stdout",
     "output_type": "stream",
     "text": [
      "\n",
      "\n",
      "Variable Values:\n",
      "X[1] 2.3333333333333335\n",
      "X[2] 0.6666666666666665\n",
      "X[3] 0.0\n",
      "X[4] 1.333333333333333\n",
      "X[5] 0.0\n",
      "\n",
      "Objective Value: 12.666666666666666\n",
      "\n"
     ]
    }
   ],
   "source": [
    "c = np.array([4,5,0,0,0])\n",
    "A = np.array([[1,4,-1,0,0],[3,2,0,-1,0],[1,1,0,0,-1]])\n",
    "b = np.array([5,7,3])\n",
    "\n",
    "m = Model()\n",
    "\n",
    "X = m.addVars([1,2,3,4,5], name = 'X', lb = 0)\n",
    "\n",
    "m.setObjective(np.dot(c,X.values()), GRB.MINIMIZE)\n",
    "\n",
    "for i in range(A.shape[0]):\n",
    "    m.addConstr(np.dot(A[i,:],X.values()) == b[i])\n",
    "\n",
    "m.setParam('OutputFlag', 0)\n",
    "\n",
    "m.optimize()\n",
    "\n",
    "printOptimal(m)"
   ]
  },
  {
   "cell_type": "code",
   "execution_count": 10,
   "metadata": {
    "hide_input": true,
    "scrolled": true
   },
   "outputs": [],
   "source": [
    "c = Matrix([4,5,0,0,0]).T\n",
    "A = Matrix([[1,4,-1,0,0],[3,2,0,-1,0],[1,1,0,0,-1]])\n",
    "b = Matrix([5,7,3])\n",
    "\n",
    "basis = [0,1,3]\n",
    "Ab = A[:,basis]\n",
    "cb = c[:,basis].T\n",
    "y = Inverse(Ab.T)*cb\n",
    "\n",
    "newc = (c.T - A.T*y)\n",
    "newcc = (b.T*y)[0]\n",
    "newa = Inverse(Ab)*A\n",
    "newb = Inverse(Ab)*b"
   ]
  },
  {
   "cell_type": "markdown",
   "metadata": {
    "variables": {
     "newa": "$\\displaystyle \\left[\\begin{matrix}1 & 0 & \\frac{1}{3} & 0 & - \\frac{4}{3}\\\\0 & 1 & - \\frac{1}{3} & 0 & \\frac{1}{3}\\\\0 & 0 & \\frac{1}{3} & 1 & - \\frac{10}{3}\\end{matrix}\\right]$",
     "newb": "$\\displaystyle \\left[\\begin{matrix}\\frac{7}{3}\\\\\\frac{2}{3}\\\\\\frac{4}{3}\\end{matrix}\\right]$",
     "newc.T": "$\\displaystyle \\left[\\begin{matrix}0 & 0 & \\frac{1}{3} & 0 & \\frac{11}{3}\\end{matrix}\\right]$",
     "newcc": "$\\displaystyle \\frac{38}{3}$"
    }
   },
   "source": [
    "LP in Canonical Form for $B= \\{1,2,4 \\}$:\n",
    "\n",
    "min {{newc.T}}  $x$ $+$  {{newcc}}   \n",
    "    \n",
    "{{newa}} $x$ = {{newb}}   \n",
    "   \n",
    "$x \\geq 0$"
   ]
  },
  {
   "cell_type": "markdown",
   "metadata": {},
   "source": [
    "Solution is not integral, so pick $x_2$ and take the floor:   \n",
    "&nbsp;    \n",
    "$x_2 + \\lfloor - \\frac{1}{3}\\rfloor x_3 + \\lfloor \\frac{1}{3}\\rfloor x_5 \\leq \\frac{2}{3} $   \n",
    "&nbsp;   \n",
    "Given that $x_i$'s are integers:    \n",
    "&nbsp;   \n",
    "$x_2 + \\lfloor - \\frac{1}{3}\\rfloor x_3 + \\lfloor \\frac{1}{3}\\rfloor x_5 \\leq \\lfloor \\frac{2}{3} \\rfloor $    \n",
    "&nbsp;    \n",
    "$x_2 - x_3 \\leq 0 $    \n",
    " \n",
    "&nbsp;   \n",
    "$x_2 - (x_1+4x_2-5) \\leq 0 \\implies x_1+3x_2 \\geq 5$   \n",
    "&nbsp;   \n",
    "Add the above constraint to the original LP:  \n"
   ]
  },
  {
   "cell_type": "markdown",
   "metadata": {},
   "source": [
    "$$\\text{min }4x_1+5x_2\\\\   \n",
    "x_1+4x_2 \\geq 5\\\\      \n",
    "3x_1+2x_2 \\geq 7\\\\     \n",
    " x_1+x_2 \\geq 3\\\\   \n",
    "x_1+3x_2  \\geq 5\\\\    \n",
    "x_1, x_2 \\in \\mathbb{Z}_+$$      \n",
    "   \n",
    "&nbsp; \n",
    "The new feasible region is the set of integral points within the shaded region. \n",
    "\n"
   ]
  },
  {
   "cell_type": "code",
   "execution_count": 8,
   "metadata": {
    "hide_input": true
   },
   "outputs": [
    {
     "data": {
      "image/png": "[encoded data removed]",
      "text/plain": [
       "<Figure size 432x288 with 1 Axes>"
      ]
     },
     "metadata": {
      "needs_background": "light"
     },
     "output_type": "display_data"
    }
   ],
   "source": [
    "x = np.linspace(0,5,1000)\n",
    "\n",
    "plt.plot(x, -x/4 + 5/4, '-b', label=r'$x_1+4x_2 \\geq 5$')\n",
    "plt.plot(x, -3*x/2 + 7/2 , '-r', label=r'$3x_1+2x_2 \\geq 7$')\n",
    "plt.plot(x, -x+3 , '-g', label=r'$ x_1+x_2 \\geq 3$')\n",
    "plt.plot(x, -x/3+5/3 , '#FFA500', label=r'$x_1+3x_2 \\geq 5$')    \n",
    "\n",
    "points = np.array(list(itertools.product(range(6),range(6))))\n",
    "plt.plot(points[:,0],points[:,1],'ko',markersize=4.5)\n",
    "\n",
    "plt.xlabel(r'$x_1$')\n",
    "plt.ylabel(r'$x_2$')\n",
    "plt.legend(bbox_to_anchor=(1.01, 1), loc='upper left')\n",
    "plt.grid()\n",
    "plt.xlim(0,5)\n",
    "plt.ylim(0,5)\n",
    "\n",
    "plt.fill_between(x,5,np.maximum(-x+3,-x/3+5/3), color='grey', alpha='0.5')\n",
    "plt.show()\n",
    "#plt.savefig('figure.png', dpi=400)"
   ]
  },
  {
   "cell_type": "markdown",
   "metadata": {},
   "source": [
    "Put the IP in standard form, relax the integer constraints, and solve over the larger region using Gurobi:    \n",
    "&nbsp; \n",
    "$$\\text{min }4x_1+5x_2\\\\   \n",
    "x_1+4x_2 - x_3 = 5\\\\      \n",
    "3x_1+2x_2 - x_4 = 7\\\\     \n",
    "x_1+x_2 - x_5 = 3\\\\  \n",
    "x_1+3x_2 - x_6 = 5\\\\   \n",
    "x_1, x_2, x_3, x_4, x_5, x_6 \\geq 0 $$      \n",
    "\n",
    "\n"
   ]
  },
  {
   "cell_type": "code",
   "execution_count": 12,
   "metadata": {
    "hide_input": true,
    "scrolled": false
   },
   "outputs": [
    {
     "name": "stdout",
     "output_type": "stream",
     "text": [
      "\n",
      "\n",
      "Variable Values:\n",
      "X[1] 2.0\n",
      "X[2] 1.0\n",
      "X[3] 1.0\n",
      "X[4] 1.0\n",
      "X[5] 0.0\n",
      "X[6] 0.0\n",
      "\n",
      "Objective Value: 13.0\n",
      "\n"
     ]
    }
   ],
   "source": [
    "c = np.array([4,5,0,0,0,0])\n",
    "A = np.array([[1,4,-1,0,0,0],[3,2,0,-1,0,0],[1,1,0,0,-1,0],[1,3,0,0,0,-1]])\n",
    "b = np.array([5,7,3,5])\n",
    "\n",
    "m = Model()\n",
    "\n",
    "X = m.addVars([1,2,3,4,5,6], name = 'X', lb = 0)\n",
    "\n",
    "m.setObjective(np.dot(c,X.values()), GRB.MINIMIZE)\n",
    "\n",
    "for i in range(A.shape[0]):\n",
    "    m.addConstr(np.dot(A[i,:],X.values()) == b[i])\n",
    "\n",
    "m.setParam('OutputFlag', 0)\n",
    "\n",
    "m.optimize()\n",
    "   \n",
    "printOptimal(m)"
   ]
  },
  {
   "cell_type": "code",
   "execution_count": 13,
   "metadata": {
    "hide_input": true,
    "scrolled": true
   },
   "outputs": [],
   "source": [
    "c = Matrix([4,5,0,0,0,0]).T\n",
    "A = Matrix([[1,4,-1,0,0,0],[3,2,0,-1,0,0],[1,1,0,0,1,0],[1,3,0,0,0,-1]])\n",
    "b = Matrix([5,7,3,5])\n",
    "\n",
    "basis = [0,1,2,3]\n",
    "Ab = A[:,basis]\n",
    "cb = c[:,basis].T\n",
    "y = Inverse(Ab.T)*cb\n",
    "\n",
    "newc = (c.T - A.T*y)\n",
    "newcc = (b.T*y)[0]\n",
    "newa = Inverse(Ab)*A\n",
    "newb = Inverse(Ab)*b"
   ]
  },
  {
   "cell_type": "markdown",
   "metadata": {
    "variables": {
     "newa": "$\\displaystyle \\left[\\begin{matrix}1 & 0 & 0 & 0 & \\frac{3}{2} & \\frac{1}{2}\\\\0 & 1 & 0 & 0 & - \\frac{1}{2} & - \\frac{1}{2}\\\\0 & 0 & 1 & 0 & - \\frac{1}{2} & - \\frac{3}{2}\\\\0 & 0 & 0 & 1 & \\frac{7}{2} & \\frac{1}{2}\\end{matrix}\\right]$",
     "newb": "$\\displaystyle \\left[\\begin{matrix}2\\\\1\\\\1\\\\1\\end{matrix}\\right]$",
     "newc.T": "$\\displaystyle \\left[\\begin{matrix}0 & 0 & 0 & 0 & - \\frac{7}{2} & \\frac{1}{2}\\end{matrix}\\right]$",
     "newcc": "$\\displaystyle 13$"
    }
   },
   "source": [
    "LP in Canonical Form for $B= \\{1,2,3,4 \\}$:\n",
    "\n",
    "min {{newc.T}}  $x$ $+$  {{newcc}}   \n",
    "    \n",
    "{{newa}} $x$ = {{newb}}   \n",
    "   \n",
    "$x \\geq 0$"
   ]
  },
  {
   "cell_type": "markdown",
   "metadata": {},
   "source": [
    "The solution is integral and is also the solution to the original LP.    \n",
    "&nbsp;   \n",
    "$X = (2,1)$ and the objective value is 13.   "
   ]
  },
  {
   "cell_type": "markdown",
   "metadata": {},
   "source": [
    "Verification in Gurobi:   "
   ]
  },
  {
   "cell_type": "code",
   "execution_count": 14,
   "metadata": {
    "hide_input": true
   },
   "outputs": [
    {
     "name": "stdout",
     "output_type": "stream",
     "text": [
      "Optimize a model with 2 rows, 2 columns and 4 nonzeros\n",
      "Variable types: 0 continuous, 2 integer (0 binary)\n",
      "Coefficient statistics:\n",
      "  Matrix range     [1e+00, 4e+00]\n",
      "  Objective range  [4e+00, 5e+00]\n",
      "  Bounds range     [0e+00, 0e+00]\n",
      "  RHS range        [5e+00, 7e+00]\n",
      "Found heuristic solution: objective 20.0000000\n",
      "Presolve time: 0.00s\n",
      "Presolved: 2 rows, 2 columns, 4 nonzeros\n",
      "Variable types: 0 continuous, 2 integer (0 binary)\n",
      "\n",
      "Root relaxation: objective 1.166667e+01, 1 iterations, 0.00 seconds\n",
      "\n",
      "    Nodes    |    Current Node    |     Objective Bounds      |     Work\n",
      " Expl Unexpl |  Obj  Depth IntInf | Incumbent    BestBd   Gap | It/Node Time\n",
      "\n",
      "     0     0   11.66667    0    1   20.00000   11.66667  41.7%     -    0s\n",
      "H    0     0                      13.0000000   11.66667  10.3%     -    0s\n",
      "     0     0 infeasible    0        13.00000   13.00000  0.00%     -    0s\n",
      "\n",
      "Explored 1 nodes (1 simplex iterations) in 0.03 seconds\n",
      "Thread count was 8 (of 8 available processors)\n",
      "\n",
      "Solution count 2: 13 20 \n",
      "\n",
      "Optimal solution found (tolerance 1.00e-04)\n",
      "Best objective 1.300000000000e+01, best bound 1.300000000000e+01, gap 0.0000%\n",
      "\n",
      "\n",
      "Variable Values:\n",
      "X[1] 2.0\n",
      "X[2] 1.0\n",
      "\n",
      "Objective Value: 13.0\n",
      "\n"
     ]
    }
   ],
   "source": [
    "c = np.array([4,5])\n",
    "A = np.array([[1,4],[3,2]])\n",
    "b = np.array([5,7])\n",
    "\n",
    "m = Model()\n",
    "\n",
    "X = m.addVars([1,2], name = 'X', lb = 0, vtype = GRB.INTEGER)\n",
    "\n",
    "m.setObjective(np.dot(c,X.values()), GRB.MINIMIZE)\n",
    "\n",
    "for i in range(A.shape[0]):\n",
    "    m.addConstr(np.dot(A[i,:],X.values()) >= b[i])\n",
    "\n",
    "m.optimize()\n",
    "\n",
    "printOptimal(m)"
   ]
  },
  {
   "cell_type": "markdown",
   "metadata": {},
   "source": [
    "## 3   \n",
    "Original IP: $F$    \n",
    "$$\\text{max }2x_1+3x_2 \\\\   \n",
    "x_1+2x_2 \\leq 3      \\\\\n",
    "6x_1+8x_2 \\leq 15      \\\\\n",
    "x_1, x_2 \\in \\mathbb{Z}_+$$      \n",
    "\n",
    "&nbsp; \n",
    "The feasible region is the set of integral points within the shaded region. "
   ]
  },
  {
   "cell_type": "code",
   "execution_count": 15,
   "metadata": {
    "hide_input": true,
    "scrolled": true
   },
   "outputs": [
    {
     "data": {
      "image/png": "[encoded data removed]",
      "text/plain": [
       "<Figure size 432x288 with 1 Axes>"
      ]
     },
     "metadata": {
      "needs_background": "light"
     },
     "output_type": "display_data"
    }
   ],
   "source": [
    "x = np.linspace(0,5,1000)\n",
    "\n",
    "plt.plot(x, -x/2 + 3/2, '-b', label=r'$x_1+2x_2 \\leq 3$')\n",
    "plt.plot(x, -6*x/8 + 15/8 , '-r', label=r'$6x_1+8x_2 \\leq 15$')\n",
    "\n",
    "points = np.array(list(itertools.product(range(6),range(6))))\n",
    "plt.plot(points[:,0],points[:,1],'ko',markersize=5)\n",
    "\n",
    "plt.xlabel(r'$x_1$')\n",
    "plt.ylabel(r'$x_2$')\n",
    "plt.legend(bbox_to_anchor=(1.01, 1), loc='upper left')\n",
    "plt.grid()\n",
    "plt.xlim(0,3)\n",
    "plt.ylim(0,3)\n",
    "\n",
    "plt.fill_between(x,np.minimum(-x/2 + 3/2,-6*x/8 + 15/8), color='grey', alpha='0.5')\n",
    "plt.show()"
   ]
  },
  {
   "cell_type": "markdown",
   "metadata": {},
   "source": [
    "Put the IP in standard form, relax the integer constraints, and solve over the larger region using Gurobi:    \n",
    "&nbsp; \n",
    "$$\\text{max }2x_1+3x_2\\\\\n",
    "x_1+2x_2 +x_3 = 3\\\\      \n",
    "6x_1+8x_2 + x_4 = 15\\\\       \n",
    "x_1, x_2, x_3, x_4 \\geq 0 $$      "
   ]
  },
  {
   "cell_type": "code",
   "execution_count": 16,
   "metadata": {
    "hide_input": true
   },
   "outputs": [
    {
     "name": "stdout",
     "output_type": "stream",
     "text": [
      "\n",
      "\n",
      "Variable Values:\n",
      "X[1] 1.5\n",
      "X[2] 0.75\n",
      "X[3] 0.0\n",
      "X[4] 0.0\n",
      "\n",
      "Objective Value: 5.25\n",
      "\n"
     ]
    }
   ],
   "source": [
    "c = np.array([2,3,0,0])\n",
    "A = np.array([[1,2,1,0],[6,8,0,1]])\n",
    "b = np.array([3,15])\n",
    "\n",
    "m = Model()\n",
    "\n",
    "X = m.addVars([1,2,3,4], name = 'X', lb = 0)\n",
    "\n",
    "m.setObjective(np.dot(c,X.values()), GRB.MAXIMIZE)\n",
    "\n",
    "for i in range(A.shape[0]):\n",
    "    m.addConstr(np.dot(A[i,:],X.values()) == b[i])\n",
    "\n",
    "m.setParam('OutputFlag', 0)\n",
    "\n",
    "m.optimize()\n",
    "   \n",
    "printOptimal(m)"
   ]
  },
  {
   "cell_type": "markdown",
   "metadata": {},
   "source": [
    "Set the upper bound or best known feasible solution to 5.25.   \n",
    "LP optimal solution: $X = (1.5, 0.75)$   \n",
    "Branch for $x_1$:    \n",
    "\n",
    "$$\n",
    "\\begin{align}\n",
    "F_1 && F_2 \\\\\n",
    "\\text{max }2x_1+3x_2 && \\text{max }2x_1+3x_2 \\\\\n",
    "x_1+2x_2 \\leq 3 && x_1+2x_2 \\leq 3  \\\\\n",
    "6x_1+8x_2 \\leq 15  && 6x_1+8x_2 \\leq 15  \\\\\n",
    "  x_1 \\leq 1  &&x_1 \\geq 2 \\\\\n",
    "x_1, x_2 \\in \\mathbb{Z}_+  && x_1, x_2 \\in \\mathbb{Z}_+    \n",
    "\\end{align}\n",
    "$$   \n",
    "\n",
    "&nbsp;   \n",
    "The feasible region for $F_1$ is the set of integral points within the yellow shaded region.    \n",
    "&nbsp;   \n",
    "The feasible region for $F_2$ is the set of integral points within the orange shaded region. "
   ]
  },
  {
   "cell_type": "code",
   "execution_count": 17,
   "metadata": {
    "hide_input": true,
    "scrolled": true
   },
   "outputs": [
    {
     "data": {
      "image/png": "[encoded data removed]",
      "text/plain": [
       "<Figure size 432x288 with 1 Axes>"
      ]
     },
     "metadata": {
      "needs_background": "light"
     },
     "output_type": "display_data"
    }
   ],
   "source": [
    "x = np.linspace(0,5,1000)\n",
    "\n",
    "plt.plot(x, -x/2 + 3/2, '-b', label=r'$x_1+2x_2 \\leq 3$')\n",
    "plt.plot(x, -6*x/8 + 15/8 , '-r', label=r'$6x_1+8x_2 \\leq 15$')\n",
    "plt.axvline(x=2, c='g', label=r'$x_1\\geq 2$')\n",
    "plt.axvline(x=1, c='c', label=r'$x_1\\leq 1$')\n",
    "\n",
    "\n",
    "points = np.array(list(itertools.product(range(6),range(6))))\n",
    "plt.plot(points[:,0],points[:,1],'ko',markersize=5)\n",
    "\n",
    "plt.xlabel(r'$x_1$')\n",
    "plt.ylabel(r'$x_2$')\n",
    "plt.legend(bbox_to_anchor=(1.01, 1), loc='upper left')\n",
    "plt.grid()\n",
    "plt.xlim(0,3)\n",
    "plt.ylim(0,3)\n",
    "\n",
    "plt.fill_betweenx(x,2,-8*x/6 + 15/6,where=-8*x/6 + 15/6>2, color = 'orange', alpha='0.5' )\n",
    "plt.fill_between(x,-x/2 + 3/2,where=x<1,color = 'yellow', alpha='0.5' )\n",
    "\n",
    "plt.show()"
   ]
  },
  {
   "cell_type": "markdown",
   "metadata": {},
   "source": [
    "&nbsp;   \n",
    "LP relaxation in standard form:   \n",
    "&nbsp;   \n",
    "$$\n",
    "\\begin{align}\n",
    "F_1 \\text{ linear} && F_2 \\text{ linear} \\\\\n",
    "\\text{max }2x_1+3x_2       && \\text{max }2x_1+3x_2    \\\\\n",
    "x_1+2x_2 +x_3 = 3          && x_1+2x_2 +x_3 = 3       \\\\\n",
    "6x_1+8x_2 + x_4 = 15       && 6x_1+8x_2 + x_4 = 15    \\\\\n",
    "  x_1 +x_5 =  1      &&  x_1 - x_5 =  2   \\\\\n",
    "x_1, x_2, x_3, x_4,x_5 \\geq 0  && x_1, x_2, x_3, x_4,x_5 \\geq 0    \n",
    "\\end{align}\n",
    "$$   \n",
    "\n",
    "&nbsp;   \n",
    "Solve $F_1$ LP with Gurobi:   \n",
    "&nbsp; "
   ]
  },
  {
   "cell_type": "code",
   "execution_count": 18,
   "metadata": {
    "hide_input": true,
    "scrolled": false
   },
   "outputs": [
    {
     "name": "stdout",
     "output_type": "stream",
     "text": [
      "\n",
      "\n",
      "Variable Values:\n",
      "X[1] 1.0\n",
      "X[2] 1.0\n",
      "X[3] 0.0\n",
      "X[4] 1.0\n",
      "X[5] 0.0\n",
      "\n",
      "Objective Value: 5.0\n",
      "\n"
     ]
    }
   ],
   "source": [
    "c = np.array([2,3,0,0,0])\n",
    "A = np.array([[1,2,1,0,0],[6,8,0,1,0],[1,0,0,0,1]])\n",
    "b = np.array([3,15,1])\n",
    "\n",
    "m = Model()\n",
    "\n",
    "X = m.addVars([1,2,3,4,5], name = 'X', lb = 0)\n",
    "\n",
    "m.setObjective(np.dot(c,X.values()), GRB.MAXIMIZE)\n",
    "\n",
    "for i in range(A.shape[0]):\n",
    "    m.addConstr(np.dot(A[i,:],X.values()) == b[i])\n",
    "\n",
    "m.setParam('OutputFlag', 0)\n",
    "\n",
    "m.optimize()\n",
    "\n",
    "printOptimal(m)"
   ]
  },
  {
   "cell_type": "markdown",
   "metadata": {},
   "source": [
    "Optimal solution for $F_1$: $X=(1,1)$   \n",
    "Can update the upper bound to: 5   \n",
    "\n",
    "&nbsp;    \n",
    "Solve $F_2$ LP with Gurobi:   "
   ]
  },
  {
   "cell_type": "code",
   "execution_count": 19,
   "metadata": {
    "hide_input": true
   },
   "outputs": [
    {
     "name": "stdout",
     "output_type": "stream",
     "text": [
      "Variable Values:\n",
      "X[1] 2.0\n",
      "X[2] 0.375\n",
      "X[3] 0.25\n",
      "X[4] 0.0\n",
      "X[5] 0.0\n",
      "\n",
      "Objective Value: 5.125\n",
      "\n"
     ]
    }
   ],
   "source": [
    "c = np.array([2,3,0,0,0])\n",
    "A = np.array([[1,2,1,0,0],[6,8,0,1,0],[1,0,0,0,-1]])\n",
    "b = np.array([3,15,2])\n",
    "\n",
    "m = Model()\n",
    "\n",
    "X = m.addVars([1,2,3,4,5], name = 'X', lb = 0)\n",
    "\n",
    "m.setObjective(np.dot(c,X.values()), GRB.MAXIMIZE)\n",
    "\n",
    "for i in range(A.shape[0]):\n",
    "    m.addConstr(np.dot(A[i,:],X.values()) == b[i])\n",
    "\n",
    "m.setParam('OutputFlag', 0)\n",
    "\n",
    "m.optimize()\n",
    "\n",
    "def printOptimal(m):\n",
    "    if m.Status == GRB.OPTIMAL:\n",
    "        print('Variable Values:')\n",
    "        for v in m.getVars():\n",
    "            print(v.VarName, v.X)\n",
    "        \n",
    "        print('\\nObjective Value: {}\\n'.format(str(m.objVal)))\n",
    "\n",
    "printOptimal(m)"
   ]
  },
  {
   "cell_type": "markdown",
   "metadata": {},
   "source": [
    "Need to branch again off of $F_2$: $X = (2, 0.375)$     \n",
    "Branch for $x_2$:    \n",
    "\n",
    "$$\n",
    "\\begin{align}\n",
    "F_3 && F_4 \\\\\n",
    "\\text{max }2x_1+3x_2 && \\text{max }2x_1+3x_2 \\\\\n",
    "x_1+2x_2 \\leq 3 && x_1+2x_2 \\leq 3  \\\\\n",
    "6x_1+8x_2 \\leq 15  && 6x_1+8x_2 \\leq 15  \\\\\n",
    "x_1 \\geq 2  &&  x_1 \\geq 2  \\\\\n",
    "x_2 \\geq 1 && x_2 \\leq 0 \\\\\n",
    "x_1, x_2 \\in \\mathbb{Z}_+  && x_1, x_2 \\in \\mathbb{Z}_+    \n",
    "\\end{align}\n",
    "$$    \n",
    "&nbsp;   \n",
    "There is no feasible region for $F_3$.    \n",
    "&nbsp;   \n",
    "The feasible region for $F_4$ is the set of integral points that lie on the magenta line between 2 and 2.5 inclusive."
   ]
  },
  {
   "cell_type": "code",
   "execution_count": 20,
   "metadata": {
    "hide_input": true
   },
   "outputs": [
    {
     "data": {
      "image/png": "[encoded data removed]",
      "text/plain": [
       "<Figure size 432x288 with 1 Axes>"
      ]
     },
     "metadata": {
      "needs_background": "light"
     },
     "output_type": "display_data"
    }
   ],
   "source": [
    "x = np.linspace(0,5,1000)\n",
    "\n",
    "plt.plot(x, -x/2 + 3/2, '-b', label=r'$x_1+2x_2 \\leq 3$')\n",
    "plt.plot(x, -6*x/8 + 15/8 , '-r', label=r'$6x_1+8x_2 \\leq 15$')\n",
    "plt.axvline(x=2, c='g', label=r'$x_1\\geq 2$')\n",
    "plt.plot(x, 1+0*x , '#FFA500', label=r'$x_2\\geq1$')\n",
    "plt.plot(x, 0+0*x , 'm', label=r'$x_2 \\leq 0$')\n",
    "\n",
    "points = np.array(list(itertools.product(range(6),range(6))))\n",
    "plt.plot(points[:,0],points[:,1],'ko',markersize=5)\n",
    "\n",
    "plt.xlabel(r'$x_1$')\n",
    "plt.ylabel(r'$x_2$')\n",
    "plt.legend(bbox_to_anchor=(1.01, 1), loc='upper left')\n",
    "plt.grid()\n",
    "plt.xlim(0,3)\n",
    "plt.ylim(0,3)\n",
    "\n",
    "plt.show()"
   ]
  },
  {
   "cell_type": "markdown",
   "metadata": {},
   "source": [
    "&nbsp;   \n",
    "LP relaxation in standard form:   \n",
    "&nbsp;   \n",
    "$$\n",
    "\\begin{align}\n",
    "F_3 \\text{ linear} && F_4 \\text{ linear} \\\\\n",
    "\\text{max }2x_1+3x_2       && \\text{max }2x_1+3x_2    \\\\\n",
    "x_1+2x_2 +x_3 = 3          && x_1+2x_2 +x_3 = 3       \\\\\n",
    "6x_1+8x_2 + x_4 = 15       && 6x_1+8x_2 + x_4 = 15    \\\\\n",
    "x_1 - x_5 =  2                 &&  x_1 - x_5=2       \\\\\n",
    "x_2 - x_6 = 1                  && x_2 +x_6 = 0 \\\\\n",
    "x_1, x_2, x_3, x_4,x_5 \\geq 0  && x_1, x_2, x_3, x_4,x_5 \\geq 0    \n",
    "\\end{align}\n",
    "$$   \n",
    "\n",
    "&nbsp;   \n",
    "Solve $F_3$ LP with Gurobi:   \n",
    "&nbsp; "
   ]
  },
  {
   "cell_type": "code",
   "execution_count": 21,
   "metadata": {
    "hide_input": true
   },
   "outputs": [
    {
     "name": "stdout",
     "output_type": "stream",
     "text": [
      "Infeasible or unbounded model\n"
     ]
    }
   ],
   "source": [
    "c = np.array([2,3,0,0,0,0])\n",
    "A = np.array([[1,2,1,0,0,0],[6,8,0,1,0,0],[1,0,0,0,-1,0],[0,1,0,0,0,-1]])\n",
    "b = np.array([3,15,2,1])\n",
    "\n",
    "m = Model()\n",
    "\n",
    "X = m.addVars([1,2,3,4,5,6], name = 'X', lb = 0)\n",
    "\n",
    "m.setObjective(np.dot(c,X.values()), GRB.MAXIMIZE)\n",
    "\n",
    "for i in range(A.shape[0]):\n",
    "    m.addConstr(np.dot(A[i,:],X.values()) == b[i])\n",
    "\n",
    "m.setParam('OutputFlag', 0)\n",
    "\n",
    "m.optimize()\n",
    "\n",
    "printOptimal(m)\n",
    "\n",
    "print('Infeasible or unbounded model')"
   ]
  },
  {
   "cell_type": "markdown",
   "metadata": {},
   "source": [
    "$F_3$ is infeasible so this branch is terminated.   \n",
    "&nbsp;   "
   ]
  },
  {
   "cell_type": "markdown",
   "metadata": {},
   "source": [
    "Solve $F_4$ LP with Gurobi:    "
   ]
  },
  {
   "cell_type": "code",
   "execution_count": 22,
   "metadata": {
    "hide_input": true,
    "scrolled": true
   },
   "outputs": [
    {
     "name": "stdout",
     "output_type": "stream",
     "text": [
      "Variable Values:\n",
      "X[1] 2.5\n",
      "X[2] 0.0\n",
      "X[3] 0.5\n",
      "X[4] 0.0\n",
      "X[5] 0.5\n",
      "X[6] 0.0\n",
      "\n",
      "Objective Value: 5.0\n",
      "\n"
     ]
    }
   ],
   "source": [
    "c = np.array([2,3,0,0,0,0])\n",
    "A = np.array([[1,2,1,0,0,0],[6,8,0,1,0,0],[1,0,0,0,-1,0],[0,1,0,0,0,1]])\n",
    "b = np.array([3,15,2,0])\n",
    "\n",
    "m = Model()\n",
    "\n",
    "X = m.addVars([1,2,3,4,5,6], name = 'X', lb = 0)\n",
    "\n",
    "m.setObjective(np.dot(c,X.values()), GRB.MAXIMIZE)\n",
    "\n",
    "for i in range(A.shape[0]):\n",
    "    m.addConstr(np.dot(A[i,:],X.values()) == b[i])\n",
    "\n",
    "m.setParam('OutputFlag', 0)\n",
    "\n",
    "m.optimize()\n",
    "\n",
    "printOptimal(m)"
   ]
  },
  {
   "cell_type": "markdown",
   "metadata": {},
   "source": [
    "Objective value for $F_4$ is 5. This is equal to the upper bound. Therefore, the $F_4$ branch is terminated as there is no feasible solution better than 5."
   ]
  },
  {
   "cell_type": "markdown",
   "metadata": {},
   "source": [
    "All branches are terminated so therefore $X=(1,1)$ is the optimal solution and the optimal objective value is 5.   \n",
    "&nbsp;   \n",
    "Verification in Gurobi:   \n"
   ]
  },
  {
   "cell_type": "code",
   "execution_count": 23,
   "metadata": {
    "hide_input": true,
    "scrolled": false
   },
   "outputs": [
    {
     "name": "stdout",
     "output_type": "stream",
     "text": [
      "Optimize a model with 2 rows, 2 columns and 4 nonzeros\n",
      "Variable types: 0 continuous, 2 integer (0 binary)\n",
      "Coefficient statistics:\n",
      "  Matrix range     [1e+00, 8e+00]\n",
      "  Objective range  [2e+00, 3e+00]\n",
      "  Bounds range     [0e+00, 0e+00]\n",
      "  RHS range        [3e+00, 2e+01]\n",
      "Found heuristic solution: objective 4.0000000\n",
      "Presolve removed 2 rows and 2 columns\n",
      "Presolve time: 0.00s\n",
      "Presolve: All rows and columns removed\n",
      "\n",
      "Explored 0 nodes (0 simplex iterations) in 0.01 seconds\n",
      "Thread count was 1 (of 8 available processors)\n",
      "\n",
      "Solution count 2: 5 4 \n",
      "\n",
      "Optimal solution found (tolerance 1.00e-04)\n",
      "Best objective 5.000000000000e+00, best bound 5.000000000000e+00, gap 0.0000%\n",
      "Variable Values:\n",
      "X[1] 1.0\n",
      "X[2] 1.0\n",
      "\n",
      "Objective Value: 5.0\n",
      "\n"
     ]
    }
   ],
   "source": [
    "c = np.array([2,3])\n",
    "A = np.array([[1,2],[6,8]])\n",
    "b = np.array([3,15])\n",
    "\n",
    "m = Model()\n",
    "\n",
    "X = m.addVars([1,2], name = 'X', lb = 0, vtype = GRB.INTEGER)\n",
    "\n",
    "m.setObjective(np.dot(c,X.values()), GRB.MAXIMIZE)\n",
    "\n",
    "for i in range(A.shape[0]):\n",
    "    m.addConstr(np.dot(A[i,:],X.values()) <= b[i])\n",
    "\n",
    "m.optimize()\n",
    "\n",
    "printOptimal(m)"
   ]
  },
  {
   "cell_type": "markdown",
   "metadata": {},
   "source": [
    "## 4 (a)\n",
    "500 courses   \n",
    "28 slots for finals   \n",
    "exams for students taking multiple courses cannot be at same time   \n",
    "given enrollment data\n",
    "\n",
    "\n",
    "$s_{ij} \\text{: binary parameter with: }$   \n",
    "\n",
    "$$\n",
    "s_{ij} = \\bigg\\{\n",
    "\\begin{align}\n",
    "1 && \\text{\n",
    "student } i \\text{ enrolled in course }j && \\forall i, \\forall j = 1,2,\\dots,500 \\\\\n",
    "0 && \\text{otherwise} && \n",
    "\\end{align}$$\n",
    "\n",
    "$x_{jk} \\text{: binary variable with: }$    \n",
    "\n",
    "$$\n",
    "x_{jk} = \\bigg\\{\n",
    "\\begin{align}\n",
    "1 && \\text{ exam for course } j \\text{ is scheduled for slot } k && \\forall j = 1,2,\\dots, 500 \\\\\n",
    "0 && \\text{otherwise} &&  \\forall k = 1,2,\\dots,28\n",
    "\\end{align}$$   \n",
    "\n",
    "&nbsp;   \n",
    "$$\\text{min ?}\\\\\n",
    "\\sum_{j,k} s_{ij}x_{jk} <=1\\\\\n",
    "x_{jk} \\in \\{0,1\\}$$   \n",
    "\n"
   ]
  },
  {
   "cell_type": "markdown",
   "metadata": {},
   "source": [
    "## 4 (b)\n",
    "$s_{ij} \\text{: binary parameter with: }$   \n",
    "\n",
    "$$\n",
    "s_{ij} = \\bigg\\{\n",
    "\\begin{align}\n",
    "1 && \\text{\n",
    "student } i \\text{ enrolled in course }j && \\forall i, \\forall j = 1,2,\\dots,500 \\\\\n",
    "0 && \\text{otherwise} && \n",
    "\\end{align}$$\n",
    "\n",
    "$x_{jk} \\text{: binary variable with: }$    \n",
    "\n",
    "$$\n",
    "x_{jk} = \\bigg\\{\n",
    "\\begin{align}\n",
    "1 && \\text{ exam for course } j \\text{ is scheduled for slot } k && \\forall j = 1,2,\\dots, 500 \\\\\n",
    "0 && \\text{otherwise} &&  \\forall k = 1,2,\\dots,28\n",
    "\\end{align}$$   \n",
    "\n",
    "&nbsp;   \n",
    "$$\\text{min } \\sum_i \\bigg\\{ \\sum_{j,k} s_{ij}x_{jk} - 1 \\bigg\\}\\\\ \n",
    "x_{jk} \\in \\{0,1\\}$$   \n",
    "\n"
   ]
  },
  {
   "cell_type": "markdown",
   "metadata": {},
   "source": [
    "## 5\n",
    "$x_{ij} \\text{: quantity of product that goes from factory } i \\text{ to customer }j$   \n",
    "$y_i \\text{: binary variable with: }$    \n",
    "\n",
    "$$\n",
    "y_i = \\bigg\\{\n",
    "\\begin{align}\n",
    "1 && \\text{ factory } i \\text{ is used} && \\forall i = 1,2,\\dots,k \\\\\n",
    "0 && \\text{otherwise} && \n",
    "\\end{align}$$\n",
    "\n",
    "$d_j \\text{: demand of customer }j $   \n",
    "$f_i \\text{: operating cost of factory } i$   \n",
    "$M_i \\text{: maximum number of units factory } i \\text{ can make}$   \n",
    "$c_{ij} \\text{: cost of delivering 1 unit from factory } i \\text{ to customer }j$   \n",
    "$k = 10 \\text{ new factories}$         \n",
    "$n = 15 \\text{ customers}$   \n",
    "\n",
    "&nbsp;   \n",
    "$$\\text{min } \\bigg\\{ \\sum_{i=1}^k \\sum_{j=1}^n c_{ij}x_{ij} + \\sum_{i=1}^k y_if_i  \\bigg\\} \\\\\n",
    "\\sum_{i=1}^n x_{ij} = d_j \\forall j\\\\\n",
    "\\sum_{j=1}^k x_{ij} \\leq M_iy_i \\forall i\\\\\n",
    "x_{ij} \\geq 0, \\forall i, j \\\\\n",
    "y_i \\in \\{0,1\\}$$   \n",
    "\n",
    "\n",
    "\n"
   ]
  },
  {
   "cell_type": "markdown",
   "metadata": {},
   "source": [
    "## 6 (a)\n",
    "![alt text](6diagram.png \"Title\")"
   ]
  },
  {
   "cell_type": "markdown",
   "metadata": {},
   "source": [
    "$$\n",
    "x_i = \\bigg\\{\n",
    "\\begin{align}\n",
    "1 && \\text{ if device installed at intersection } i && \\forall i = 1,\\dots,6 \\\\\n",
    "0 && \\text{otherwise} && \n",
    "\\end{align}$$\n",
    "\n",
    "&nbsp;   \n",
    "$$\\text{min } 40x_1 + 65x_2 + 43x_3 + 48 x_4 + 72 x_5 + 36 x_6 \\\\\n",
    "x_1 + x_2 \\geq 1 \\\\\n",
    "x_2 + x_3 \\geq 1 \\\\\n",
    "x_1 + x_4 \\geq 1 \\\\\n",
    "x_2 + x_5 \\geq 1 \\\\\n",
    "x_3 + x_5 \\geq 1 \\\\\n",
    "x_3 + x_6 \\geq 1 \\\\\n",
    "x_4 + x_5 \\geq 1 \\\\\n",
    "x_5 + x_6 \\geq 1 \\\\\n",
    "x_i\\in \\{0,1\\}$$"
   ]
  },
  {
   "cell_type": "code",
   "execution_count": 24,
   "metadata": {},
   "outputs": [
    {
     "name": "stdout",
     "output_type": "stream",
     "text": [
      "Optimize a model with 8 rows, 6 columns and 16 nonzeros\n",
      "Variable types: 0 continuous, 6 integer (6 binary)\n",
      "Coefficient statistics:\n",
      "  Matrix range     [1e+00, 1e+00]\n",
      "  Objective range  [4e+01, 7e+01]\n",
      "  Bounds range     [1e+00, 1e+00]\n",
      "  RHS range        [1e+00, 1e+00]\n",
      "Found heuristic solution: objective 221.0000000\n",
      "Presolve removed 4 rows and 1 columns\n",
      "Presolve time: 0.00s\n",
      "Presolved: 4 rows, 5 columns, 9 nonzeros\n",
      "Variable types: 0 continuous, 5 integer (5 binary)\n",
      "\n",
      "Root relaxation: objective 1.550000e+02, 3 iterations, 0.00 seconds\n",
      "\n",
      "    Nodes    |    Current Node    |     Objective Bounds      |     Work\n",
      " Expl Unexpl |  Obj  Depth IntInf | Incumbent    BestBd   Gap | It/Node Time\n",
      "\n",
      "*    0     0               0     155.0000000  155.00000  0.00%     -    0s\n",
      "\n",
      "Explored 0 nodes (3 simplex iterations) in 0.01 seconds\n",
      "Thread count was 8 (of 8 available processors)\n",
      "\n",
      "Solution count 2: 155 221 \n",
      "\n",
      "Optimal solution found (tolerance 1.00e-04)\n",
      "Best objective 1.550000000000e+02, best bound 1.550000000000e+02, gap 0.0000%\n",
      "Variable Values:\n",
      "x[1] 1.0\n",
      "x[2] 0.0\n",
      "x[3] 1.0\n",
      "x[4] -0.0\n",
      "x[5] 1.0\n",
      "x[6] 0.0\n",
      "\n",
      "Objective Value: 155.0\n",
      "\n"
     ]
    }
   ],
   "source": [
    "c = np.array([40,65,43,48,72,36])\n",
    "r = np.array([[1,2], [2,3], [1,4], [2,5], [3,5], [3,6], [4,5], [5,6]])\n",
    "\n",
    "m = Model()\n",
    "\n",
    "X = m.addVars([1,2,3,4,5,6], vtype = GRB.BINARY, name = 'x')\n",
    "\n",
    "for j in r:\n",
    "    m.addConstr(X[j[0]] + X[j[1]] >= 1)\n",
    "\n",
    "m.setObjective(np.dot(X.values(),c),GRB.MINIMIZE)\n",
    "\n",
    "m.optimize()\n",
    "\n",
    "printOptimal(m)"
   ]
  },
  {
   "cell_type": "markdown",
   "metadata": {},
   "source": [
    "## 6 (b)\n",
    "![alt text](6diagram.png \"Title\")"
   ]
  },
  {
   "cell_type": "markdown",
   "metadata": {},
   "source": [
    "$$\n",
    "x_i = \\bigg\\{\n",
    "\\begin{align}\n",
    "1 && \\text{ if device installed at intersection } i && \\forall i = 1,\\dots,6 \\\\\n",
    "0 && \\text{otherwise} && \n",
    "\\end{align}$$\n",
    "\n",
    "&nbsp;   \n",
    "$$\\text{max } 2x_1 + 3x_2 + 3x_3 + 2x_4 + 4x_5 + 2x_6\\\\\n",
    "x_1 + x_2 \\leq 1 \\\\\n",
    "x_2 + x_3 \\leq 1 \\\\\n",
    "x_1 + x_4 \\leq 1 \\\\\n",
    "x_2 + x_5 \\leq 1 \\\\\n",
    "x_3 + x_5 \\leq 1 \\\\\n",
    "x_3 + x_6 \\leq 1 \\\\\n",
    "x_4 + x_5 \\leq 1 \\\\\n",
    "x_5 + x_6 \\leq 1 \\\\\n",
    "x_1 + x_2 + x_3 + x_4 + x_5 + x_6 \\leq 2\\\\\n",
    "x_i\\in \\{0,1\\}$$"
   ]
  },
  {
   "cell_type": "code",
   "execution_count": 25,
   "metadata": {},
   "outputs": [
    {
     "name": "stdout",
     "output_type": "stream",
     "text": [
      "Optimize a model with 9 rows, 6 columns and 22 nonzeros\n",
      "Variable types: 0 continuous, 6 integer (6 binary)\n",
      "Coefficient statistics:\n",
      "  Matrix range     [1e+00, 1e+00]\n",
      "  Objective range  [2e+00, 4e+00]\n",
      "  Bounds range     [1e+00, 1e+00]\n",
      "  RHS range        [1e+00, 2e+00]\n",
      "Found heuristic solution: objective 5.0000000\n",
      "Presolve removed 3 rows and 0 columns\n",
      "Presolve time: 0.00s\n",
      "Presolved: 6 rows, 6 columns, 18 nonzeros\n",
      "Variable types: 0 continuous, 6 integer (6 binary)\n",
      "\n",
      "Root relaxation: objective 6.000000e+00, 3 iterations, 0.00 seconds\n",
      "\n",
      "    Nodes    |    Current Node    |     Objective Bounds      |     Work\n",
      " Expl Unexpl |  Obj  Depth IntInf | Incumbent    BestBd   Gap | It/Node Time\n",
      "\n",
      "*    0     0               0       6.0000000    6.00000  0.00%     -    0s\n",
      "\n",
      "Explored 0 nodes (3 simplex iterations) in 0.01 seconds\n",
      "Thread count was 8 (of 8 available processors)\n",
      "\n",
      "Solution count 2: 6 5 \n",
      "\n",
      "Optimal solution found (tolerance 1.00e-04)\n",
      "Best objective 6.000000000000e+00, best bound 6.000000000000e+00, gap 0.0000%\n",
      "Variable Values:\n",
      "x[1] 1.0\n",
      "x[2] 0.0\n",
      "x[3] -0.0\n",
      "x[4] -0.0\n",
      "x[5] 1.0\n",
      "x[6] 0.0\n",
      "\n",
      "Objective Value: 6.0\n",
      "\n"
     ]
    }
   ],
   "source": [
    "r = np.array([[1,2], [2,3], [1,4], [2,5], [3,5], [3,6], [4,5], [5,6]])\n",
    "c = np.array([2,3,3,2,4,2])\n",
    "\n",
    "m = Model()\n",
    "\n",
    "X = m.addVars([1,2,3,4,5,6], vtype = GRB.BINARY, name = 'x')\n",
    "\n",
    "m.addConstr(sum(X.values()) <= 2)\n",
    "\n",
    "for j in r:\n",
    "    m.addConstr(X[j[0]] + X[j[1]] <= 1)\n",
    "\n",
    "m.setObjective(np.dot(X.values(),c),GRB.MAXIMIZE)\n",
    "\n",
    "m.optimize()\n",
    "\n",
    "printOptimal(m)"
   ]
  }
 ],
 "metadata": {
  "celltoolbar": "Edit Metadata",
  "kernelspec": {
   "display_name": "Python 3",
   "language": "python",
   "name": "python3"
  },
  "language_info": {
   "codemirror_mode": {
    "name": "ipython",
    "version": 3
   },
   "file_extension": ".py",
   "mimetype": "text/x-python",
   "name": "python",
   "nbconvert_exporter": "python",
   "pygments_lexer": "ipython3",
   "version": "3.7.3"
  }
 },
 "nbformat": 4,
 "nbformat_minor": 2
}
